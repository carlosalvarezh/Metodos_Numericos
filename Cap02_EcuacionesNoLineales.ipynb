{
 "cells": [
  {
   "cell_type": "markdown",
   "metadata": {},
   "source": [
    "<h1 align=\"center\">Métodos Numéricos</h1>\n",
    "<h1 align=\"center\">Capítulo 2</h1>\n",
    "<h1 align=\"center\">Solución de ecuaciones no lineales</h1>\n",
    "<h1 align=\"center\">2023/02</h1>\n",
    "<h1 align=\"center\">MEDELLÍN - COLOMBIA </h1>"
   ]
  },
  {
   "cell_type": "markdown",
   "metadata": {},
   "source": [
    "<table>\n",
    " <tr align=left><td><img align=left src=\"https://github.com/carlosalvarezh/Metodos_Numericos/blob/master/images/CC-BY.png?raw=true\">\n",
    " <td>Text provided under a Creative Commons Attribution license, CC-BY. All code is made available under the FSF-approved MIT license.(c) Carlos Alberto Alvarez Henao</td>\n",
    "</table> "
   ]
  },
  {
   "cell_type": "markdown",
   "metadata": {},
   "source": [
    "*** \n",
    "\n",
    "***Docente:*** Carlos Alberto Álvarez Henao, I.C. D.Sc.\n",
    "\n",
    "***e-mail:*** carlosalvarezh@gmail.com\n",
    "\n",
    "***skype:*** carlos.alberto.alvarez.henao\n",
    "\n",
    "***Linkedin:*** https://www.linkedin.com/in/carlosalvarez5/\n",
    "\n",
    "***github:*** https://github.com/carlosalvarezh/Metodos_Numericos\n",
    "\n",
    "***Herramienta:*** [Jupyter](http://jupyter.org/)\n",
    "\n",
    "***Kernel:*** [Python 3.9](https://www.python.org/)\n",
    "\n",
    "\n",
    "***"
   ]
  },
  {
   "cell_type": "markdown",
   "metadata": {},
   "source": [
    "<a id='TOC'></a>"
   ]
  },
  {
   "cell_type": "markdown",
   "metadata": {
    "toc": true
   },
   "source": [
    "<h1>Tabla de Contenidos<span class=\"tocSkip\"></span></h1>\n",
    "<div class=\"toc\"><ul class=\"toc-item\"><li><span><a href=\"#Objetivos\" data-toc-modified-id=\"Objetivos-1\"><span class=\"toc-item-num\">1&nbsp;&nbsp;</span>Objetivos</a></span></li><li><span><a href=\"#Definición\" data-toc-modified-id=\"Definición-2\"><span class=\"toc-item-num\">2&nbsp;&nbsp;</span>Definición</a></span><ul class=\"toc-item\"><li><span><a href=\"#Solución-de-Ecuaciones-No-Lineales\" data-toc-modified-id=\"Solución-de-Ecuaciones-No-Lineales-2.1\"><span class=\"toc-item-num\">2.1&nbsp;&nbsp;</span>Solución de Ecuaciones No Lineales</a></span></li><li><span><a href=\"#Número-de-condición\" data-toc-modified-id=\"Número-de-condición-2.2\"><span class=\"toc-item-num\">2.2&nbsp;&nbsp;</span>Número de condición</a></span></li><li><span><a href=\"#Tazas-de-convergencia-y-métodos-iterativos\" data-toc-modified-id=\"Tazas-de-convergencia-y-métodos-iterativos-2.3\"><span class=\"toc-item-num\">2.3&nbsp;&nbsp;</span>Tazas de convergencia y métodos iterativos</a></span><ul class=\"toc-item\"><li><span><a href=\"#error-en-la-iteración-$k$\" data-toc-modified-id=\"error-en-la-iteración-$k$-2.3.1\"><span class=\"toc-item-num\">2.3.1&nbsp;&nbsp;</span>error en la iteración $k$</a></span></li><li><span><a href=\"#Convergencia-de-los-métodos-iterativos\" data-toc-modified-id=\"Convergencia-de-los-métodos-iterativos-2.3.2\"><span class=\"toc-item-num\">2.3.2&nbsp;&nbsp;</span>Convergencia de los métodos iterativos</a></span></li><li><span><a href=\"#Criterios-de-Aproximación\" data-toc-modified-id=\"Criterios-de-Aproximación-2.3.3\"><span class=\"toc-item-num\">2.3.3&nbsp;&nbsp;</span>Criterios de Aproximación</a></span></li></ul></li><li><span><a href=\"#Existencia-de-Raíces\" data-toc-modified-id=\"Existencia-de-Raíces-2.4\"><span class=\"toc-item-num\">2.4&nbsp;&nbsp;</span>Existencia de Raíces</a></span></li><li><span><a href=\"#Funciones-con-várias-raíces:\" data-toc-modified-id=\"Funciones-con-várias-raíces:-2.5\"><span class=\"toc-item-num\">2.5&nbsp;&nbsp;</span>Funciones con várias raíces:</a></span></li></ul></li><li><span><a href=\"#Método-de-las-Búsquedas-Incrementales:\" data-toc-modified-id=\"Método-de-las-Búsquedas-Incrementales:-3\"><span class=\"toc-item-num\">3&nbsp;&nbsp;</span>Método de las Búsquedas Incrementales:</a></span><ul class=\"toc-item\"><li><span><a href=\"#Algoritmo-del-Método-de-las-Búsquedas-Incrementales\" data-toc-modified-id=\"Algoritmo-del-Método-de-las-Búsquedas-Incrementales-3.1\"><span class=\"toc-item-num\">3.1&nbsp;&nbsp;</span>Algoritmo del Método de las Búsquedas Incrementales</a></span></li><li><span><a href=\"#Estructura-del-algoritmo\" data-toc-modified-id=\"Estructura-del-algoritmo-3.2\"><span class=\"toc-item-num\">3.2&nbsp;&nbsp;</span>Estructura del algoritmo</a></span></li></ul></li><li><span><a href=\"#Métodos-cerrados-o-por-intervalos\" data-toc-modified-id=\"Métodos-cerrados-o-por-intervalos-4\"><span class=\"toc-item-num\">4&nbsp;&nbsp;</span>Métodos cerrados o por intervalos</a></span><ul class=\"toc-item\"><li><span><a href=\"#Método-de-Bisección\" data-toc-modified-id=\"Método-de-Bisección-4.1\"><span class=\"toc-item-num\">4.1&nbsp;&nbsp;</span>Método de Bisección</a></span><ul class=\"toc-item\"><li><span><a href=\"#Algoritmo\" data-toc-modified-id=\"Algoritmo-4.1.1\"><span class=\"toc-item-num\">4.1.1&nbsp;&nbsp;</span>Algoritmo</a></span></li><li><span><a href=\"#Características-Método-Bisección\" data-toc-modified-id=\"Características-Método-Bisección-4.1.2\"><span class=\"toc-item-num\">4.1.2&nbsp;&nbsp;</span>Características Método Bisección</a></span></li><li><span><a href=\"#Criterios-de-parada-y-estimación-del-error:\" data-toc-modified-id=\"Criterios-de-parada-y-estimación-del-error:-4.1.3\"><span class=\"toc-item-num\">4.1.3&nbsp;&nbsp;</span>Criterios de parada y estimación del error:</a></span></li><li><span><a href=\"#Código\" data-toc-modified-id=\"Código-4.1.4\"><span class=\"toc-item-num\">4.1.4&nbsp;&nbsp;</span>Código</a></span></li></ul></li><li><span><a href=\"#Método-Regula-Falsi-(Falsa-Posición)\" data-toc-modified-id=\"Método-Regula-Falsi-(Falsa-Posición)-4.2\"><span class=\"toc-item-num\">4.2&nbsp;&nbsp;</span>Método Regula Falsi (Falsa Posición)</a></span><ul class=\"toc-item\"><li><span><a href=\"#Algoritmo\" data-toc-modified-id=\"Algoritmo-4.2.1\"><span class=\"toc-item-num\">4.2.1&nbsp;&nbsp;</span>Algoritmo</a></span></li></ul></li></ul></li><li><span><a href=\"#Métodos-Abiertos\" data-toc-modified-id=\"Métodos-Abiertos-5\"><span class=\"toc-item-num\">5&nbsp;&nbsp;</span>Métodos Abiertos</a></span><ul class=\"toc-item\"><li><span><a href=\"#Iteración-de-Punto-Fijo\" data-toc-modified-id=\"Iteración-de-Punto-Fijo-5.1\"><span class=\"toc-item-num\">5.1&nbsp;&nbsp;</span>Iteración de Punto Fijo</a></span><ul class=\"toc-item\"><li><span><a href=\"#Definición\" data-toc-modified-id=\"Definición-5.1.1\"><span class=\"toc-item-num\">5.1.1&nbsp;&nbsp;</span>Definición</a></span></li><li><span><a href=\"#Teorema-de-punto-fijo\" data-toc-modified-id=\"Teorema-de-punto-fijo-5.1.2\"><span class=\"toc-item-num\">5.1.2&nbsp;&nbsp;</span>Teorema de punto fijo</a></span></li><li><span><a href=\"#Características-del-método-de-Punto-fijo\" data-toc-modified-id=\"Características-del-método-de-Punto-fijo-5.1.3\"><span class=\"toc-item-num\">5.1.3&nbsp;&nbsp;</span>Características del método de Punto fijo</a></span></li><li><span><a href=\"#Ejemplo:-Algunos-esquemas-de-Punto-Fijo:\" data-toc-modified-id=\"Ejemplo:-Algunos-esquemas-de-Punto-Fijo:-5.1.4\"><span class=\"toc-item-num\">5.1.4&nbsp;&nbsp;</span>Ejemplo: Algunos esquemas de Punto Fijo:</a></span></li><li><span><a href=\"#Criterio-de-convergencia-de-la-iteración-de-Punto-Fijo\" data-toc-modified-id=\"Criterio-de-convergencia-de-la-iteración-de-Punto-Fijo-5.1.5\"><span class=\"toc-item-num\">5.1.5&nbsp;&nbsp;</span>Criterio de convergencia de la iteración de Punto Fijo</a></span></li><li><span><a href=\"#Implementación-algoritmo\" data-toc-modified-id=\"Implementación-algoritmo-5.1.6\"><span class=\"toc-item-num\">5.1.6&nbsp;&nbsp;</span>Implementación algoritmo</a></span></li></ul></li><li><span><a href=\"#Método-de-Newton---Raphson\" data-toc-modified-id=\"Método-de-Newton---Raphson-5.2\"><span class=\"toc-item-num\">5.2&nbsp;&nbsp;</span>Método de <em>Newton - Raphson</em></a></span><ul class=\"toc-item\"><li><span><a href=\"#Aproximación-Geométrica\" data-toc-modified-id=\"Aproximación-Geométrica-5.2.1\"><span class=\"toc-item-num\">5.2.1&nbsp;&nbsp;</span>Aproximación Geométrica</a></span></li><li><span><a href=\"#Aproximación-como-Punto-Fijo\" data-toc-modified-id=\"Aproximación-como-Punto-Fijo-5.2.2\"><span class=\"toc-item-num\">5.2.2&nbsp;&nbsp;</span>Aproximación como Punto Fijo</a></span></li><li><span><a href=\"#Aproximación-Analítica\" data-toc-modified-id=\"Aproximación-Analítica-5.2.3\"><span class=\"toc-item-num\">5.2.3&nbsp;&nbsp;</span>Aproximación Analítica</a></span></li><li><span><a href=\"#Análisis-de-Convergencia-del-Método-de-Newton---Raphson\" data-toc-modified-id=\"Análisis-de-Convergencia-del-Método-de-Newton---Raphson-5.2.4\"><span class=\"toc-item-num\">5.2.4&nbsp;&nbsp;</span>Análisis de Convergencia del Método de <em>Newton - Raphson</em></a></span></li><li><span><a href=\"#Implementación-algoritmo-Newton---Raphson\" data-toc-modified-id=\"Implementación-algoritmo-Newton---Raphson-5.2.5\"><span class=\"toc-item-num\">5.2.5&nbsp;&nbsp;</span>Implementación algoritmo Newton - Raphson</a></span></li></ul></li><li><span><a href=\"#Método-de-la-Secante\" data-toc-modified-id=\"Método-de-la-Secante-5.3\"><span class=\"toc-item-num\">5.3&nbsp;&nbsp;</span>Método de la Secante</a></span><ul class=\"toc-item\"><li><span><a href=\"#Consideraciones-al-Método-de-la-Secante:\" data-toc-modified-id=\"Consideraciones-al-Método-de-la-Secante:-5.3.1\"><span class=\"toc-item-num\">5.3.1&nbsp;&nbsp;</span>Consideraciones al Método de la Secante:</a></span></li><li><span><a href=\"#Presentación-Geométrica-del-Método-de-la-Secante:\" data-toc-modified-id=\"Presentación-Geométrica-del-Método-de-la-Secante:-5.3.2\"><span class=\"toc-item-num\">5.3.2&nbsp;&nbsp;</span>Presentación Geométrica del Método de la Secante:</a></span></li><li><span><a href=\"#Implementación-computacional\" data-toc-modified-id=\"Implementación-computacional-5.3.3\"><span class=\"toc-item-num\">5.3.3&nbsp;&nbsp;</span>Implementación computacional</a></span></li></ul></li><li><span><a href=\"#Método-para-calcular-raíces-múltiples-y-en-Polinomios\" data-toc-modified-id=\"Método-para-calcular-raíces-múltiples-y-en-Polinomios-5.4\"><span class=\"toc-item-num\">5.4&nbsp;&nbsp;</span>Método para calcular raíces múltiples y en Polinomios</a></span></li></ul></li></ul></div>"
   ]
  },
  {
   "cell_type": "markdown",
   "metadata": {},
   "source": [
    "## Objetivos"
   ]
  },
  {
   "cell_type": "markdown",
   "metadata": {},
   "source": [
    "- Definir  métodos numéricos para la solución de ecuaciones de una variable utilizando argumentos matemáticos y computacionales.\n",
    "\n",
    "\n",
    "- Determinar las raíces de una Ecuación No Lineal dada, empleando los métodos numéricos de manera eficiente y analizando los problemas de convergencia que puedan presentarse.\n"
   ]
  },
  {
   "cell_type": "markdown",
   "metadata": {},
   "source": [
    "## Definición"
   ]
  },
  {
   "cell_type": "markdown",
   "metadata": {},
   "source": [
    "Dada una ecuación no lineal, $f$, buscamos el valor de $x$ tal que: \n",
    "\n",
    "$$f(x) = 0$$\n",
    "\n",
    "con $f:[a,b]\\rightarrow \\Re$. Dicho valor de solución para $x$ se llama *raíz de la ecuación* y *cero de la función $f$*. Aunque técnicamente tienen significados distintos, estos dos términos se usan más informalmente, con el significado obvio. Por lo tanto, este problema se refiere a menudo como *búsqueda de raíz* (finding roots) o *búsqueda de cero* (finding zeros).\n",
    "\n",
    "Un ejemplo de una ecuación no lineal es:\n",
    "\n",
    "$$f(x)=x^2-4sin(x)=0$$\n"
   ]
  },
  {
   "cell_type": "markdown",
   "metadata": {},
   "source": [
    "Si deseamos determinar los valores de $x$ tales que $f(x)=0$ de esta función, lo primero que debemos hacer es graficar para tener un idea del comportamiento de la función."
   ]
  },
  {
   "cell_type": "code",
   "execution_count": null,
   "metadata": {},
   "outputs": [],
   "source": [
    "# Módulos que se emplearán a lo largo de este capítulo\n",
    "import numpy as np\n",
    "import matplotlib.pyplot as plt"
   ]
  },
  {
   "cell_type": "code",
   "execution_count": null,
   "metadata": {},
   "outputs": [],
   "source": [
    "# función para graficar\n",
    "\n",
    "def grafica(start, stop, step):\n",
    "    x = np.arange(start, stop, step)\n",
    "    f = np.zeros(len(x))\n",
    "    g = funcion(x, start, stop, step)\n",
    "    fig = plt.figure(figsize=(16, 6), dpi= 50, facecolor='w', edgecolor='k')\n",
    "    ax = fig.add_subplot(111)\n",
    "\n",
    "    plt.plot(x, f, '-')\n",
    "    plt.plot(x, g, '-')\n",
    "\n",
    "    idx = np.argwhere(np.diff(np.sign(f - g))).flatten()\n",
    "    plt.plot(x[idx], f[idx], 'ro')\n",
    "    plt.grid(True)\n",
    "    plt.show()\n"
   ]
  },
  {
   "cell_type": "code",
   "execution_count": null,
   "metadata": {},
   "outputs": [],
   "source": [
    "# definición de la función a graficar\n",
    "\n",
    "def funcion(x, start, stop, step):\n",
    "    return x**2 - 4 * np.sin(np.arange(start, stop, step))\n",
    "    #return x**2-3\n",
    "\n",
    "grafica(-4, 4, .000001)"
   ]
  },
  {
   "cell_type": "markdown",
   "metadata": {},
   "source": [
    "En la gráfica se observa que en el intervalo $[-4,4]$ la función tiene dos raíces (atraviesa dos veces el eje $x$). Una en el punto $(0.0,0.0)$ y otra en $(1.9,0.0)$, o por lo menos eso es lo que parece ser, a simple vista. Para tener una verdadera respuesta y no confiar en nuestra apreciación, es necesario emplear métodos numéricos que nos permitan determinar con un mayor grado de exactitud cuáles serían dichos valores. Eso es el tema de este capítulo. "
   ]
  },
  {
   "cell_type": "markdown",
   "metadata": {},
   "source": [
    "Como resumen inicial, para hallar las raíces de una ecuación no lineal se requiere conocer:\n",
    "\n",
    "- Número de raíces de la ecuación en un intervalo dado\n",
    "\n",
    "\n",
    "- Información preliminar:  dominio, rango, continuidad, derivadas, intervalos de  crecimiento, tipos de raíces...\n",
    "\n",
    "\n",
    "- Seleccionar un algoritmo conociendo sus limitaciones y dándole una aproximación inicial.\n"
   ]
  },
  {
   "cell_type": "markdown",
   "metadata": {},
   "source": [
    "### Solución de Ecuaciones No Lineales"
   ]
  },
  {
   "cell_type": "markdown",
   "metadata": {},
   "source": [
    "La existencia y unicidad de soluciones de ecuaciones no-lineales es mucho más complicado, difícil de determinar y con una mayor variedad de comportamientos que los encontrados en la solución de ecuaciones lineales. Para una ecuación lineal existen tres posibilidades: única, infinitas o ninguna solución. Una ecuación no-lineal puede tener cualquier número de posibles soluciones.\n",
    "\n",
    "\n",
    "- Una ecuación no-lineal puede tener múltiples raíces, donde tanto la función como su derivada son iguales a cero. $f(x)=0$ y $f’(x)=0$.\t\n",
    "\n",
    "\n",
    "- En $1D$, esta propiedad significa que la curva tiene una tangente horizontal en el eje $x$.\n",
    "\n",
    "\n",
    "- Si $f(x) = 0$ y $f’(x) \\neq 0$ , entonces se dice que se tiene una raíz simple.\n",
    "\n",
    "Veamos los siguientes ejemplos para las funciones dadas: "
   ]
  },
  {
   "cell_type": "code",
   "execution_count": null,
   "metadata": {
    "scrolled": true
   },
   "outputs": [],
   "source": [
    "def funcion(x, start, stop, step):\n",
    "    return x**2 - 2 * x + 1\n",
    "\n",
    "grafica(0.975, 1.025, 0.00001)\n"
   ]
  },
  {
   "cell_type": "code",
   "execution_count": null,
   "metadata": {},
   "outputs": [],
   "source": [
    "def funcion(x, start, stop, step):\n",
    "    return x**3 - 3 * x**2 + 3 * x -1\n",
    "    #return np.cos(x)\n",
    "\n",
    "#grafica(.999, 1.001, 0.00000001)\n",
    "grafica(.8, 1.1, 0.001)"
   ]
  },
  {
   "cell_type": "markdown",
   "metadata": {},
   "source": [
    "Se observa gráficamente la existencia de una única raíz, pero matemáticamente hay dos y tres raíces, respectivamente.También se observa que cuando la raíz es un máximo/mínimo, $f'(x)=0$, o un punto de inflexión, $f''(x)=0$, es difícil determinar cuál sería el valor exacto de la raíz.\n"
   ]
  },
  {
   "cell_type": "markdown",
   "metadata": {},
   "source": [
    "### Número de condición"
   ]
  },
  {
   "cell_type": "markdown",
   "metadata": {},
   "source": [
    "Una función que tenga una raíz cerca a un punto de inflexión, $f'(x)=0$, es decir, la curva tiene una tangente horizontal en dicha raíz, se denomina una función mal condiconada. \n",
    "\n",
    "<p float=\"center\">\n",
    "  <img src=\"https://github.com/carlosalvarezh/Analisis_Numerico/blob/master/images/C02_Img00_illconditioned.PNG?raw=true\" width=\"350\" />\n",
    "</p>\n",
    "\n",
    "El número de condición para funciones de una variable se define como:\n",
    "\n",
    "$$\\left | \\frac{xf´(x)}{f(x)} \\right |$$\n",
    "\n",
    "El condicionamiento del problema de búsqueda de raíces para una función dada es el opuesto al de evaluar la función: si el valor de la función es insensible al valor del argumento, entonces la raíz será sensible, mientras que si el valor de la función es sensible al argumento, entonces la raíz será insensible.\n"
   ]
  },
  {
   "cell_type": "markdown",
   "metadata": {},
   "source": [
    "### Tazas de convergencia y métodos iterativos"
   ]
  },
  {
   "cell_type": "markdown",
   "metadata": {},
   "source": [
    "- Muchas ecuaciones no-lineales no pueden resolverse aún con un número muy grande de iteraciones.\n",
    "\n",
    "\n",
    "- El costo total de resolver un problema no-lineal depende del costo por iteración y del número de iteraciones requeridas para la convergencia.\n",
    "\n",
    "\n",
    "- Para comparar la efectividad de los métodos iterativos se necesita caracterizar su taza de convergencia.\n"
   ]
  },
  {
   "cell_type": "markdown",
   "metadata": {},
   "source": [
    "#### error en la iteración $k$"
   ]
  },
  {
   "cell_type": "markdown",
   "metadata": {},
   "source": [
    "$$e_{k} = x_{k} – x_{k-1}$$\n",
    "\n",
    "El error en la $k_{\\text{ésima}}$ iteración (actual) se puede definir como la diferencia entre los valores de la solución, $x$, en la $k_{\\text{ésima}}$ iteración y la $k_{\\text{ésima}}-1$ iteración (anterior)."
   ]
  },
  {
   "cell_type": "markdown",
   "metadata": {},
   "source": [
    "#### Convergencia de los métodos iterativos"
   ]
  },
  {
   "cell_type": "markdown",
   "metadata": {},
   "source": [
    "Un método se dice que converge con taza de convergencia $r$ si:\n",
    "\n",
    "$$\\lim_{k \\rightarrow \\infty } \\frac{\\|e_{k}\\|}{\\|e_{k-1}\\|^r}=C$$\n",
    "\n",
    "- Para alguna constante $C \\neq 0$\n",
    "\n",
    "  - si $r = 1$ y $C < 1$, la tasa de convergencia es lineal;\n",
    "    \n",
    "  - si $r > 1$, la tasa de convergencia es superlineal;\n",
    "    \n",
    "  - si $r = 2$, la tasa de convergencia es cuadrática.\n",
    " \n"
   ]
  },
  {
   "cell_type": "markdown",
   "metadata": {},
   "source": [
    "#### Criterios de Aproximación"
   ]
  },
  {
   "cell_type": "markdown",
   "metadata": {},
   "source": [
    "Supongamos que la función $f$ es continua en alguna vecindad de $\\alpha$ que contiene a la sucesión ${x_n}_n$, $n=0,1,2, \\ldots$, y que es tal que: \n",
    "\n",
    "$$\\lim_{n \\rightarrow \\infty} x_n = \\alpha$$\n",
    "\n",
    "Entonces\n",
    "\n",
    "$$\\lim_{n \\rightarrow \\infty} f(x_n) = f(\\alpha) = 0$$\n",
    "\n",
    "y así, dado cualquier número positivo $\\epsilon$, llamado **tolerancia**, existe $N \\in N={0,1,2,\\ldots}$ tal que para todo $n \\geq N$ se tiene que $|f(x_n)|<\\epsilon$\n"
   ]
  },
  {
   "cell_type": "markdown",
   "metadata": {},
   "source": [
    "- Dado un número pequeño $tol$ llamado tolerancia se puede escoger como aproximación a la raíz $\\alpha$ al término $x_N$ de la sucesión mencionada, donde $N$ es el menor entero no-negativo que satisface uno de los siguientes criterios:\n",
    "\n",
    "$$|f(x)| < tol$$\n",
    "\n",
    "$$|x_n - x_{n-1}| < tol$$\n",
    "\n",
    "$$\\frac{|x_n - x_{n-1}|}{x_n} < tol$$"
   ]
  },
  {
   "cell_type": "markdown",
   "metadata": {
    "collapsed": true
   },
   "source": [
    "### Existencia de Raíces"
   ]
  },
  {
   "cell_type": "markdown",
   "metadata": {},
   "source": [
    "El Objetivo de algunos de los métodos para determinar raices de una función no lineal es encontrar un intervalo que contenga al menos una raíz, y se basa en el ***[Teorema del Valor Intermedio](https://en.wikipedia.org/wiki/Intermediate_value_theorem \"TVI\")***:\n",
    "\n",
    "- **Teorema del Valor Intermedio:** Sea $f$ una función continua en el intervalo $[a,b]$ y $k$ es cualquier número entre $f(a)$ y $f(b)$, entonces existe un número $c$ en el intervalo $(a,b)$ tal que $f(c)=k$\n",
    "\n",
    "Otros teoremas del Cálculo que nos servirán para nuestro propósito en el capítulo son:\n",
    "\n",
    "\n",
    "- **Existencia de Raíces:** Sea $f$ una función de variable y valor real definida en $[a,b]$. Si se cumple que:\n",
    "\n",
    "  1. $f$ es continua en el intervalo $[a,b]$\n",
    "\n",
    "  2. $f(a) \\times f(b) < 0$\n",
    "\n",
    "  entonces existe algún $x_m$ en $[a,b]$ que es la raíz de la ecuación $f(x)=0$.\n",
    "  \n",
    "\n",
    "- **Existencia de una única raíz:** Sea $f$ una función de variable y valor real definida en $[a,b]$. Si se cumple que:\n",
    "\n",
    "  1. $f$ es continua en el intervalo $[a,b]$\n",
    "  \n",
    "  2. $f(a) \\times f(b) < 0$\n",
    "  \n",
    "  3. $f$ es diferenciable en $(a,b)$ y $f'(x)$ no cambia de signo para todo $x \\in [a,b]$\n",
    "  \n",
    "  entonces existe un único $x_m$ en $[a,b]$ que es raíz de la ecuación $f(x)=0$."
   ]
  },
  {
   "cell_type": "markdown",
   "metadata": {},
   "source": [
    "### Funciones con várias raíces:"
   ]
  },
  {
   "cell_type": "markdown",
   "metadata": {
    "collapsed": true
   },
   "source": [
    "Las funciones no lineales pueden tener ninguna, una o varias raíces en un intervalo dado, y es necesario localizar cada una de ellas.\n",
    "\n",
    "- La posible existencia de raíces múltiples complica el problema.\n",
    "\n",
    "  - En la vecindad de la raíz, tanto la función como su derivada se acercan a cero.\n",
    " \n",
    "  - Las ecuaciones con un número par de raíces múltiples son tangentes al eje x y no lo cruzan.\n",
    "  \n",
    "  - Las ecuaciones con un número impar de raíces múltiples cruzan al eje x en un punto de inflexión.\n",
    "  \n",
    "  - En caso de raíces múltiples, al no haber cambio de signo, los métodos cerrados no son confiables."
   ]
  },
  {
   "cell_type": "markdown",
   "metadata": {},
   "source": [
    "## Método de las Búsquedas Incrementales:"
   ]
  },
  {
   "cell_type": "markdown",
   "metadata": {},
   "source": [
    "La búsqueda consiste en empezar en un extremo del intervalo de interés y evaluar la función con pequeños incrementos a lo largo del intervalo.\n",
    "- Si la longitud del incremento no es lo suficientemente pequeña, algunas raíces pueden pasar inadvertidas."
   ]
  },
  {
   "cell_type": "markdown",
   "metadata": {},
   "source": [
    "<p float=\"center\">\n",
    "  <img src=\"https://github.com/carlosalvarezh/Analisis_Numerico/blob/master/images/C02_Img01_BusquedaIncremental.jpg?raw=true\" width=\"750\" />\n",
    "</p>\n",
    "\n",
    "<div style=\"text-align: right\"> Fuente: <a href=\"https://www.eafit.edu.co/cultura-eafit/fondo-editorial/colecciones/Paginas/metodos-numericos.aspx\">Correa, F. Métodos Numéricos, Universidad EAFIT</a> </div>"
   ]
  },
  {
   "cell_type": "markdown",
   "metadata": {
    "collapsed": true
   },
   "source": [
    "Si se detecta que una función $f$ es continua en un intervalo $[a,b]$ y que en dicho intervalo se presenta un cambio de signo en los valores de $f(a)$ y $f(b)$, se concluye que existe al menos una raíz en ese intervalo (pueden ser varias). \n",
    "\n",
    "A continuación se propone una opción de cómo podría ser un método que sirva como apoyo inicial a los métodos numéricos para encontrar raíces de forma aproximada en un intervalo dado."
   ]
  },
  {
   "cell_type": "markdown",
   "metadata": {},
   "source": [
    "### Algoritmo del Método de las Búsquedas Incrementales"
   ]
  },
  {
   "cell_type": "markdown",
   "metadata": {},
   "source": [
    "1. Verificar la continidad de $f$ en $[a,b]$ empleando argumentos teóricos.\n",
    "\n",
    "2. Elegir un valor de partida, $x_0$, y un $\\Delta x$ que exprese el tamaño del intervalo que deseamos encontrar.\n",
    "\n",
    "3. Generar una sucesión de valores $x_0, x_1, \\ldots, x_n$ tal que $x_n = x_{n-1} + \\Delta x$\n",
    "\n",
    "4. Hallar el valor de $f(x_n)$ en cada $x_n$ generado.\n",
    "\n",
    "5. Determinar los signos de $f(x_n)$ y $f(x_{n-1})$\n",
    "\n",
    "6. Suspender el proceso cuando se presente un cambio de signo en $f(x_n)$ y $f(x_{n-1})$  o cuando se llegue a un límite de iteraciones sin encontrar dicho cambio."
   ]
  },
  {
   "cell_type": "markdown",
   "metadata": {},
   "source": [
    "### Estructura del algoritmo"
   ]
  },
  {
   "cell_type": "markdown",
   "metadata": {},
   "source": [
    "La estructura de un algoritmo que implemente el método anterior, deberá considerar: \n",
    "\n",
    "- Datos Iniciales\n",
    "\n",
    "- Iniciacilización del ciclo\n",
    "\n",
    "- Ciclo\n",
    "\n",
    "- Verificación de fin de ciclo"
   ]
  },
  {
   "cell_type": "markdown",
   "metadata": {},
   "source": [
    "<p float=\"center\">\n",
    "  <img src=\"https://github.com/carlosalvarezh/Analisis_Numerico/blob/master/images/C02_Img02_BusquedaIncremental.png?raw=true\" width=\"750\" />\n",
    "</p>\n",
    "\n",
    "<div style=\"text-align: right\"> Fuente: <a href=\"https://www.eafit.edu.co/cultura-eafit/fondo-editorial/colecciones/Paginas/metodos-numericos.aspx\">Correa, F. Métodos Numéricos, Universidad EAFIT</a> </div>"
   ]
  },
  {
   "cell_type": "markdown",
   "metadata": {},
   "source": [
    "Analizando la figura anterior se observa:\n",
    "\n",
    "- La función $f$ asociada a la ecuación $f(x)=0$ es continua\n",
    "\n",
    "\n",
    "- En $[x_0, x_1]$ se presenta una ambiguedad en el sentido de que visualmente no es posible determinar si la curva corta el eje $x$ una vez, dos veces o ninguna. Además el método no detectaría un intervalo válido, porque los signos de la evaluación en $x_0$ y $x_1$ son iguales.\n",
    "\n",
    "\n",
    "- En los intervalos $[x_1, x_2]$ y $[x_2, x_3]$ hay dos raíces y el método no las percibe porque no hay cambio de signo en los extremos de los intervalos.\n",
    "\n",
    "\n",
    "- En $[x_3, x_4]$ hay tres raíces. El método solo consigue determinar que existe al menos una, porque hay cambio de signo en los extremos, pero no establece cuántas.\n",
    "\n",
    "\n",
    "- En cada uno de los intervalos $[x_4, x_5]$, $[x_5, x_6]$, $[x_6, x_7]$ y $[x_7, x_8]$ existe una sola raíz y el método consigue detectar su presencia."
   ]
  },
  {
   "cell_type": "markdown",
   "metadata": {},
   "source": [
    "## Métodos cerrados o por intervalos"
   ]
  },
  {
   "cell_type": "markdown",
   "metadata": {},
   "source": [
    "Se caracterizan porque para su ejecución requieren un intervalo que contenga al menos una raíz y en su aplicación se reduce continuamente de tamaño el intervalo manteniendo la raíz en su interior. "
   ]
  },
  {
   "cell_type": "markdown",
   "metadata": {},
   "source": [
    "### Método de Bisección"
   ]
  },
  {
   "cell_type": "markdown",
   "metadata": {},
   "source": [
    "Sea $f$ una función continua en un intervalo $[a,b]$, y $f(a) \\times f(b) < 0$. Por el *[Teorema del Valor Intermedio](https://en.wikipedia.org/wiki/Intermediate_value_theorem \"TVI\")* para funciones continuas, existe al menos un $m \\in (a,b)$, tal que $f(m) = 0$.\n",
    " \n",
    "\n",
    "<p float=\"center\">\n",
    "  <img src=\"https://github.com/carlosalvarezh/Analisis_Numerico/blob/master/images/C02_Img03_Biseccion01.png?raw=true\" width=\"500\" />\n",
    "</p>\n",
    "\n",
    "Este método consiste en dividir sucesivamente el intervalo $[a,b]$, por la mitad, hasta que la longitud del subintervalo que contiene a la raíz $m$ sea menor que alguna tolerancia especificada $\\epsilon$.\n"
   ]
  },
  {
   "cell_type": "markdown",
   "metadata": {},
   "source": [
    "#### Algoritmo"
   ]
  },
  {
   "cell_type": "markdown",
   "metadata": {},
   "source": [
    "- ***Gráfico***\n",
    "\n",
    "<p float=\"center\">\n",
    "  <img src=\"https://github.com/carlosalvarezh/Analisis_Numerico/blob/master/images/C02_Img04_Biseccion02.PNG?raw=true\" width=\"500\" />\n",
    "</p>\n"
   ]
  },
  {
   "cell_type": "markdown",
   "metadata": {},
   "source": [
    "- ***Pseudocódigo***\n",
    "<div style=\"background-color:rgba(0, 0, 0, 0.0470588); padding:10px 0;font-family:monospace;\">\n",
    "Mientras <font color = \"red\">((b-a)>tol)</font> haga:<br>\n",
    "&nbsp;&nbsp;&nbsp;&nbsp; <font color = \"orange\">m $\\leftarrow$ a + (b-a)/2 </font><br>\n",
    "&nbsp;&nbsp;&nbsp;&nbsp; si <font color = \"red\">sign(f(a)) = sign(f(m)) </font> entonces:<br>\n",
    "&nbsp;&nbsp;&nbsp;&nbsp;&nbsp;&nbsp;&nbsp;&nbsp; <font color = \"orange\">a $\\leftarrow$ m</font><br>\n",
    "&nbsp;&nbsp;&nbsp;&nbsp; Si no:<br>\n",
    "&nbsp;&nbsp;&nbsp;&nbsp; &nbsp;&nbsp;&nbsp;&nbsp; <font color = \"orange\" over</font>b $\\leftarrow$ m</font><br>\n",
    "&nbsp;&nbsp;&nbsp;&nbsp; Fin si<br>\n",
    "Fin Mientras<br>\n",
    "<font color = \"orange\">m $\\leftarrow$ a + (b-a)/2 </font>\n",
    "</div>\n"
   ]
  },
  {
   "cell_type": "markdown",
   "metadata": {},
   "source": [
    "```Python\n",
    "mientras ((b-a)>tol) haga:\n",
    "   m <-- a + (b-a)/2\n",
    "   si sign(f(a)) = sign(f(m)) entonces:\n",
    "      a <-- m\n",
    "   si no:\n",
    "      b <-- m\n",
    "   fin si\n",
    "fin mientras\n",
    "m <-- a + (b-a)/2\n",
    "```"
   ]
  },
  {
   "cell_type": "markdown",
   "metadata": {},
   "source": [
    "- ***Diagrama de flujo***\n",
    "\n",
    "<p float=\"center\">\n",
    "  <img src=\"https://github.com/carlosalvarezh/Analisis_Numerico/blob/master/images/C02_Img05_Biseccion_dflujo.png?raw=true\" width=\"500\" />\n",
    "</p>\n",
    "\n",
    "Realizado en el software [pseint](http://pseint.sourceforge.net \"pseint\")"
   ]
  },
  {
   "cell_type": "markdown",
   "metadata": {},
   "source": [
    "#### Características Método Bisección"
   ]
  },
  {
   "cell_type": "markdown",
   "metadata": {},
   "source": [
    "***Ventajas:***\n",
    "\n",
    "- Siempre converge.\n",
    "\n",
    "- Útil como aproximación inicial de otros métodos.\n",
    "\n",
    "***Desventajas:***\n",
    "\n",
    "- No tiene en cuenta la magnitud de los valores de la función en las aproximaciones calculadas $x_n$, solo tiene en cuenta el signo de $f(x)$.\n",
    "\n",
    "- Método linealmente convergente, $r = 1$, $C = 0.5$"
   ]
  },
  {
   "cell_type": "markdown",
   "metadata": {},
   "source": [
    "#### Criterios de parada y estimación del error:"
   ]
  },
  {
   "cell_type": "markdown",
   "metadata": {},
   "source": [
    "- Repetir el método para obtener una aproximación más exacta de la raíz.\n",
    "\n",
    "- Finalizar el cálculo cuando el error se encuentre por debajo de algún nivel prefijado:\n",
    "\n",
    "$$\\epsilon_a = \\frac{|x_r^{(i)}-x_r^{(i-1)}|}{x_r^{(i)}} \\times 100 \\% \\leq Tol$$\n",
    "\n",
    "- donde:\n",
    "\n",
    "  - $i$: iteracion actual\n",
    "  \n",
    "  - $i-1$: iteración anterior\n",
    "\n",
    "\n",
    "- Cada vez se encuentra una aproximación a la raíz cuando se usan bisecciones como:\n",
    "\n",
    "$$x_r=\\frac{|x_u - x_l|}{2}$$"
   ]
  },
  {
   "cell_type": "markdown",
   "metadata": {},
   "source": [
    "- La raíz verdadera se halla en algún lugar dentro del intervalo:\n",
    "\n",
    "$$\\frac{|x_u - x_l|}{2}=\\frac{\\Delta x}{2}$$\n",
    "\n",
    "- La raíz debe situarse en $\\pm \\Delta x / 2$, debido a que:\n",
    "\n",
    "$$\\frac{\\Delta x}{2} = \\frac{|x_r^{(i)}-x_r^{(i-1)}|}{2}$$\n",
    "\n",
    "- La ecuación anterior proporciona un límite superior exacto sobre el error real.\n",
    "\n",
    "\n",
    "- Aunque este método es el más lento, la claridad en el análisis del error lo hace muy atractivo para aplicaciones en ingeniería."
   ]
  },
  {
   "cell_type": "markdown",
   "metadata": {},
   "source": [
    "- Otra ventaja del método de Bisección es que el número de iteraciones requerido para obtener un cierto error absoluto se puede calcular $a – priori$, es decir.\n",
    "\n",
    "\n",
    "- Al momento de empezar las iteraciones, el error absoluto es:\n",
    "\n",
    "$$E_a^{(0)} = |x_u^{(0)} - x_l^{(0)}| = \\Delta x^{(0)}$$\n",
    "\n",
    "- Después de la primera iteración, el error es:\n",
    "\n",
    "$$E_a^{(1)} = \\frac{\\Delta x^{(0)}}{2}$$\n",
    "\n",
    "- El error absoluto correspondiente a la última iteració sería:\n",
    "\n",
    "$$E_{a}^{(n)} = \\frac{\\Delta x^{(0)}}{2^n}$$"
   ]
  },
  {
   "cell_type": "markdown",
   "metadata": {
    "slideshow": {
     "slide_type": "slide"
    }
   },
   "source": [
    "#### Código"
   ]
  },
  {
   "cell_type": "markdown",
   "metadata": {},
   "source": [
    "$$f(x)=x^2-2=0$$\n",
    "\n",
    "en el intervalo $[0,2]$\n",
    "\n",
    "cuya solución exacta es $x = \\sqrt{2}$"
   ]
  },
  {
   "cell_type": "code",
   "execution_count": null,
   "metadata": {},
   "outputs": [],
   "source": [
    "# defino la funcion a trabajar\n",
    "def funcion1(x):\n",
    "    return x**2 - 2"
   ]
  },
  {
   "cell_type": "code",
   "execution_count": null,
   "metadata": {},
   "outputs": [],
   "source": [
    "# Ingreso datos de entrada para los diferentes métodos a trabajar\n",
    "a = float(input(\"Ingrese el valor del extremo izquierdo del intervalo, a: \"))\n",
    "b = float(input(\"Ingrese el valor del extremo derecho del intervalo, b: \"))\n",
    "\n",
    "# guarda valores iniciales\n",
    "a0 = a\n",
    "b0 = b\n",
    "\n",
    "#guarda valores iniciales del error y del número de iteraciones\n",
    "tol = 0.000001 #float(input(\"Ingrese el valor de la tolerancia: \"))\n",
    "nmax = 100 #float(input(\"Ingrese el número máximo de iteraciones: \"))\n",
    "error = 100\n",
    "niter = 0\n"
   ]
  },
  {
   "cell_type": "code",
   "execution_count": null,
   "metadata": {},
   "outputs": [],
   "source": [
    "# Método de Bisección\n",
    "\n",
    "# evaluo primer valor medio\n",
    "m = a + (b - a)/2\n",
    "\n",
    "#Evaluacion de la función en los puntos a, b y m\n",
    "fa = funcion1(a)\n",
    "fb = funcion1(b)\n",
    "fm = funcion1(m)\n",
    "\n",
    "print(\"# iter\\t\\t a \\t\\t f(a) \\t\\t b \\t\\t f(b) \\t\\t m \\t\\t f(m) \\t\\t error\")\n",
    "print(\"{0} \\t\\t {1:6.4f} \\t {2:6.4f} \\t {3:6.4f} \\t {4:6.4f} \\t {5:6.4f} \\t {6:6.4f} \\t {7:6.4f}\".format(niter, a0, fa, b0, fb, m, fm, error ))\n",
    "\n",
    "# ciclo iterativo\n",
    "while error > tol and niter < nmax:\n",
    "    m = a + (b - a) / 2\n",
    "    if np.sign(fa) == np.sign(fm):\n",
    "        a = m\n",
    "        fa = funcion1(a)\n",
    "    else:\n",
    "        b = m\n",
    "        fb = funcion1(b)\n",
    "    \n",
    "    m = a + (b - a)/2\n",
    "    fm = funcion1(m)\n",
    "    error = abs(b - a)\n",
    "    niter += 1\n",
    "    print(\"{0} \\t\\t {1:6.6f} \\t {2:6.6f} \\t {3:6.6f} \\t {4:6.6f} \\t {5:6.6f} \\t {6:6.6f} \\t {7:6.6f}\".format(niter, a, fa, b, fb, m, fm, error ))\n",
    "\n",
    "print(\"La raíz de la función dada en el intervalo [{0:6.4f},{1:6.4f}] es {2:6.7f}\".format(a0,b0,m))"
   ]
  },
  {
   "cell_type": "markdown",
   "metadata": {},
   "source": [
    "[Volver a la Tabla de Contenido](#TOC)"
   ]
  },
  {
   "cell_type": "markdown",
   "metadata": {},
   "source": [
    "### Método Regula Falsi (Falsa Posición)"
   ]
  },
  {
   "cell_type": "markdown",
   "metadata": {},
   "source": [
    "Consideremos una función $f$ continua en un intervalo $[a,b]$, y tal que $f(a) \\times f(b) < 0$. Este método es similar al método de **Bisección** en el sentido de que se generan subintervalos $[a_n, b_n]$, que encierran a la raíz $\\alpha$, pero esta vez $x_n$ no es el punto medio de $[a_n, b_n]$, sino el punto de intersección de la recta que pasa por los puntos $(a_n,f(a_n)), (b_n,f(b_n))$, con el eje $x$, al que le llamaremos $punto$ $intermedio$, $x_m$.\n",
    "\n",
    "La determinación del punto intermedio se da de la siguiente manera: \n",
    "\n",
    "- Se halla la recta que une los puntos $(a, f(a)$) y $(b,f(b))$ mediante la expresión:\n",
    "\n",
    "$$y - f(a) = \\frac{f(b)-f(a)}{(b-a)}(x-a)$$\n",
    "\n",
    "- Como los extremos estan en lados opuestos, se garantiza que la recta toca en algún punto el eje $x$. La coordenada de este punto es $y = (x_m, 0)$. Reemplazando este valor en la ecuación de la recta hallada, y despejando para $x_m$:\n",
    "\n",
    "$$x_m = a - \\frac{f(a)(b-a)}{f(b)-f(a)}$$\n",
    "\n",
    "- Con este punto, se determina el valor de $f(m)$ y su signo, y al igual que con el método de Bisección, se compara con el signo de $f(a)$ y $f(b)$ para reemplazar uno de los dos extremos, $a$ o $b$ por un nuevo valor de $x_m$.\n",
    "\n",
    "\n",
    "- Se repite el proceso hata alcanzar la tolerancia indicada."
   ]
  },
  {
   "cell_type": "markdown",
   "metadata": {},
   "source": [
    "[Volver a la Tabla de Contenido](#TOC)"
   ]
  },
  {
   "cell_type": "markdown",
   "metadata": {},
   "source": [
    "#### Algoritmo"
   ]
  },
  {
   "cell_type": "markdown",
   "metadata": {},
   "source": [
    "- ***Gráfico***\n",
    "\n",
    "<p float=\"center\">\n",
    "  <img src=\"https://github.com/carlosalvarezh/Analisis_Numerico/blob/master/images/C02_Img06_Regula_Falsi.png?raw=true\" width=\"500\" />\n",
    "</p>\n"
   ]
  },
  {
   "cell_type": "markdown",
   "metadata": {},
   "source": [
    "- ***Pseudocódigo*** \n",
    "<div style=\"background-color:rgba(0, 0, 0, 0.0470588); padding:10px 0;font-family:monospace;\">\n",
    "Mientras <font color = \"red\">((b-a)>tol)</font> haga:<br>\n",
    "&nbsp;&nbsp;&nbsp;&nbsp; <font color = \"orange\">m $\\leftarrow$ a - f(a) * (b-a)/(f(b)-f(a)) </font><br>\n",
    "&nbsp;&nbsp;&nbsp;&nbsp; si <font color = \"red\">sign(f(a)) = sign(f(m)) </font> entonces:<br>\n",
    "&nbsp;&nbsp;&nbsp;&nbsp;&nbsp;&nbsp;&nbsp;&nbsp; <font color = \"orange\">a $\\leftarrow$ m</font><br>\n",
    "&nbsp;&nbsp;&nbsp;&nbsp; Si no:<br>\n",
    "&nbsp;&nbsp;&nbsp;&nbsp; &nbsp;&nbsp;&nbsp;&nbsp; <font color = \"orange\" over</font>b $\\leftarrow$ m</font><br>\n",
    "&nbsp;&nbsp;&nbsp;&nbsp; Fin si<br>\n",
    "Fin Mientras<br>\n",
    "<font color = \"orange\">m $\\leftarrow$ a - f(a) * (b-a)/(f(b)-f(a)) </font>\n",
    "</div>\n"
   ]
  },
  {
   "cell_type": "markdown",
   "metadata": {},
   "source": [
    "- ***Diagrama de flujo - Método de Regula Falsi***\n",
    "\n",
    "<p float=\"center\">\n",
    "  <img src=\"https://github.com/carlosalvarezh/Analisis_Numerico/blob/master/images/C02_Img07_RegulaFalsi_dflujo.png?raw=true\" width=\"500\" />\n",
    "</p>\n",
    "\n",
    "Realizado en el software [pseint](http://pseint.sourceforge.net \"pseint\")"
   ]
  },
  {
   "cell_type": "code",
   "execution_count": null,
   "metadata": {},
   "outputs": [],
   "source": [
    "# Escriba aquí su implementación del código"
   ]
  },
  {
   "cell_type": "markdown",
   "metadata": {},
   "source": [
    "## Métodos Abiertos"
   ]
  },
  {
   "cell_type": "markdown",
   "metadata": {},
   "source": [
    "- A diferencia de los *métodos cerrados*, calculan en cada iteración una aproxmación a la raíz, sin necesidad de verificar lo que sucede dentro de un intervalo.\n",
    "\n",
    "\n",
    "- Al igual que los *métodos cerrados*, los *métodos abiertos* generan una sucesión $\\{x_n\\}_{n=0}^{\\infty}$ que se espera converjan a la raíz.\n",
    "\n",
    "\n",
    "- Los *métodos abiertos* no necesariamente converjen en muchos casos, sin embargo, si lo logran hacer, son mucho más eficientes que los métodos cerrados."
   ]
  },
  {
   "cell_type": "markdown",
   "metadata": {},
   "source": [
    "### Iteración de Punto Fijo"
   ]
  },
  {
   "cell_type": "markdown",
   "metadata": {},
   "source": [
    "#### Definición"
   ]
  },
  {
   "cell_type": "markdown",
   "metadata": {},
   "source": [
    "Dada una función $g:\\Re \\rightarrow \\Re$, un valor $x$ tal que \n",
    "\n",
    "$$x=g(x)$$ \n",
    "\n",
    "es llamado *[punto fijo](https://en.wikipedia.org/wiki/Fixed_point_(mathematics) \"Fixed point\") de la función $g$*, si $x$ no cambia cuando se aplica a $g$.\n",
    "\n",
    "<p float=\"center\">\n",
    "  <img src=\"https://github.com/carlosalvarezh/Analisis_Numerico/blob/master/images/C02_Img08a_PuntoFijo.png?raw=true\" width=\"250\" />\n",
    "</p>\n",
    "\n",
    "<div style=\"text-align: right\"> Fuente: <a href=\"https://en.wikipedia.org/wiki/Fixed_point_(mathematics)#/media/File:Fixed_point_example.svg\">Wikipedia</a> </div>\n",
    "\n",
    "En matemáticas, un punto fijo de una función es un elemento del dominio de la función que se asigna a sí mismo por la función. Es decir, $c$ es un punto fijo de la función $f$ si $f(c)=c$.  Geométricamente se puede interpretar como los puntos que intersectan las funciones $y=x$ (una recta a $45^{\\circ}$) y $y=f(x)$."
   ]
  },
  {
   "cell_type": "markdown",
   "metadata": {},
   "source": [
    "#### Teorema de punto fijo"
   ]
  },
  {
   "cell_type": "markdown",
   "metadata": {},
   "source": [
    "Si $g$ es una función continua en $[a,b]$, y $g(x) \\in [a,b] \\vee x \\in [a,b]$, entonces $g$ tiene por lo menos un punto fijo en $[a,b]$. Si además, $g’(x)$ existe $\\vee x \\in (a,b)$, y $|g’(x)|\\leq K < 1 \\vee x \\in (a,b)$, $K$ constante, entonces $g$ tiene un único punto fijo $x \\in [a,b]$, y se tiene la sucesión $\\{x_n\\}_{n=0}^\\infty$ definida mediante la fórmula de iteración:\n",
    "\n",
    "$$x_{n+1} = g(x_{n}), n = 1, 2, 3, \\ldots$$\n",
    "\n",
    "Esta sucesión es más conocida como [Iteración de Punto Fijo](https://en.wikipedia.org/wiki/Fixed-point_iteration)"
   ]
  },
  {
   "cell_type": "markdown",
   "metadata": {},
   "source": [
    "#### Características del método de Punto fijo"
   ]
  },
  {
   "cell_type": "markdown",
   "metadata": {},
   "source": [
    "<p float=\"center\">\n",
    "  <img src=\"https://github.com/carlosalvarezh/Analisis_Numerico/blob/master/images/C02_Img08_PuntoFijo.jpg?raw=true\" width=\"500\" />\n",
    "</p>\n",
    "\n",
    "<div style=\"text-align: right\"> Fuente: <a href=\"https://www.eafit.edu.co/cultura-eafit/fondo-editorial/colecciones/Paginas/metodos-numericos.aspx\">Correa, F. Métodos Numéricos, Universidad EAFIT</a> </div>"
   ]
  },
  {
   "cell_type": "markdown",
   "metadata": {},
   "source": [
    "- El comportamiento de los esquemas de punto fijo puede variar ampliamente desde la divergencia, lenta convergencia, a la rápida convergencia.\n",
    "\n",
    "\n",
    "- La vía más simple (aunque no más general) de caracterizar el comportamiento de la iteración de punto fijo es considerar la derivada de $g$ en una solución $\\hat{x}$. \n",
    "\n",
    "\n",
    "- Si $\\hat{x}=g(\\hat{x})$ y $|g’(\\hat{x})|<1$, entonces el esquema es localmente convergente. Es decir, existe un intervalo conteniendo $\\hat{x}$ tal que el correspondiente esquema iterativo es convergente si comienza dentro del intervalo.\n"
   ]
  },
  {
   "cell_type": "markdown",
   "metadata": {},
   "source": [
    "<p float=\"center\">\n",
    "  <img src=\"https://github.com/carlosalvarezh/Analisis_Numerico/blob/master/images/C02_Img09_PuntoFijo.PNG?raw=true\" width=\"500\" />\n",
    "</p>"
   ]
  },
  {
   "cell_type": "markdown",
   "metadata": {},
   "source": [
    "#### Ejemplo: Algunos esquemas de Punto Fijo:"
   ]
  },
  {
   "cell_type": "markdown",
   "metadata": {},
   "source": [
    "Para una ecuación dada $f(x)=0$, puede haber muchos problemas de punto fijo equivalentes $x=g(x)$ con diferentes opciones para la función $g$. Pero no todas las formulaciones de punto fijo son igualmente útiles para derivar un esquema de iteración para resolver una ecuación no lineal dada. Los esquemas de iteración resultantes pueden diferir no solo en sus tasas de convergencia, sino también en si convergen en absoluto.\n",
    "\n",
    "Como ejemplo, veamos la siguiente ecuación no lineal:\n",
    "\n",
    "$$f(x)=x^2-x-2=0$$\n",
    "\n",
    "cualquiera de las siguientes opciones\n",
    "\n",
    "$$g_1(x)=x^2-2$$\n",
    "\n",
    "$$g_2(x)=\\sqrt{x+2}$$\n",
    "\n",
    "$$g_3(x)=1+\\frac{2}{x}$$\n",
    "\n",
    "$$g_4(x)=\\frac{x^2+2}{2x-1}$$\n",
    "\n",
    "\n"
   ]
  },
  {
   "cell_type": "code",
   "execution_count": null,
   "metadata": {
    "scrolled": false
   },
   "outputs": [],
   "source": [
    "x = np.arange(1, 3, 0.1)\n",
    "\n",
    "fig = plt.figure(figsize=(20, 10), dpi= 50, facecolor='w', edgecolor='k')\n",
    "ax = fig.add_subplot(111)\n",
    "\n",
    "fn = x**2 - x - 2\n",
    "g1 = x** 2 - 2\n",
    "g2 = np.sqrt(x + 2)\n",
    "g3 = 1 + 2 / x\n",
    "g4 = (x**2 + 2) / (2 * x - 1)\n",
    "\n",
    "l0, = plt.plot(x, fn, '--')\n",
    "l1, = ax.plot(x, x, '-')\n",
    "l2, = ax.plot(x, g1, '--o')\n",
    "l3, = ax.plot(x, g2, 'r.')\n",
    "l4, = ax.plot(x, g3, 's-.')\n",
    "l5, = ax.plot(x, g4, 'g-')\n",
    "\n",
    "ax.legend((l0, l2, l3, l4, l5), ('$f(x)=x^2-x-2$','$g_1(x)=x^2-2$', '$g_2(x)=\\sqrt{x + 2}$', '$g_3(x)=1+2/x$', '$g_4(x)=(x^2+2)/(2x-1)$'), loc='upper right', shadow=True)\n",
    "plt.axis([1, 3, -1, 4]) \n",
    "plt.axvline(x=2,color = 'b')\n",
    "\n",
    "plt.grid(True)\n",
    "plt.show()\n"
   ]
  },
  {
   "cell_type": "markdown",
   "metadata": {},
   "source": [
    "Gráficamente se observa que todos los esquemas resultantes convergen en un mismo punto (conocido como el punto fijo), y es coincidente con el valor de la raiz, donde $f(x)=0$. Por separado se muestra gráficamente cómo sería el esquema iterativo para cada una de ellas:\n",
    "\n",
    "\n",
    "<p float=\"center\">\n",
    "  <img src=\"https://github.com/carlosalvarezh/Analisis_Numerico/blob/master/images/C02_Img11_PuntoFijo.PNG?raw=true\" width=\"350\" />\n",
    "</p>\n",
    "\n",
    "<div style=\"text-align: right\"> Fuente: <a href=\"http://heath.cs.illinois.edu/scicomp/\">Michael T. Heath: Scientific Computing: An Introductory Survey</a> </div>\n",
    "\n",
    "En las gráficas anteriores, una flecha vertical corresponde a la evaluación de la función en un punto, y una flecha horizontal que apunta a la línea $y = x$ indica que el resultado de la evaluación de la función anterior se usa como argumento para la siguiente. Para la primera de estas funciones, incluso con un punto de partida muy cercano a la solución, el esquema de iteración diverge. Para las otras tres funciones, el esquema de iteración converge al punto fijo incluso si se inicia relativamente lejos de la solución, aunque las tasas aparentes de convergencia varían algo."
   ]
  },
  {
   "cell_type": "markdown",
   "metadata": {},
   "source": [
    "#### Criterio de convergencia de la iteración de Punto Fijo"
   ]
  },
  {
   "cell_type": "markdown",
   "metadata": {},
   "source": [
    "El comportamiento de los esquemas de iteración de punto fijo puede variar ampliamente, desde la divergencia hasta la convergencia lenta y la convergencia rápida. ¿Qué marca la diferencia? La forma más simple (aunque no la más general) de caracterizar el comportamiento de un esquema iterativo $x_{k+1}=g(x_k)$ para el problema de punto fijo $x=g(x)$ es considerar la derivada de $g$ en la solución $x^*$, asumiendo que $g$ es suave. En particular, si $x^*=g(x^*)$ y\n",
    "\n",
    "$$|g'(x^*)|<1$$\n",
    "\n",
    "entonces el esquema iterativo es *localmente convergente*, es decir, hay un intervalo que contiene $x^*$ tal que el esquema iterativo correspondiente es convergente si se inicia dentro de ese intervalo. Si, por otro lado, $|g'(x^*)|>1$, entonces el esquema iterativo correspondiente diverge."
   ]
  },
  {
   "cell_type": "markdown",
   "metadata": {},
   "source": [
    "#### Implementación algoritmo"
   ]
  },
  {
   "cell_type": "code",
   "execution_count": null,
   "metadata": {
    "scrolled": true
   },
   "outputs": [],
   "source": [
    "import numpy as np\n",
    "# Implemente aquí su código para el esquema de Punto Fijo\n",
    "\n",
    "def g(x):\n",
    "    return x**2 - 2\n",
    "    #return np.sqrt(x + 2)\n",
    "\n",
    "x0 = 1.999999\n",
    "tol = 0.000001\n",
    "error = 100\n",
    "nmaxiter = 100\n",
    "niter = 0\n",
    "\n",
    "print(\"#iter \\t x \\t\\t g(x) \\t\\t error\")\n",
    "print(\"{0:d}\\t{1:8.6f}\\t{2:8.6f}\\t{3:8.6f}\".format(niter,x0,g(x0),error))\n",
    "\n",
    "while error > tol and niter < nmaxiter:\n",
    "    x1 = g(x0)\n",
    "    niter += 1\n",
    "    error = abs(x1 - x0)\n",
    "    print(\"{0:d}\\t{1:8.6f}\\t{2:8.6f}\\t{3:8.6f}\".format(niter,x0,x1,error))\n",
    "    x0 = x1\n"
   ]
  },
  {
   "cell_type": "markdown",
   "metadata": {},
   "source": [
    "### Método de *Newton - Raphson*"
   ]
  },
  {
   "cell_type": "markdown",
   "metadata": {},
   "source": [
    "<p float=\"center\">\n",
    "  <img src=\"https://github.com/carlosalvarezh/Analisis_Numerico/blob/master/images/C02_Img12a_NewtonRaphson.gif?raw=true\" width=\"500\" />\n",
    "</p>\n",
    "\n",
    "<div style=\"text-align: right\"> Fuente: <a href=\"https://en.wikipedia.org/wiki/File:NewtonIteration_Ani.gif\">Wikipedia</a> </div>"
   ]
  },
  {
   "cell_type": "markdown",
   "metadata": {},
   "source": [
    "Una de las mayores dificultades de los esquemas de iteración de *Punto Fijo* es poder determinar la relación $x=g(x)$ adecuada, que converja y que sea rápido. Como se observó en el numeral anterior, no cualquier esquema de *Punto Fijo* garantiza la convergencia, además de que existen múltiples posibles opciones. \n",
    "\n",
    "El método de [Newton](https://en.wikipedia.org/wiki/Newton%27s_method) - [Raphson](https://en.wikipedia.org/wiki/Joseph_Raphson) surge como respuesta a estas dificultades. Es uno de los métodos más usados en aplicaciones prácticas debido a su rapidéz y efectividad. Para un adecuado análisis se presentarán tres acercamientos al método desde puntos de vista diferentes:\n",
    "\n",
    "  - Geométrico\n",
    "  \n",
    "  - como Punto Fijo\n",
    "  \n",
    "  - Analítico"
   ]
  },
  {
   "cell_type": "markdown",
   "metadata": {},
   "source": [
    "#### Aproximación Geométrica"
   ]
  },
  {
   "cell_type": "markdown",
   "metadata": {},
   "source": [
    "Conocido también como el método de las tangentes, tal como se presenta en la siguiente figura\n"
   ]
  },
  {
   "cell_type": "markdown",
   "metadata": {},
   "source": [
    "<p float=\"center\">\n",
    "  <img src=\"https://github.com/carlosalvarezh/Analisis_Numerico/blob/master/images/C02_Img12_NewtonRaphson.jpg?raw=true\" width=\"500\" />\n",
    "</p>\n",
    "\n",
    "<div style=\"text-align: right\"> Fuente: <a href=\"http://heath.cs.illinois.edu/scicomp/\">Michael T. Heath: Scientific Computing: An Introductory Survey</a> </div>"
   ]
  },
  {
   "cell_type": "markdown",
   "metadata": {},
   "source": [
    "Los valores de $x_0, x_1, \\ldots, x_n$ se obtienen como el punto de corte con el eje $x$ de las rectas tangentes a la curva $y = f(x)$ en los puntos $(x_0,f(x_0))$, $(x_1,f(x_1))$, $\\ldots$,$(x_n,f(x_n))$.\n",
    "\n",
    "La ecuación de la recta tangente tangente a la curva $y = f(x)$ en el punto $(x_0, f(x_0))$, está dada por la expresión:\n",
    "\n",
    "$$y - f(x_0)=f'(x_0)(x-x_0)$$\n",
    "\n",
    "Sustituyendo en esta ecuación la coordenada del punto intersección de la recta tangente $(x_1,0)$ y despejando para $x_1$:\n",
    "\n",
    "$$x_1=x_0-\\frac{f(x_0)}{f'(x_0)}$$\n",
    "\n",
    "Continuando de forma recursiva para cada uno de los puntos $x_i$:\n",
    "\n",
    "$$x_{n+1}=x_n-\\frac{f(x_n)}{f'(x_n)}$$\n"
   ]
  },
  {
   "cell_type": "markdown",
   "metadata": {},
   "source": [
    "#### Aproximación como Punto Fijo"
   ]
  },
  {
   "cell_type": "markdown",
   "metadata": {},
   "source": [
    "De la ecuación anterior, se puede observar que tiene la forma de punto fijo: $x = g(x)$."
   ]
  },
  {
   "cell_type": "markdown",
   "metadata": {},
   "source": [
    "#### Aproximación Analítica"
   ]
  },
  {
   "cell_type": "markdown",
   "metadata": {},
   "source": [
    "Aproximando la función $f$ por $series$ $de$ $Taylor$:\n",
    "\n",
    "Sea $f \\in C^2[a,b]$, $\\hat{x} \\in [a,b]$ y $x_v \\in [a,b]$ tal que $f(x_v)=0$ y $\\hat{x}$ es un valor muy cercano a $x_v$, entonces, el polinomio de $Taylor$ con dos términos para aproximar $f(x)$ alrededor de $\\hat{x} \\in [a,b]$ es:\n",
    "\n",
    "$$f(x)=f(\\hat{x})+f'(\\hat{x})(x-\\hat{x})+\\frac{f''(\\xi)}{2!}(x-\\hat{x})^2$$\n",
    "\n",
    "donde, $\\xi$ es un valor que está entre $x$ y $\\hat{x}$. Si $\\hat{x}$ es muy cercano a $x$, es decir, $|x - \\hat{x}| \\approx 0$ entonces $|x - \\hat{x}|^2$ es aún más cercano a $0$ y si $|f''(\\xi)|$ también es pequeño, la ecuación anterior se reduce a:\n",
    "\n",
    "$$0 \\approx f(\\hat{x})+f'(\\hat{x})(x-\\hat{x})$$\n",
    "\n",
    "despejando $x$ y generando la sucesión de iteración:\n",
    "\n",
    "$$x_{n+1} = x_n-\\frac{f(x_n)}{f'(x_n)}$$"
   ]
  },
  {
   "cell_type": "markdown",
   "metadata": {},
   "source": [
    "#### Análisis de Convergencia del Método de *Newton - Raphson*"
   ]
  },
  {
   "cell_type": "markdown",
   "metadata": {},
   "source": [
    "Según el *[Teorema de Taylor](https://en.wikipedia.org/wiki/Taylor%27s_theorem)*, cualquier función $f(x)$ que tenga una segunda derivada continua se puede representar mediante una expansión alrededor de un punto cercano a la raíz de $f(x)$. Suponga que esta raíz es $\\alpha$. Entonces la expansión de $f(\\alpha)$ sobre $x_n$ es:\n",
    "\n",
    "$$f(\\alpha) = f(x_n)+f'(x_n)(\\alpha-x_n)+R_1$$\n",
    "\n",
    "con\n",
    "\n",
    "$$R_1=\\frac{1}{2!}f''(\\xi_n)(\\alpha-x_n)^2$$\n",
    "\n",
    "siendo el término residual, y $\\xi_n$ es un valor real entre $x_n$ y $\\alpha$. Si $\\alpha$ es una raíz de la ecuación anterior, ésta se convierte en\n",
    "\n",
    "$$0=f(\\alpha)=f(x_n)+f'(x_n)(\\alpha-x_n)+\\frac{1}{2}f''(\\xi_n)(\\alpha-x_n)^2$$\n",
    "\n",
    "dividiendo esta ecuación por $f'(x_n)$ y reorganizando términos, se tiene\n",
    "\n",
    "$$\\frac{f(x_n)}{f'(x_n)}+(\\alpha-x_n)=\\frac{-f''(\\xi_n)}{2f'(x_n)}(\\alpha-x_n)^2$$\n",
    "\n",
    "Recordando que $x_{n+1}$ se define como\n",
    "\n",
    "$$x_{n+1}=x_n-\\frac{f(x_n)}{f'(x_n)}$$\n",
    "\n",
    "se encuentra que\n",
    "\n",
    "$$\\underbrace{\\alpha-x_{n+1}}_{\\varepsilon_{n+1}}=\\frac{-f''(\\xi_n)}{2f'(x_n)}(\\underbrace{\\alpha-x_n}_{\\varepsilon_{n}})^2$$\n",
    "\n",
    "esto es, y tomando valor absoluto a ambos lados de la ecuación, se tiene\n",
    "\n",
    "$$|\\varepsilon_{n+1}|=\\frac{|f''(\\xi_n)|}{2|f'(x_n)|}\\varepsilon_{n}^2$$\n",
    "\n",
    "Esta ecuación muestra que la [tasa de convergencia](https://en.wikipedia.org/wiki/Rate_of_convergence) es al menos cuadrática si se cumplen las siguientes condiciones:"
   ]
  },
  {
   "cell_type": "markdown",
   "metadata": {},
   "source": [
    "<div class=\"alert alert alert-success\">\n",
    "$\\color{red}{\\textbf{Actividad para ser realizada por el estudiante:}}$ Revisar en la literatura cuáles serían estas condiciones a ser satisfechas. Dentro de las condiciones hay una de \"suficientemente cerca\". A qué se refiere? Dar una explicación con sus propias palabras, más allá de la brindada por la terminología matemática encontrada. Puede explicarlo empleando una gráfica?\n",
    "</div>\n"
   ]
  },
  {
   "cell_type": "markdown",
   "metadata": {},
   "source": [
    "#### Implementación algoritmo Newton - Raphson"
   ]
  },
  {
   "cell_type": "code",
   "execution_count": 1,
   "metadata": {},
   "outputs": [],
   "source": [
    "# Escriba aquí su implementación del código"
   ]
  },
  {
   "cell_type": "markdown",
   "metadata": {},
   "source": [
    "### Método de la Secante"
   ]
  },
  {
   "cell_type": "markdown",
   "metadata": {},
   "source": [
    "La mayor limitante que tiene el método de *Newton* es la evaluación explícita de la derivada y cuando ella es cero, o muy cercana a cero, en la raíz.\n",
    "\n",
    "Recordando que la derivada se define como:\n",
    "\n",
    "$$f'(x_n) = \\lim_{x \\to x_n} \\frac{f(x)-f(x_n)}{x-x_n}$$\n",
    "\n",
    "Aproximando el valor límite evaluando en algún punto $x_{n-1}$,\n",
    "\n",
    "$$f'(x_n) \\approx \\frac{f(x_{n-1})-f(x_n)}{x_{n-1}-x_n}$$\n",
    "\n",
    "y sustituyendo la derivada en el denominador de la ecuación de iteración en el método de $Newton$:\n",
    "\n",
    "$$x_{n+1}=x_n - f(x_n)\\frac{x_n-x_{n-1}}{f(x_n)-f(x_{n-1})}$$"
   ]
  },
  {
   "cell_type": "markdown",
   "metadata": {},
   "source": [
    "<p float=\"center\">\n",
    "  <img src=\"https://github.com/carlosalvarezh/Analisis_Numerico/blob/master/images/C02_Img13_Secante.png?raw=true\" width=\"350\" />\n",
    "</p>\n",
    "\n",
    "<div style=\"text-align: right\"> Fuente: <a href=\"https://en.wikipedia.org/wiki/File:NewtonIteration_Ani.gif\">Wikipedia</a> </div>"
   ]
  },
  {
   "cell_type": "markdown",
   "metadata": {},
   "source": [
    "#### Consideraciones al Método de la Secante:"
   ]
  },
  {
   "cell_type": "markdown",
   "metadata": {},
   "source": [
    "- se requieren dos valores iniciales: $x_0$ y $x_1$. \n",
    "\n",
    "- A partir de estos dos valores se obtiene $x_2$ y así sucesivamente\n",
    "\n",
    "- El método de la Secante es muy similar al método de la Regula Falsi"
   ]
  },
  {
   "cell_type": "markdown",
   "metadata": {},
   "source": [
    "#### Presentación Geométrica del Método de la Secante:"
   ]
  },
  {
   "cell_type": "markdown",
   "metadata": {},
   "source": [
    "Supongamos conocidos los valores $x_0$ y $x_1$, con estos valores se tienen sus respectivas coordenadas $(x_0 , f(x_0))$ y $(x_1 , f(x_1))$. Con estos puntos se puede determinar la ecuación de la línea recta:\n",
    "\n",
    "$$y - f(x_1)=\\frac{f(x_1)-f(x_0)}{x_1 - x_0}(x - x_1)$$\n",
    "\n",
    "el valor $x_2$ es el punto de intersección de la recta secante generada con los puntos $x_0$ y $x_1$ y el eje $x$, y tiene por coordenadas $(x_2, 0)$. Reemplazando este punto en la ecuación anterior se obtiene:\n",
    "\n",
    "$$x_2=x_1-\\frac{f(x_1)-f(x_0)}{x_1 - x_0}(x - x_1)$$\n",
    "\n",
    "siguiendo el mismo razonamiento, se obtiene la sucesión $\\{x_n\\}_{n=0} ^{\\infty}$"
   ]
  },
  {
   "cell_type": "markdown",
   "metadata": {},
   "source": [
    "#### Implementación computacional"
   ]
  },
  {
   "cell_type": "code",
   "execution_count": null,
   "metadata": {},
   "outputs": [],
   "source": [
    "# Escriba aquí su implementación del código"
   ]
  },
  {
   "cell_type": "markdown",
   "metadata": {},
   "source": [
    "### Método para calcular raíces múltiples y en Polinomios"
   ]
  },
  {
   "cell_type": "markdown",
   "metadata": {},
   "source": [
    "Se deja como actividad para los estudiantes.\n",
    "\n",
    "\n",
    "<div class=\"alert alert alert-success\">\n",
    "$\\color{red}{\\textbf{Actividad para ser realizada por el estudiante:}}$ Revisar en la literatura el tema de multiplicidad de raíces empleando los métodos de Newton modificado y <a href=\"https://en.wikipedia.org/wiki/Horner's_method\">Horner</a>. Elabore un breve informe explicando cada uno de ellos y resaltando sus ventajas y desventajas. En qué casos sería más conveniente su utilización y en qué casos no. Realice un pseudocódigo y su codificación en el lenguaje de programación de su preferencia. Elabore un ejemplo y realice un análisis de resultados y sus respectivas conclusiones.\n",
    "</div>\n"
   ]
  },
  {
   "cell_type": "code",
   "execution_count": null,
   "metadata": {},
   "outputs": [],
   "source": [
    "from IPython.core.display import HTML\n",
    "def css_styling():\n",
    "    styles = open('./nb_style.css', 'r').read()\n",
    "    return HTML(styles)\n",
    "css_styling()"
   ]
  }
 ],
 "metadata": {
  "anaconda-cloud": {},
  "kernelspec": {
   "display_name": "Python 3 (ipykernel)",
   "language": "python",
   "name": "python3"
  },
  "language_info": {
   "codemirror_mode": {
    "name": "ipython",
    "version": 3
   },
   "file_extension": ".py",
   "mimetype": "text/x-python",
   "name": "python",
   "nbconvert_exporter": "python",
   "pygments_lexer": "ipython3",
   "version": "3.11.3"
  },
  "toc": {
   "base_numbering": 1,
   "nav_menu": {},
   "number_sections": true,
   "sideBar": true,
   "skip_h1_title": true,
   "title_cell": "Tabla de Contenidos",
   "title_sidebar": "Contenidos",
   "toc_cell": true,
   "toc_position": {
    "height": "calc(100% - 180px)",
    "left": "10px",
    "top": "150px",
    "width": "173px"
   },
   "toc_section_display": true,
   "toc_window_display": true
  }
 },
 "nbformat": 4,
 "nbformat_minor": 2
}
