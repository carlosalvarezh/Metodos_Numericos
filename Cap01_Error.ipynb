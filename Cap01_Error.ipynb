{
 "cells": [
  {
   "cell_type": "markdown",
   "metadata": {
    "slideshow": {
     "slide_type": "slide"
    }
   },
   "source": [
    "<h1 align=\"center\">Análisis Numérico</h1>\n",
    "<h1 align=\"center\">Capítulo 1</h1>\n",
    "<h1 align=\"center\">Error y Representación de números en el computador</h1>\n",
    "<h1 align=\"center\">2023/02</h1>\n",
    "<h1 align=\"center\">MEDELLÍN - COLOMBIA </h1>"
   ]
  },
  {
   "cell_type": "markdown",
   "metadata": {
    "slideshow": {
     "slide_type": "subslide"
    }
   },
   "source": [
    "<table>\n",
    " <tr align=left><td><img align=left src=\"https://github.com/carlosalvarezh/Metodos_Numericos/blob/master/images/CC-BY.png?raw=true\">\n",
    " <td>Text provided under a Creative Commons Attribution license, CC-BY. All code is made available under the FSF-approved MIT license.(c) Carlos Alberto Alvarez Henao</td>\n",
    "</table> "
   ]
  },
  {
   "cell_type": "markdown",
   "metadata": {
    "slideshow": {
     "slide_type": "subslide"
    }
   },
   "source": [
    "*** \n",
    "\n",
    "***Docente:*** Carlos Alberto Álvarez Henao, I.C. D.Sc.\n",
    "\n",
    "***e-mail:*** carlosalvarezh@gmail.com\n",
    "\n",
    "***skype:*** carlos.alberto.alvarez.henao\n",
    "\n",
    "***Linkedin:*** https://www.linkedin.com/in/carlosalvarez5/\n",
    "\n",
    "***github:*** https://github.com/carlosalvarezh/Metodos_Numericos\n",
    "\n",
    "***Herramienta:*** [Jupyter](http://jupyter.org/)\n",
    "\n",
    "***Kernel:*** Python 3.8\n",
    "\n",
    "\n",
    "***"
   ]
  },
  {
   "cell_type": "markdown",
   "metadata": {
    "slideshow": {
     "slide_type": "skip"
    }
   },
   "source": [
    "<a id='TOC'></a>"
   ]
  },
  {
   "cell_type": "markdown",
   "metadata": {
    "slideshow": {
     "slide_type": "skip"
    },
    "toc": true
   },
   "source": [
    "<h1>Tabla de Contenidos<span class=\"tocSkip\"></span></h1>\n",
    "<div class=\"toc\"><ul class=\"toc-item\"><li><span><a href=\"#Fuentes-de-error\" data-toc-modified-id=\"Fuentes-de-error-1\"><span class=\"toc-item-num\">1&nbsp;&nbsp;</span>Fuentes de error</a></span><ul class=\"toc-item\"><li><span><a href=\"#Error-en-el-modelo-y-los-datos\" data-toc-modified-id=\"Error-en-el-modelo-y-los-datos-1.1\"><span class=\"toc-item-num\">1.1&nbsp;&nbsp;</span>Error en el modelo y los datos</a></span></li><li><span><a href=\"#Error-de-truncamiento\" data-toc-modified-id=\"Error-de-truncamiento-1.2\"><span class=\"toc-item-num\">1.2&nbsp;&nbsp;</span>Error de truncamiento</a></span></li><li><span><a href=\"#Error-de--representación-de-punto-fotante\" data-toc-modified-id=\"Error-de--representación-de-punto-fotante-1.3\"><span class=\"toc-item-num\">1.3&nbsp;&nbsp;</span>Error de  representación de punto fotante</a></span></li><li><span><a href=\"#Definiciones-básicas\" data-toc-modified-id=\"Definiciones-básicas-1.4\"><span class=\"toc-item-num\">1.4&nbsp;&nbsp;</span>Definiciones básicas</a></span><ul class=\"toc-item\"><li><span><a href=\"#Error-absoluto\" data-toc-modified-id=\"Error-absoluto-1.4.1\"><span class=\"toc-item-num\">1.4.1&nbsp;&nbsp;</span>Error absoluto</a></span></li><li><span><a href=\"#Error-relativo\" data-toc-modified-id=\"Error-relativo-1.4.2\"><span class=\"toc-item-num\">1.4.2&nbsp;&nbsp;</span>Error relativo</a></span></li></ul></li></ul></li><li><span><a href=\"#Notación-$\\text{Big}-\\mathcal{O}$\" data-toc-modified-id=\"Notación-$\\text{Big}-\\mathcal{O}$-2\"><span class=\"toc-item-num\">2&nbsp;&nbsp;</span>Notación $\\text{Big}-\\mathcal{O}$</a></span><ul class=\"toc-item\"><li><span><a href=\"#Reglas-para-el-error-de-propagación-basado-en-la-notación-$\\text{Big}-\\mathcal{O}$\" data-toc-modified-id=\"Reglas-para-el-error-de-propagación-basado-en-la-notación-$\\text{Big}-\\mathcal{O}$-2.1\"><span class=\"toc-item-num\">2.1&nbsp;&nbsp;</span>Reglas para el error de propagación basado en la notación $\\text{Big}-\\mathcal{O}$</a></span></li></ul></li><li><span><a href=\"#Error-de-truncamiento\" data-toc-modified-id=\"Error-de-truncamiento-3\"><span class=\"toc-item-num\">3&nbsp;&nbsp;</span>Error de truncamiento</a></span><ul class=\"toc-item\"><li><span><a href=\"#Laboratorio-Numérico-1\" data-toc-modified-id=\"Laboratorio-Numérico-1-3.1\"><span class=\"toc-item-num\">3.1&nbsp;&nbsp;</span>Laboratorio Numérico 1</a></span></li></ul></li><li><span><a href=\"#Error-de-punto-flotante\" data-toc-modified-id=\"Error-de-punto-flotante-4\"><span class=\"toc-item-num\">4&nbsp;&nbsp;</span>Error de punto flotante</a></span><ul class=\"toc-item\"><li><span><a href=\"#Aritmética-de-punto-flotante\" data-toc-modified-id=\"Aritmética-de-punto-flotante-4.1\"><span class=\"toc-item-num\">4.1&nbsp;&nbsp;</span>Aritmética de punto flotante</a></span></li><li><span><a href=\"#Notación-de-punto-flotante\" data-toc-modified-id=\"Notación-de-punto-flotante-4.2\"><span class=\"toc-item-num\">4.2&nbsp;&nbsp;</span>Notación de punto flotante</a></span></li><li><span><a href=\"#Propiedades-de-los-sistemas-de-punto-flotante\" data-toc-modified-id=\"Propiedades-de-los-sistemas-de-punto-flotante-4.3\"><span class=\"toc-item-num\">4.3&nbsp;&nbsp;</span>Propiedades de los sistemas de punto flotante</a></span></li><li><span><a href=\"#Sistema-Binario\" data-toc-modified-id=\"Sistema-Binario-4.4\"><span class=\"toc-item-num\">4.4&nbsp;&nbsp;</span>Sistema Binario</a></span><ul class=\"toc-item\"><li><span><a href=\"#Numero-y-distribución-de-números\" data-toc-modified-id=\"Numero-y-distribución-de-números-4.4.1\"><span class=\"toc-item-num\">4.4.1&nbsp;&nbsp;</span>Numero y distribución de números</a></span></li></ul></li><li><span><a href=\"#Sistema-real---IEEE-754-sistema-binario-de-punto-flotante\" data-toc-modified-id=\"Sistema-real---IEEE-754-sistema-binario-de-punto-flotante-4.5\"><span class=\"toc-item-num\">4.5&nbsp;&nbsp;</span>Sistema real - <a href=\"https://en.wikipedia.org/wiki/IEEE_754\" target=\"_blank\">IEEE 754</a> sistema binario de punto flotante</a></span><ul class=\"toc-item\"><li><span><a href=\"#Precisión-simple\" data-toc-modified-id=\"Precisión-simple-4.5.1\"><span class=\"toc-item-num\">4.5.1&nbsp;&nbsp;</span>Precisión simple</a></span></li><li><span><a href=\"#Precisión-doble\" data-toc-modified-id=\"Precisión-doble-4.5.2\"><span class=\"toc-item-num\">4.5.2&nbsp;&nbsp;</span>Precisión doble</a></span></li></ul></li><li><span><a href=\"#Acceso-de-Python-a-números-de-la-IEEE\" data-toc-modified-id=\"Acceso-de-Python-a-números-de-la-IEEE-4.6\"><span class=\"toc-item-num\">4.6&nbsp;&nbsp;</span>Acceso de Python a números de la IEEE</a></span></li><li><span><a href=\"#Calculo-&quot;manual&quot;-del-$\\epsilon_{mach}$\" data-toc-modified-id=\"Calculo-&quot;manual&quot;-del-$\\epsilon_{mach}$-4.7\"><span class=\"toc-item-num\">4.7&nbsp;&nbsp;</span>Calculo \"manual\" del $\\epsilon_{mach}$</a></span></li></ul></li><li><span><a href=\"#Por-qué-debería-importarnos-esto?\" data-toc-modified-id=\"Por-qué-debería-importarnos-esto?-5\"><span class=\"toc-item-num\">5&nbsp;&nbsp;</span>Por qué debería importarnos esto?</a></span><ul class=\"toc-item\"><li><span><a href=\"#Ejemplo-1:-Aritmética-simple\" data-toc-modified-id=\"Ejemplo-1:-Aritmética-simple-5.1\"><span class=\"toc-item-num\">5.1&nbsp;&nbsp;</span>Ejemplo 1: Aritmética simple</a></span></li><li><span><a href=\"#Ejemplo-2:-Cancelación-catastrófica\" data-toc-modified-id=\"Ejemplo-2:-Cancelación-catastrófica-5.2\"><span class=\"toc-item-num\">5.2&nbsp;&nbsp;</span>Ejemplo 2: Cancelación catastrófica</a></span></li><li><span><a href=\"#Ejemplo-3:-Evaluación-de-una-función\" data-toc-modified-id=\"Ejemplo-3:-Evaluación-de-una-función-5.3\"><span class=\"toc-item-num\">5.3&nbsp;&nbsp;</span>Ejemplo 3: Evaluación de una función</a></span></li><li><span><a href=\"#Ejemplo-4:-Evaluación-de-un-Polinomio\" data-toc-modified-id=\"Ejemplo-4:-Evaluación-de-un-Polinomio-5.4\"><span class=\"toc-item-num\">5.4&nbsp;&nbsp;</span>Ejemplo 4: Evaluación de un Polinomio</a></span></li><li><span><a href=\"#Ejemplo-5:-Evaluación-de-una-función-racional\" data-toc-modified-id=\"Ejemplo-5:-Evaluación-de-una-función-racional-5.5\"><span class=\"toc-item-num\">5.5&nbsp;&nbsp;</span>Ejemplo 5: Evaluación de una función racional</a></span></li></ul></li><li><span><a href=\"#Combinación-de-error\" data-toc-modified-id=\"Combinación-de-error-6\"><span class=\"toc-item-num\">6&nbsp;&nbsp;</span>Combinación de error</a></span><ul class=\"toc-item\"><li><span><a href=\"#Ejemplo-1:\" data-toc-modified-id=\"Ejemplo-1:-6.1\"><span class=\"toc-item-num\">6.1&nbsp;&nbsp;</span>Ejemplo 1:</a></span></li><li><span><a href=\"#Ejemplo-2:\" data-toc-modified-id=\"Ejemplo-2:-6.2\"><span class=\"toc-item-num\">6.2&nbsp;&nbsp;</span>Ejemplo 2:</a></span></li><li><span><a href=\"#Ejemplo-3:-Error-relativo\" data-toc-modified-id=\"Ejemplo-3:-Error-relativo-6.3\"><span class=\"toc-item-num\">6.3&nbsp;&nbsp;</span>Ejemplo 3: Error relativo</a></span></li></ul></li><li><span><a href=\"#Operaciones-de-conteo\" data-toc-modified-id=\"Operaciones-de-conteo-7\"><span class=\"toc-item-num\">7&nbsp;&nbsp;</span>Operaciones de conteo</a></span><ul class=\"toc-item\"><li><span><a href=\"#Ejemplo-1:-Multiplicación-matriz---vector\" data-toc-modified-id=\"Ejemplo-1:-Multiplicación-matriz---vector-7.1\"><span class=\"toc-item-num\">7.1&nbsp;&nbsp;</span>Ejemplo 1: Multiplicación matriz - vector</a></span></li><li><span><a href=\"#Ejemplo-2:-Método-de-Horner-para-evaluar-polinomios\" data-toc-modified-id=\"Ejemplo-2:-Método-de-Horner-para-evaluar-polinomios-7.2\"><span class=\"toc-item-num\">7.2&nbsp;&nbsp;</span>Ejemplo 2: Método de Horner para evaluar polinomios</a></span></li><li><span><a href=\"#Algoritmo\" data-toc-modified-id=\"Algoritmo-7.3\"><span class=\"toc-item-num\">7.3&nbsp;&nbsp;</span>Algoritmo</a></span></li></ul></li></ul></div>"
   ]
  },
  {
   "cell_type": "markdown",
   "metadata": {
    "slideshow": {
     "slide_type": "subslide"
    }
   },
   "source": [
    "***Comentario:*** este capítulo está basado en parte de las  notas del curso del profesor [Kyle T. Mandli](https://github.com/mandli/intro-numerical-methods) (en inglés)"
   ]
  },
  {
   "cell_type": "markdown",
   "metadata": {
    "slideshow": {
     "slide_type": "slide"
    }
   },
   "source": [
    "<p float=\"center\">\n",
    "  <img src=\"https://github.com/carlosalvarezh/Analisis_Numerico/blob/master/images/C01_Img01.png?raw=true\" width=\"500\" />\n",
    "</p>\n",
    "\n",
    "<div style=\"text-align: right\"> Fuente: <a href=\"https://www.bugsnag.com/blog/bug-day-ariane-5-disaster\">Ariane 5 Explosion</a> </div>"
   ]
  },
  {
   "cell_type": "code",
   "execution_count": 6,
   "metadata": {
    "slideshow": {
     "slide_type": "subslide"
    }
   },
   "outputs": [],
   "source": [
    "#Bibliotecas a ser utilizadas en el Notebook\n",
    "import numpy as np\n",
    "import matplotlib.pyplot as plt\n",
    "import sympy\n",
    "import scipy.special\n"
   ]
  },
  {
   "cell_type": "markdown",
   "metadata": {
    "slideshow": {
     "slide_type": "subslide"
    }
   },
   "source": [
    "## Fuentes de error"
   ]
  },
  {
   "cell_type": "markdown",
   "metadata": {
    "slideshow": {
     "slide_type": "subslide"
    }
   },
   "source": [
    "Los cálculos numéricos, que involucran el uso de máquinas (análogas o digitales) presentan una serie de errores que provienen de diferentes fuentes:\n",
    "\n",
    "- del Modelo\n",
    "\n",
    "- de los datos\n",
    "\n",
    "- de truncamiento\n",
    "\n",
    "- de representación de los números (punto flotante)\n",
    "\n",
    "- $ \\ldots$\n",
    "\n",
    "***Meta:*** Categorizar y entender cada tipo de error y explorar algunas aproximaciones simples para analizarlas."
   ]
  },
  {
   "cell_type": "markdown",
   "metadata": {
    "slideshow": {
     "slide_type": "subslide"
    }
   },
   "source": [
    "### Error en el modelo y los datos"
   ]
  },
  {
   "cell_type": "markdown",
   "metadata": {
    "slideshow": {
     "slide_type": "fragment"
    }
   },
   "source": [
    "Errores en la formulación fundamental\n",
    "\n",
    "- Error en los datos: imprecisiones en las mediciones o incertezas en los parámetros\n",
    "\n",
    "Infortunadamente no tenemos control de los errores en los datos y el modelo de forma directa pero podemos usar métodos que pueden ser más robustos en la presencia de estos tipos de errores."
   ]
  },
  {
   "cell_type": "markdown",
   "metadata": {
    "slideshow": {
     "slide_type": "subslide"
    }
   },
   "source": [
    "### Definiciones"
   ]
  },
  {
   "cell_type": "markdown",
   "metadata": {
    "slideshow": {
     "slide_type": "fragment"
    }
   },
   "source": [
    "Los errores numéricos se generan con el uso de aproximaciones para representar las operaciones y cantidades matemáticas. La relación entre el resultado exacto o verdadero y el aproximado está dada por:\n",
    "\n",
    "$$\\text{valor verdadero = aproximación + error}$$\n",
    "\n",
    "De lo anterior se concluye que el error numérico resulta de la diferencia entre el valor verdadero y la aproximación,\n",
    "\n",
    "$$\\text{error = valor verdadero – aproximación}$$\n",
    "\n",
    "***Pregunta:*** ¿ Qué tanto error se presenta en los cálculos y qué tan tolerable es?"
   ]
  },
  {
   "cell_type": "markdown",
   "metadata": {
    "slideshow": {
     "slide_type": "subslide"
    }
   },
   "source": [
    "- ***Error de redondeo:*** Se deben a que la computadora sólo puede representar cantidades con un número finito de dígitos. \n",
    "<br/><br/>\n",
    "- ***Error de truncamiento:*** Representa la diferencia entre una formulación matemática exacta de un problema y la aproximación dada por el método numérico.\n",
    "<br/><br/>\n",
    "- ***Cifras significativas de un número:*** Aquellas que pueden ser usadas en forma confiable.\n",
    "<br/><br/>\n",
    "- ***Exactitud:*** Se refiere a qué tan cercano está el valor calculado o medido con el valor verdadero.\n",
    "<br/><br/>\n",
    "- ***Precisión:*** Se refiere a qué tan cercano está un valor individual medido o calculado respecto a otros.\n",
    "<br/><br/>\n",
    "- ***Inexactitud (sesgo):*** Se define como un alejamiento sistemático de la verdad.\n",
    "<br/><br/>\n",
    "- ***Imprecisión (incertidumbre):*** Se refiere a la magnitud del esparcimiento de las predicciones en la técnica numérica.\n"
   ]
  },
  {
   "cell_type": "markdown",
   "metadata": {
    "slideshow": {
     "slide_type": "subslide"
    }
   },
   "source": [
    "<p float=\"center\">\n",
    "  <img src=\"https://github.com/carlosalvarezh/Metodos_Numericos/blob/master/images/C01_Img03_PrecisionExactitud.PNG?raw=true\" width=\"350\" />\n",
    "</p>"
   ]
  },
  {
   "cell_type": "markdown",
   "metadata": {
    "slideshow": {
     "slide_type": "subslide"
    }
   },
   "source": [
    "### Error"
   ]
  },
  {
   "cell_type": "markdown",
   "metadata": {
    "slideshow": {
     "slide_type": "fragment"
    }
   },
   "source": [
    "Dado un valor verdadero (exacto) de una función $f$ y una solución aproximada $F$, se define:"
   ]
  },
  {
   "cell_type": "markdown",
   "metadata": {
    "slideshow": {
     "slide_type": "subslide"
    }
   },
   "source": [
    "#### Error absoluto"
   ]
  },
  {
   "cell_type": "markdown",
   "metadata": {
    "slideshow": {
     "slide_type": "fragment"
    }
   },
   "source": [
    "Es la diferencia (tomada como el valor absoluto) entre el valor exacto $f$ y el valor aproximado $F$ de una cantidad. También se puede interpretar como la \"distancia\" entre esas dos cantidades, y se representa matemáticamente como:\n",
    "\n",
    "$$e_a=|f-F|$$"
   ]
  },
  {
   "cell_type": "markdown",
   "metadata": {
    "slideshow": {
     "slide_type": "subslide"
    }
   },
   "source": [
    "***Ejemplo:*** se realiza una medición y se obtiene un valor aproximado de $29.99$ *m*. Asumiendo que el valor exacto de dicha medición debería ser de $30.00$ *m*, ¿cuál es el error absoluto obtenido? Cuál sería el error absoluto si se disminuye un orden de magnitud las cantidades?"
   ]
  },
  {
   "cell_type": "code",
   "execution_count": 7,
   "metadata": {
    "slideshow": {
     "slide_type": "fragment"
    }
   },
   "outputs": [],
   "source": [
    "f = 30.00\n",
    "F = 29.99"
   ]
  },
  {
   "cell_type": "code",
   "execution_count": 8,
   "metadata": {
    "slideshow": {
     "slide_type": "fragment"
    }
   },
   "outputs": [
    {
     "name": "stdout",
     "output_type": "stream",
     "text": [
      "0.0100\n"
     ]
    }
   ],
   "source": [
    "ea = abs(f - F)\n",
    "print(\"{0:6.4f}\".format(ea)) "
   ]
  },
  {
   "cell_type": "code",
   "execution_count": 9,
   "metadata": {
    "slideshow": {
     "slide_type": "fragment"
    }
   },
   "outputs": [],
   "source": [
    "# reduciendo un órden de magnitud las cantidades\n",
    "\n",
    "f = 3.00\n",
    "F = 2.99"
   ]
  },
  {
   "cell_type": "code",
   "execution_count": 10,
   "metadata": {
    "slideshow": {
     "slide_type": "fragment"
    }
   },
   "outputs": [
    {
     "name": "stdout",
     "output_type": "stream",
     "text": [
      "0.0100\n"
     ]
    }
   ],
   "source": [
    "ea = abs(f - F)\n",
    "print(\"{0:6.4f}\".format(ea)) "
   ]
  },
  {
   "cell_type": "markdown",
   "metadata": {
    "slideshow": {
     "slide_type": "fragment"
    }
   },
   "source": [
    "Se observa que el valor del error absoluto es igual ($\\approx 0.01$), independiente del orden de magnitud de las cantidades. Es imposible determinar en cuál tipo de medición se presentó un mayor error (diferencia entre el valor exacto y el valor aproximado)"
   ]
  },
  {
   "cell_type": "markdown",
   "metadata": {
    "slideshow": {
     "slide_type": "subslide"
    }
   },
   "source": [
    "#### Error relativo"
   ]
  },
  {
   "cell_type": "markdown",
   "metadata": {
    "slideshow": {
     "slide_type": "fragment"
    }
   },
   "source": [
    "Representa la relación que hay entre el error absoluto y el valor exacto. Se expresa generalmente como un porcentaje o fracción:\n",
    "\n",
    "$$e_r (\\%)= \\frac{e_a}{|f|}=\\frac{|f-F|}{|f|} \\times 100 \\%$$"
   ]
  },
  {
   "cell_type": "markdown",
   "metadata": {
    "slideshow": {
     "slide_type": "subslide"
    }
   },
   "source": [
    "***Ejemplo:*** Repetir el ejemplo anterior, pero calculando el error relativo porcentual."
   ]
  },
  {
   "cell_type": "code",
   "execution_count": 11,
   "metadata": {
    "slideshow": {
     "slide_type": "fragment"
    }
   },
   "outputs": [],
   "source": [
    "f = 30.0\n",
    "F = 29.9"
   ]
  },
  {
   "cell_type": "code",
   "execution_count": 12,
   "metadata": {
    "slideshow": {
     "slide_type": "fragment"
    }
   },
   "outputs": [
    {
     "name": "stdout",
     "output_type": "stream",
     "text": [
      "0.3333%\n"
     ]
    }
   ],
   "source": [
    "er = abs(f - F) / f * 100\n",
    "print(\"{0:6.4f}%\".format(er))"
   ]
  },
  {
   "cell_type": "code",
   "execution_count": 13,
   "metadata": {
    "slideshow": {
     "slide_type": "fragment"
    }
   },
   "outputs": [],
   "source": [
    "# reduciendo un órden de magnitud las cantidades\n",
    "\n",
    "f = 3.0\n",
    "F = 2.9"
   ]
  },
  {
   "cell_type": "code",
   "execution_count": 14,
   "metadata": {
    "slideshow": {
     "slide_type": "fragment"
    }
   },
   "outputs": [
    {
     "name": "stdout",
     "output_type": "stream",
     "text": [
      "3.3333%\n"
     ]
    }
   ],
   "source": [
    "er = abs(f - F) / f * 100\n",
    "print(\"{0:6.4f}%\".format(er))"
   ]
  },
  {
   "cell_type": "markdown",
   "metadata": {
    "slideshow": {
     "slide_type": "fragment"
    }
   },
   "source": [
    "Se observa que los resultados son diferentes y es mayor cuando las cantidades medidas son menores.\n",
    "\n",
    "Entre las dos formas de representar el error, la relativa es más consistente con la magnitud de lo que se está midiendo."
   ]
  },
  {
   "cell_type": "markdown",
   "metadata": {
    "slideshow": {
     "slide_type": "subslide"
    }
   },
   "source": [
    "## Representación de Números en el computador"
   ]
  },
  {
   "cell_type": "markdown",
   "metadata": {
    "slideshow": {
     "slide_type": "subslide"
    }
   },
   "source": [
    "### Aritmética finita"
   ]
  },
  {
   "cell_type": "markdown",
   "metadata": {
    "slideshow": {
     "slide_type": "fragment"
    }
   },
   "source": [
    "Cada número del computador se representa mediante un número finito de dígitos. Este conjunto, que sólo contiene [números racionales](https://es.wikipedia.org/wiki/N%C3%BAmero_racional), es llamado conjunto de números de punto flotante.\n"
   ]
  },
  {
   "cell_type": "markdown",
   "metadata": {
    "slideshow": {
     "slide_type": "fragment"
    }
   },
   "source": [
    "Los números en sistemas de [punto flotante](https://en.wikipedia.org/wiki/Floating-point_arithmetic \"Floating point arithmetic\") se expresan como una serie de bits que representan diferentes partes de un número. En los sistemas de punto flotante normalizados, existen algunas convenciones estándar para el uso de estos bits. En general, los números se almacenan representándolos en la forma\n",
    "\n",
    "$$fl(x) = \\sigma (0.d_1 d_2 d_3 \\ldots d_p)_\\beta \\times \\beta^E$$\n",
    "\n",
    "donde los digitos $\\{d_i\\}_{i=1}^p$ son enteros tales que $0\\leq d_i \\leq \\beta-1$ y $d_1 \\neq 0$ y $\\sigma$ representa el signo del número ($+1$ ó $-1$)\n"
   ]
  },
  {
   "cell_type": "markdown",
   "metadata": {
    "slideshow": {
     "slide_type": "subslide"
    }
   },
   "source": [
    "El sistema se caracteriza por cuatro números enteros:\n",
    "\n",
    "- la *base* $\\beta>1$. Para el sistema binario $\\beta = 2$, para decimal $\\beta = 10$, etc.\n",
    "<br/><br/>\n",
    "\n",
    "- La precisión $p \\geq 1$, que representa la cantidad de dígitos significativos, y\n",
    "<br/><br/>\n",
    "\n",
    "- el *exponente* $E$, que es un entero en el rango $[E_{\\min}, E_{\\max}]$\n",
    "<br/><br/>\n",
    "\n",
    "Los puntos importantes en cualquier sistema de punto flotante son:\n",
    "\n",
    "1. Existe un conjunto discreto y finito de números representables.\n",
    "<br/><br/>\n",
    "\n",
    "2. Estos números representables no están distribuidos uniformemente en la recta de los reales.\n",
    "<br/><br/>\n",
    "\n",
    "3. La aritmética en sistemas de punto flotante produce resultados diferentes de la aritmética de precisión infinita (es decir, matemática \"real\")"
   ]
  },
  {
   "attachments": {},
   "cell_type": "markdown",
   "metadata": {
    "slideshow": {
     "slide_type": "subslide"
    }
   },
   "source": [
    "$E$ satisface $E_{min} ≤ E ≤ E_{max}$,\t\n",
    "\n",
    "con $E_{min}$ y $E_{max}$ enteros, los cuales varían de acuerdo con el computador.  Generalmente,  $E_{min} = - E_{max}$  o  $E_{min} = - E_{max} ± 1$.\n",
    "\n",
    "- Si $E$ llega a ser mayor que $E_{max}$, entonces se dice que el número se ha desbordado ([overflow](https://en.wikipedia.org/wiki/Integer_overflow)); es decir, es demasiado grande para representarlo en la máquina. \n",
    "<br/><br/>\n",
    "\n",
    "  - El desbordamiento suele ocurrir cuando se intenta dividirlo entre un número muy pequeño, por lo general cero, y el programador debe estar atento ante estas situaciones. \n",
    "<br/><br/>\n",
    "\n",
    "- Se produce un vaciamiento ([underflow](https://en.wikipedia.org/wiki/Arithmetic_underflow)) cuando e se hace más pequeño que $E_{min}$; en este caso, algunos computadores reajustan el valor del número a cero y continúan el cálculo; otros muestran un mensaje de error."
   ]
  },
  {
   "cell_type": "markdown",
   "metadata": {
    "slideshow": {
     "slide_type": "subslide"
    }
   },
   "source": [
    "***Ejemplos:***\n",
    "\n",
    "- $257.76 = 2 \\times 10^2 + 5 \\times 10^1 + 7 \\times 10^0 + 7 \\times 10^{-1} + 6 \\times 10^{-2}$\n",
    "<br/><br/>\n",
    "- $256.78$ es escrito como $+0.25678 \\times 10^3$\n",
    "<br/><br/>\n",
    "- $0.003678$ es escrito como $+0.3678 \\times 10^{-2}$\n",
    "<br/><br/>\n",
    "- $-256.78$ es escrito como $-0.25678 \\times 10^3$\n",
    "<br/><br/>\n",
    "- $241506800 = 0.2415068 \\times 10^9$ donde\n",
    "\n",
    "  - Signo: $+$\n",
    "  - Mantisa: $2415068$\n",
    "  - Base: $10$\n",
    "  - Exponente: $9$"
   ]
  },
  {
   "cell_type": "markdown",
   "metadata": {
    "slideshow": {
     "slide_type": "subslide"
    }
   },
   "source": [
    "### Notación de punto flotante"
   ]
  },
  {
   "cell_type": "markdown",
   "metadata": {
    "slideshow": {
     "slide_type": "fragment"
    }
   },
   "source": [
    "Es común encontrar la siguiente notación para representar un conjunto de números de punto flotante:\n",
    "\n",
    "$$F(\\beta, p, E_{min}, E_{max})$$"
   ]
  },
  {
   "cell_type": "markdown",
   "metadata": {
    "slideshow": {
     "slide_type": "subslide"
    }
   },
   "source": [
    "### Propiedades de los sistemas de punto flotante"
   ]
  },
  {
   "cell_type": "markdown",
   "metadata": {
    "slideshow": {
     "slide_type": "fragment"
    }
   },
   "source": [
    "Todos los sistemas de punto flotante se caracterizan por varios números importantes\n",
    "\n",
    "- Número normalizado reducido ([*underflow*](https://en.wikipedia.org/wiki/Arithmetic_underflow) si está por debajo, relacionado con números sub-normales alrededor de cero)\n",
    "<br/><br/>\n",
    "\n",
    "- Número normalizado más grande ([*overflow*](https://en.wikipedia.org/wiki/Integer_overflow))\n",
    "<br/><br/>\n",
    "\n",
    "- Cero\n",
    "<br/><br/>\n",
    "\n",
    "- $\\epsilon$ o $\\epsilon_{mach}$\n",
    "<br/><br/>\n",
    "\n",
    "- `Inf` y `nan`"
   ]
  },
  {
   "cell_type": "markdown",
   "metadata": {
    "slideshow": {
     "slide_type": "subslide"
    }
   },
   "source": [
    "***Ejemplo: Sistema de juguete***"
   ]
  },
  {
   "cell_type": "markdown",
   "metadata": {
    "slideshow": {
     "slide_type": "fragment"
    }
   },
   "source": [
    "Considere el sistema decimal de 2 digitos de  precisión (normalizado)\n",
    "\n",
    "$$F(10,2,-2,0)$$\n",
    "\n",
    "$$f = \\pm 0.d_1d_2 \\times 10^E$$\n",
    "\n",
    "con $E \\in [-2, 0]$.\n",
    "\n",
    "**Numero y distribución de números**\n",
    "\n",
    "\n",
    "1. Cuántos números pueden representarse con este sistema?\n",
    "<br/><br/>\n",
    "\n",
    "2. Cuál es la distribución en la línea real?\n",
    "<br/><br/>\n",
    "\n",
    "3. Cuáles son los límites underflow y overflow?"
   ]
  },
  {
   "cell_type": "markdown",
   "metadata": {
    "slideshow": {
     "slide_type": "subslide"
    }
   },
   "source": [
    "Cuántos números pueden representarse con este sistema?\n",
    "\n",
    "$$f = \\pm 0.d_1d_2 \\times 10^E ~~~ \\text{con} ~~~ E \\in [-2, 0]$$\n",
    "\n",
    "$$2 \\times 9 \\times 10 \\times 3 + 1 = 541$$"
   ]
  },
  {
   "cell_type": "markdown",
   "metadata": {
    "slideshow": {
     "slide_type": "fragment"
    }
   },
   "source": [
    "Cuál es la distribución en la recta \"real\"?"
   ]
  },
  {
   "cell_type": "code",
   "execution_count": 15,
   "metadata": {
    "slideshow": {
     "slide_type": "subslide"
    }
   },
   "outputs": [
    {
     "data": {
      "image/png": "[encoded data removed]",
      "text/plain": [
       "<Figure size 1000x100 with 1 Axes>"
      ]
     },
     "metadata": {},
     "output_type": "display_data"
    }
   ],
   "source": [
    "d_1_values = [1, 2, 3, 4, 5, 6, 7, 8, 9]\n",
    "d_2_values = [0, 1, 2, 3, 4, 5, 6, 7, 8, 9]\n",
    "E_values = [-2, -1, 0]\n",
    "\n",
    "fig = plt.figure(figsize=(10.0, 1.0))\n",
    "axes = fig.add_subplot(1, 1, 1)\n",
    "\n",
    "for E in E_values:\n",
    "    for d1 in d_1_values:\n",
    "        for d2 in d_2_values:\n",
    "            axes.plot( (d1 + d2 * 0.1) * 10**E, 0.0, 'r+', markersize=20)\n",
    "            axes.plot(-(d1 + d2 * 0.1) * 10**E, 0.0, 'r+', markersize=20)\n",
    "            \n",
    "axes.plot(0.0, 0.0, '+', markersize=20)\n",
    "axes.plot([-10.0, 10.0], [0.0, 0.0], 'k')\n",
    "\n",
    "axes.set_title(\"Distribución de Valores\")\n",
    "axes.set_yticks([])\n",
    "axes.set_xlabel(\"x\")\n",
    "axes.set_ylabel(\"\")\n",
    "axes.set_xlim([-1., 1.0])\n",
    "plt.show()"
   ]
  },
  {
   "cell_type": "markdown",
   "metadata": {
    "slideshow": {
     "slide_type": "subslide"
    }
   },
   "source": [
    "Cuáles son los límites superior (overflow) e inferior (underflow)?\n",
    "\n",
    "- El menor número que puede ser representado (underflow) es: $0.10 \\times 10^{-2} = 0.01$\n",
    "<br/><br/>\n",
    "- El mayor número que puede ser representado (overflow) es:  $0.99 \\times 10^0 = 0.99$"
   ]
  },
  {
   "cell_type": "markdown",
   "metadata": {
    "slideshow": {
     "slide_type": "slide"
    }
   },
   "source": [
    "### Sistema Binario"
   ]
  },
  {
   "cell_type": "markdown",
   "metadata": {
    "slideshow": {
     "slide_type": "subslide"
    }
   },
   "source": [
    "Considere el sistema en base 2 de 2 dígitos de precisión\n",
    "\n",
    "$$F(2,2,-1,1)$$\n",
    "\n",
    "$$F=\\pm 0.d_1d_2 \\times 2^E \\quad \\text{con} \\quad E \\in [-1, 1]$$\n"
   ]
  },
  {
   "cell_type": "markdown",
   "metadata": {
    "slideshow": {
     "slide_type": "subslide"
    }
   },
   "source": [
    "#### Numero y distribución de números"
   ]
  },
  {
   "cell_type": "markdown",
   "metadata": {
    "slideshow": {
     "slide_type": "fragment"
    }
   },
   "source": [
    "1. Cuántos números pueden representarse con este sistema?\n",
    "<br/><br/>\n",
    "\n",
    "2. Cuál es la distribución en la línea real?\n",
    "<br/><br/>\n",
    "\n",
    "\n",
    "3. Cuáles son los límites underflow y overflow?"
   ]
  },
  {
   "cell_type": "markdown",
   "metadata": {
    "slideshow": {
     "slide_type": "fragment"
    }
   },
   "source": [
    "Cuántos números pueden representarse en este sistema?\n",
    "\n",
    "\n",
    "$$f=\\pm 0.d_1d_2 \\times 2^E ~~~~ \\text{con} ~~~~ E \\in [-1, 1]$$\n",
    "\n",
    "$$ 2 \\times 1 \\times 2 \\times 3 + 1 = 13$$"
   ]
  },
  {
   "cell_type": "markdown",
   "metadata": {
    "slideshow": {
     "slide_type": "fragment"
    }
   },
   "source": [
    "Cuál es la distribución en la línea real?"
   ]
  },
  {
   "cell_type": "code",
   "execution_count": 16,
   "metadata": {
    "slideshow": {
     "slide_type": "subslide"
    }
   },
   "outputs": [
    {
     "data": {
      "image/png": "[encoded data removed]",
      "text/plain": [
       "<Figure size 1000x100 with 1 Axes>"
      ]
     },
     "metadata": {},
     "output_type": "display_data"
    }
   ],
   "source": [
    "d_1_values = [1]\n",
    "d_2_values = [0, 1]\n",
    "E_values = [1, 0, -1]\n",
    "\n",
    "fig = plt.figure(figsize=(10.0, 1.0))\n",
    "axes = fig.add_subplot(1, 1, 1)\n",
    "\n",
    "for E in E_values:\n",
    "    for d1 in d_1_values:\n",
    "        for d2 in d_2_values:\n",
    "            axes.plot( (d1 + d2 * 0.5) * 2**E, 0.0, 'r+', markersize=20)\n",
    "            axes.plot(-(d1 + d2 * 0.5) * 2**E, 0.0, 'r+', markersize=20)\n",
    "            \n",
    "axes.plot(0.0, 0.0, 'r+', markersize=20)\n",
    "axes.plot([-4.5, 4.5], [0.0, 0.0], 'k')\n",
    "\n",
    "axes.set_title(\"Distribución de Valores\")\n",
    "axes.set_yticks([])\n",
    "axes.set_xlabel(\"x\")\n",
    "axes.set_ylabel(\"\")\n",
    "axes.set_xlim([-3.5, 3.5])\n",
    "plt.show()"
   ]
  },
  {
   "cell_type": "markdown",
   "metadata": {
    "slideshow": {
     "slide_type": "subslide"
    }
   },
   "source": [
    "Cuáles son los límites superior (*overflow*) e inferior (*underflow*)?\n",
    "\n",
    "- El menor número que puede ser representado (*underflow*) es: $1.0 \\times 2^{-1} = 0.5$\n",
    "<br/><br/>\n",
    "\n",
    "\n",
    "- El mayor número que puede ser representado (*overflow*) es:  $1.1 \\times 2^1 = 3$\n",
    "\n",
    "Observe que estos números son en sistema binario. \n",
    "\n",
    "Una rápida regla de oro:\n",
    "\n",
    "$$2^3 2^2 2^1 2^0 . 2^{-1} 2^{-2} 2^{-3}$$\n",
    "\n",
    "corresponde a\n",
    "\n",
    "8s, 4s, 2s, 1s . mitades, cuartos, octavos, $\\ldots$"
   ]
  },
  {
   "cell_type": "markdown",
   "metadata": {
    "slideshow": {
     "slide_type": "subslide"
    }
   },
   "source": [
    "<div class=\"alert alert alert-success\">\n",
    "$\\color{red}{\\textbf{Ejercicio:}}$ Cuál sería la representación en punto flotante del siguiente conjunto de números:   \n",
    "F(2,3,-1,3). \n",
    "    \n",
    "- Cuántos números se pueden representar?\n",
    "<br/><br/>\n",
    "\n",
    "\n",
    "- Cuál sería el menor número representable?\n",
    "<br/><br/>\n",
    "\n",
    "\n",
    "- Cuál sería el mayor número?\n",
    "</div>"
   ]
  },
  {
   "cell_type": "markdown",
   "metadata": {
    "slideshow": {
     "slide_type": "slide"
    }
   },
   "source": [
    "### Sistema real - [IEEE 754](https://en.wikipedia.org/wiki/IEEE_754) sistema binario de punto flotante"
   ]
  },
  {
   "cell_type": "markdown",
   "metadata": {
    "slideshow": {
     "slide_type": "subslide"
    }
   },
   "source": [
    "#### Precisión simple"
   ]
  },
  {
   "cell_type": "markdown",
   "metadata": {
    "slideshow": {
     "slide_type": "fragment"
    }
   },
   "source": [
    "- Almacenamiento total es de 32 bits\n",
    "<br/><br/>\n",
    "\n",
    "- Exponente de 8 bits $\\Rightarrow E \\in [-126, 127]$\n",
    "<br/><br/>\n",
    "\n",
    "- Fracción 23 bits ($p = 24$)\n",
    "\n",
    "\n",
    "```\n",
    "s EEEEEEEE FFFFFFFFFFFFFFFFFFFFFFF\n",
    "0 1      8 9                     31\n",
    "```\n",
    "\n",
    "Overflow $= 2^{127} \\approx 3.4 \\times 10^{38}$\n",
    "\n",
    "Underflow $= 2^{-126} \\approx 1.2 \\times 10^{-38}$\n",
    "\n",
    "$\\epsilon_{\\text{machine}} = 2^{-23} \\approx 1.2 \\times 10^{-7}$\n"
   ]
  },
  {
   "cell_type": "markdown",
   "metadata": {
    "slideshow": {
     "slide_type": "subslide"
    }
   },
   "source": [
    "#### Precisión doble"
   ]
  },
  {
   "cell_type": "markdown",
   "metadata": {
    "slideshow": {
     "slide_type": "fragment"
    }
   },
   "source": [
    "- Almacenamiento total asignado es 64 bits\n",
    "<br/><br/>\n",
    "\n",
    "- Exponenete de 11 bits $\\Rightarrow E \\in [-1022, 1024]$\n",
    "<br/><br/>\n",
    "\n",
    "- Fracción de 52 bits ($p = 53$)\n",
    "\n",
    "```\n",
    "s EEEEEEEEEE FFFFFFFFFF FFFFFFFFFF FFFFFFFFFF FFFFFFFFFF FFFFFFFFFF FF\n",
    "0 1       11 12                                                      63\n",
    "```\n",
    "Overflow $= 2^{1024} \\approx 1.8 \\times 10^{308}$\n",
    "\n",
    "Underflow $= 2^{-1022} \\approx 2.2 \\times 10^{-308}$\n",
    "\n",
    "$\\epsilon_{\\text{machine}} = 2^{-52} \\approx 2.2 \\times 10^{-16}$"
   ]
  },
  {
   "cell_type": "markdown",
   "metadata": {
    "slideshow": {
     "slide_type": "slide"
    }
   },
   "source": [
    "### Acceso de Python a números de la IEEE"
   ]
  },
  {
   "cell_type": "markdown",
   "metadata": {
    "slideshow": {
     "slide_type": "subslide"
    }
   },
   "source": [
    "Accede a muchos parámetros importantes, como el epsilon de la máquina\n",
    "\n",
    "```python\n",
    "import numpy as np\n",
    "np.finfo(float).eps\n",
    "```"
   ]
  },
  {
   "cell_type": "code",
   "execution_count": 17,
   "metadata": {
    "scrolled": false,
    "slideshow": {
     "slide_type": "fragment"
    }
   },
   "outputs": [
    {
     "name": "stdout",
     "output_type": "stream",
     "text": [
      "Machine parameters for float16\n",
      "---------------------------------------------------------------\n",
      "precision =   3   resolution = 1.00040e-03\n",
      "machep =    -10   eps =        9.76562e-04\n",
      "negep =     -11   epsneg =     4.88281e-04\n",
      "minexp =    -14   tiny =       6.10352e-05\n",
      "maxexp =     16   max =        6.55040e+04\n",
      "nexp =        5   min =        -max\n",
      "smallest_normal = 6.10352e-05   smallest_subnormal = 5.96046e-08\n",
      "---------------------------------------------------------------\n",
      "\n",
      "Machine parameters for float32\n",
      "---------------------------------------------------------------\n",
      "precision =   6   resolution = 1.0000000e-06\n",
      "machep =    -23   eps =        1.1920929e-07\n",
      "negep =     -24   epsneg =     5.9604645e-08\n",
      "minexp =   -126   tiny =       1.1754944e-38\n",
      "maxexp =    128   max =        3.4028235e+38\n",
      "nexp =        8   min =        -max\n",
      "smallest_normal = 1.1754944e-38   smallest_subnormal = 1.4012985e-45\n",
      "---------------------------------------------------------------\n",
      "\n",
      "Machine parameters for float64\n",
      "---------------------------------------------------------------\n",
      "precision =  15   resolution = 1.0000000000000001e-15\n",
      "machep =    -52   eps =        2.2204460492503131e-16\n",
      "negep =     -53   epsneg =     1.1102230246251565e-16\n",
      "minexp =  -1022   tiny =       2.2250738585072014e-308\n",
      "maxexp =   1024   max =        1.7976931348623157e+308\n",
      "nexp =       11   min =        -max\n",
      "smallest_normal = 2.2250738585072014e-308   smallest_subnormal = 4.9406564584124654e-324\n",
      "---------------------------------------------------------------\n",
      "\n"
     ]
    }
   ],
   "source": [
    "np.finfo(float).eps\n",
    "\n",
    "print(np.finfo(np.float16))\n",
    "print(np.finfo(np.float32))\n",
    "print(np.finfo(float))"
   ]
  },
  {
   "cell_type": "markdown",
   "metadata": {
    "slideshow": {
     "slide_type": "slide"
    }
   },
   "source": [
    "## Error de truncamiento"
   ]
  },
  {
   "attachments": {},
   "cell_type": "markdown",
   "metadata": {
    "slideshow": {
     "slide_type": "fragment"
    }
   },
   "source": [
    "Resultan de utilizar una aproximación en lugar de un procedimiento matemático.\n",
    "\n",
    "La [Serie de Taylor](https://en.wikipedia.org/wiki/Taylor_series) provee un medio para predecir el valor de una función en un punto en términos del valor de la función y sus derivadas en otro punto."
   ]
  },
  {
   "cell_type": "markdown",
   "metadata": {
    "slideshow": {
     "slide_type": "subslide"
    }
   },
   "source": [
    "### Teorema de Taylor"
   ]
  },
  {
   "cell_type": "markdown",
   "metadata": {
    "slideshow": {
     "slide_type": "fragment"
    }
   },
   "source": [
    "Sea $f(x) \\in C^{m+1}[a,b]$ y $x_0 \\in [a,b]$, para todo $x \\in (a,b)$ existe un número $c = c(x)$ que se encuentra entre $x_0$ y $x$ tal que\n",
    "\n",
    "\n",
    "$$f(x)=f(x_0)+f'(x_0)(x-x_0)+f''(x_0) \\frac{(x-x_0)^2}{2!}+f'''(x_0) \\frac{(x-x_0)^3}{3!}+ \\ldots +f^{(n)}(x_0) \\frac{(x-x_0)^n}{n!}+R_n$$\n",
    "\n",
    "que se puede reescribir como,\n",
    "\n",
    "$$ f(x) = T_N(x) + R_N(x)$$\n",
    "\n",
    "donde $T_N(x)$ es la aproximación del polinomio de Taylor\n",
    "\n",
    "$$T_N(x) = \\sum^N_{n=0} \\frac{f^{(n)}(x_0)\\times(x-x_0)^n}{n!}$$\n",
    "\n",
    "y $R_N(x)$ es el residuo (la parte de la serie que obviamos)\n",
    "\n",
    "$$R_N(x) = \\frac{f^{(n+1)}(c) \\times (x - x_0)^{n+1}}{(n+1)!}$$"
   ]
  },
  {
   "cell_type": "markdown",
   "metadata": {
    "slideshow": {
     "slide_type": "subslide"
    }
   },
   "source": [
    "Otra forma de pensar acerca de estos resultados consiste en reemplazar $x - x_0$ con $\\Delta x$. La idea principal es que el residuo $R_N(x)$ se vuelve mas pequeño cuando $\\Delta x \\rightarrow 0$.\n",
    "\n",
    "$$T_N(x) = \\sum^N_{n=0} \\frac{f^{(n)}(x_0)\\times \\Delta x^n}{n!}$$\n",
    "\n",
    "y $R_N(x)$ es el residuo (la parte de la serie que obviamos)\n",
    "\n",
    "$$ R_N(x) = \\frac{f^{(n+1)}(c) \\times \\Delta x^{n+1}}{(n+1)!} \\leq M \\Delta x^{n+1}$$"
   ]
  },
  {
   "attachments": {},
   "cell_type": "markdown",
   "metadata": {
    "slideshow": {
     "slide_type": "subslide"
    }
   },
   "source": [
    "La expansión en series de Taylor de $n-ésimo$ orden debe ser exacta para un polinomio de $n-ésimo$ orden. Para otras funciones continuas diferenciables, como las exponenciales o sinusoidales, no se obtiene una estimación exacta mediante un número finito de términos.\n",
    "\n",
    "***Valor práctico de las series de Taylor:*** Uso de un número finito de términos que darán una aproximación lo suficientemente cercana a la solución verdadera para propósitos prácticos.\n",
    "\n",
    "\n",
    "***¿Cuántos términos se requieren para obtener una “aproximación razonable”?***\n"
   ]
  },
  {
   "attachments": {},
   "cell_type": "markdown",
   "metadata": {
    "slideshow": {
     "slide_type": "subslide"
    }
   },
   "source": [
    "La ecuación para el término residual se puede expresar como:\n",
    "\n",
    "$$R_N = \\mathcal{O}(h^{n+1})$$\n",
    "\n",
    "Significa que el error de truncamiento es de orden $h^{n+1}$. El error es proporcional al tamaño del paso $h$ elevado a la $(n+1)-ésima$ potencia.\n",
    "\n",
    "***Ej:*** Si el error es $\\mathcal{O}(h)$ y se reduce a la mitad del paso, entonces el error se reduce a la mitad. Si el error es $\\mathcal{O}(h^2)$ , el error se reducirá a la cuarta parte.\n"
   ]
  },
  {
   "cell_type": "markdown",
   "metadata": {
    "slideshow": {
     "slide_type": "subslide"
    }
   },
   "source": [
    "***Ejemplo 1:***\n",
    "\n",
    "$f(x) = e^x$ con $x_0 = 0$\n",
    "\n",
    "Usando esto podemos encontrar expresiones para el error relativo y absoluto en función de $x$ asumiendo $N=2$."
   ]
  },
  {
   "cell_type": "markdown",
   "metadata": {
    "slideshow": {
     "slide_type": "fragment"
    }
   },
   "source": [
    "Derivadas:\n",
    "$$\\begin{aligned}\n",
    "    f'(x) &= e^x \\\\\n",
    "    f''(x) &= e^x \\\\ \n",
    "    f^{(n)}(x) &= e^x\n",
    "\\end{aligned}$$\n",
    "\n",
    "Polinomio de Taylor:\n",
    "$$\\begin{aligned}\n",
    "    T_N(x) &= \\sum^N_{n=0} e^0 \\frac{x^n}{n!} \\Rightarrow \\\\\n",
    "    T_2(x) &= 1 + x + \\frac{x^2}{2}\n",
    "\\end{aligned}$$"
   ]
  },
  {
   "cell_type": "markdown",
   "metadata": {
    "slideshow": {
     "slide_type": "subslide"
    }
   },
   "source": [
    "Restos:\n",
    "$$\\begin{aligned}\n",
    "    R_N(x) &= e^c \\frac{x^{n+1}}{(n+1)!} = e^c \\times \\frac{x^3}{6} \\quad \\Rightarrow \\\\\n",
    "    R_2(x) &\\leq \\frac{e^1}{6} \\approx 0.5\n",
    "\\end{aligned}$$\n",
    "\n",
    "Precisión:\n",
    "$$\n",
    "    e^1 = 2.718\\ldots \\\\\n",
    "    T_2(1) = 2.5 \\Rightarrow e \\approx 0.2 ~~ r \\approx 0.1\n",
    "$$"
   ]
  },
  {
   "cell_type": "markdown",
   "metadata": {
    "slideshow": {
     "slide_type": "subslide"
    }
   },
   "source": [
    "¡También podemos usar el paquete `sympy` que tiene la capacidad de calcular el polinomio de *Taylor* integrado!"
   ]
  },
  {
   "cell_type": "code",
   "execution_count": 18,
   "metadata": {
    "slideshow": {
     "slide_type": "fragment"
    }
   },
   "outputs": [
    {
     "data": {
      "text/latex": [
       "$\\displaystyle 1 + x + \\frac{x^{2}}{2} + \\frac{x^{3}}{6} + \\frac{x^{4}}{24} + O\\left(x^{5}\\right)$"
      ],
      "text/plain": [
       "1 + x + x**2/2 + x**3/6 + x**4/24 + O(x**5)"
      ]
     },
     "execution_count": 18,
     "metadata": {},
     "output_type": "execute_result"
    }
   ],
   "source": [
    "x = sympy.symbols('x')\n",
    "f = sympy.symbols('f', cls=sympy.Function)\n",
    "\n",
    "f = sympy.exp(x)\n",
    "f.series(x0=0, n=5)"
   ]
  },
  {
   "cell_type": "markdown",
   "metadata": {
    "slideshow": {
     "slide_type": "subslide"
    }
   },
   "source": [
    "Graficando"
   ]
  },
  {
   "cell_type": "code",
   "execution_count": 19,
   "metadata": {
    "slideshow": {
     "slide_type": "fragment"
    }
   },
   "outputs": [
    {
     "data": {
      "image/png": "[encoded data removed]",
      "text/plain": [
       "<Figure size 640x480 with 1 Axes>"
      ]
     },
     "metadata": {},
     "output_type": "display_data"
    }
   ],
   "source": [
    "x = np.linspace(-5, 5, 100)\n",
    "T_N = 1.0 + x + x**2 / 2.0 + x**3 / 6.0 + x**4 / 24.0 #+ x**5 / 120.0 + x**6 / 720.0 + x**7 / 5040.0 + x**8 / 40320.0 + x**9 / 362880\n",
    "#R_N = np.exp(1) * x**10 / 3628800.0\n",
    "R_N = np.exp(1) * x**5/120.0\n",
    "plt.plot(x, T_N, 'r', x, np.exp(x), 'k', x, R_N, 'b')\n",
    "plt.plot(0.0, 1.0, 'o', markersize=10)\n",
    "plt.grid(True)\n",
    "plt.xlabel(\"x\")\n",
    "plt.ylabel(\"$f(x)$, $T_N(x)$, $R_N(x)$\")\n",
    "plt.legend([\"$T_N(x)$\", \"$f(x)$\", \"$R_N(x)$\"], loc=2)\n",
    "plt.show()"
   ]
  },
  {
   "cell_type": "markdown",
   "metadata": {
    "slideshow": {
     "slide_type": "subslide"
    }
   },
   "source": [
    "***Ejemplo 2:***\n",
    "\n",
    "Aproximar\n",
    "\n",
    "$$ f(x) = \\frac{1}{x} \\quad x_0  = 1,$$\n",
    "\n",
    "usando $x_0 = 1$ para el tercer termino de la serie de Taylor."
   ]
  },
  {
   "cell_type": "markdown",
   "metadata": {
    "slideshow": {
     "slide_type": "subslide"
    }
   },
   "source": [
    "$$\\begin{aligned}\n",
    "    f'(x) &= -\\frac{1}{x^2} \\\\\n",
    "    f''(x) &= \\frac{2}{x^3} \\\\\n",
    "    f^{(n)}(x) &= \\frac{(-1)^n n!}{x^{n+1}}\n",
    "\\end{aligned}$$\n",
    "\n",
    "$$\\begin{aligned}\n",
    "    T_N(x) &= \\sum^N_{n=0} (-1)^n (x-1)^n \\Rightarrow \\\\\n",
    "    T_2(x) &= 1 - (x - 1) + (x - 1)^2\n",
    "\\end{aligned}$$\n",
    "\n",
    "$$\\begin{aligned}\n",
    "    R_N(x) &= \\frac{(-1)^{n+1}(x - 1)^{n+1}}{c^{n+2}} \\Rightarrow \\\\\n",
    "    R_2(x) &= \\frac{-(x - 1)^{3}}{c^{4}}\n",
    "\\end{aligned}$$"
   ]
  },
  {
   "cell_type": "code",
   "execution_count": 20,
   "metadata": {
    "slideshow": {
     "slide_type": "subslide"
    }
   },
   "outputs": [
    {
     "data": {
      "image/png": "[encoded data removed]",
      "text/plain": [
       "<Figure size 640x480 with 1 Axes>"
      ]
     },
     "metadata": {},
     "output_type": "display_data"
    }
   ],
   "source": [
    "x = np.linspace(0.8, 2, 100)\n",
    "T_N = 1.0 - (x-1) + (x-1)**2\n",
    "R_N = -(x-1.0)**3 / (1.1**4)\n",
    "\n",
    "plt.plot(x, T_N, 'r', x, 1.0 / x, 'k', x, R_N, 'b')\n",
    "plt.plot(1.0, 1.0, 'o', markersize=10)\n",
    "plt.grid(True)\n",
    "plt.xlabel(\"x\")\n",
    "plt.ylabel(\"$f(x)$, $T_N(x)$, $R_N(x)$\")\n",
    "\n",
    "plt.legend([\"$T_N(x)$\", \"$f(x)$\", \"$R_N(x)$\"], loc=8)\n",
    "plt.show()"
   ]
  },
  {
   "cell_type": "markdown",
   "metadata": {
    "slideshow": {
     "slide_type": "subslide"
    }
   },
   "source": [
    "### Laboratorio Numérico 1"
   ]
  },
  {
   "cell_type": "markdown",
   "metadata": {
    "slideshow": {
     "slide_type": "fragment"
    }
   },
   "source": [
    "<div class=\"alert alert alert-success\">\n",
    "$\\color{red}{\\textbf{Ejercicio:}}$ Realice la expansión de la serie de Taylor para los dos ejemplos anteriores con 3, 4 y 5 términos. Cuál es el error que se tiene a medida que se adicionan más términos? Realice una gráfica comparativa del Residuo que se obtiene para cada término adicional. Haga un análisis de lo que sucede. Si extendemos hasta el \"infinito\" dicho residuo qué pueden concluir?\n",
    "</div>\n"
   ]
  },
  {
   "cell_type": "markdown",
   "metadata": {
    "slideshow": {
     "slide_type": "subslide"
    }
   },
   "source": [
    "## Error de punto flotante"
   ]
  },
  {
   "cell_type": "markdown",
   "metadata": {
    "slideshow": {
     "slide_type": "fragment"
    }
   },
   "source": [
    "Errores surgen de aproximar números reales con números de precisión finita. Por ejemplo, aproximando $\\pi$, que es un número irracional con infinitos dígitos, a $\\pi \\approx 3.1416$ o $\\frac{1}{3} \\approx 0.333333333$ en decimal, los resultados forman un número finito de registros para representar cada número."
   ]
  },
  {
   "cell_type": "markdown",
   "metadata": {
    "slideshow": {
     "slide_type": "fragment"
    }
   },
   "source": [
    "***Ej.:*** considere la representación de $\\sqrt{2}=1.4142 \\ldots$. Como sabemos, éste es un número irracional, es decir, tiene una cantidad infinita de dígitos decimales. El computador almacena de forma incompleta la represenación de ese valor empleando cierta cantidad de números decimales. Veamos el siguiente ejemplo:"
   ]
  },
  {
   "cell_type": "markdown",
   "metadata": {
    "slideshow": {
     "slide_type": "fragment"
    }
   },
   "source": [
    "$$2 - (\\sqrt{2})^2$$"
   ]
  },
  {
   "cell_type": "code",
   "execution_count": 21,
   "metadata": {
    "scrolled": true,
    "slideshow": {
     "slide_type": "subslide"
    }
   },
   "outputs": [
    {
     "name": "stdout",
     "output_type": "stream",
     "text": [
      "a:  1.4142135623730951\n"
     ]
    }
   ],
   "source": [
    "a = np.sqrt(2)\n",
    "print(\"a: \", a)"
   ]
  },
  {
   "cell_type": "code",
   "execution_count": 22,
   "metadata": {
    "scrolled": true,
    "slideshow": {
     "slide_type": "fragment"
    }
   },
   "outputs": [
    {
     "name": "stdout",
     "output_type": "stream",
     "text": [
      "|2-a^2| =  4.440892098500626e-16\n"
     ]
    }
   ],
   "source": [
    "b = abs(2-a**2)\n",
    "print(\"|2-a^2| = \", b)"
   ]
  },
  {
   "cell_type": "markdown",
   "metadata": {
    "slideshow": {
     "slide_type": "subslide"
    }
   },
   "source": [
    "### Epsilon de máquina, $\\epsilon_{mach}$"
   ]
  },
  {
   "cell_type": "markdown",
   "metadata": {
    "slideshow": {
     "slide_type": "fragment"
    }
   },
   "source": [
    "El Epsilon de la máquina, $\\epsilon_{mach}$, es el valor más pequeño que se puede sumar a la unidad y obtener un resultado diferente de la unidad en sistemas de punto flotante. \n",
    "\n",
    "$$1.0+\\epsilon_{mach}>1.0$$\n",
    "\n",
    "Es una medida de la precisión de la representación numérica en una computadora y varía según la arquitectura y la precisión utilizada en los cálculos.\n",
    "\n",
    "***Ejemplo:***\n",
    "\n",
    "Supongamos que estamos trabajando con un sistema de punto flotante donde $\\epsilon_{mach} = 1.0 \\times 10^{-6}$.\n",
    "\n",
    "En este caso, el número más pequeño que podemos sumar a $1.0$ y obtener un resultado diferente es el $\\epsilon_{mach}$:\n",
    "\n",
    "$1.0 + 1.0 \\times 10^{-6} = 1.000001$\n",
    "\n",
    "Cualquier número menor que $1.0 \\times 10^{-6}$ sumado a $1.0$ seguirá dando como resultado $1.0$, debido a las limitaciones de la precisión del sistema de punto flotante.\n",
    "\n",
    "La determinación \"manual\" del $\\epsilon_{mach}$ es muy simple. Veamos el siguiente algoritmo"
   ]
  },
  {
   "cell_type": "code",
   "execution_count": 2,
   "metadata": {
    "slideshow": {
     "slide_type": "subslide"
    }
   },
   "outputs": [
    {
     "name": "stdout",
     "output_type": "stream",
     "text": [
      "Iteraciones:  17\n",
      "Epsilon Mach:  1.0000000000000001e-16\n"
     ]
    }
   ],
   "source": [
    "eps = 1.0\n",
    "count = 1\n",
    "\n",
    "while 1.0 + eps > 1.0:\n",
    "    eps = eps / 10.0\n",
    "    count += 1\n",
    "    \n",
    "print(\"Iteraciones: \", count)\n",
    "print(\"Epsilon Mach: \", eps)"
   ]
  },
  {
   "cell_type": "markdown",
   "metadata": {
    "slideshow": {
     "slide_type": "subslide"
    }
   },
   "source": [
    "Si lo comparamos con el valor obtenido en el numeral anterior para `float64`, `2.2204460492503131e-16`, se observa que es del orden de dos veces menor, por qué?"
   ]
  },
  {
   "cell_type": "markdown",
   "metadata": {
    "slideshow": {
     "slide_type": "slide"
    }
   },
   "source": [
    "## Por qué debería importarnos esto?"
   ]
  },
  {
   "cell_type": "markdown",
   "metadata": {
    "slideshow": {
     "slide_type": "subslide"
    }
   },
   "source": [
    "<p float=\"center\">\n",
    "  <img src=\"https://github.com/carlosalvarezh/Analisis_Numerico/blob/master/images/C01_Img02.png?raw=true\" width=\"500\" />\n",
    "</p>"
   ]
  },
  {
   "cell_type": "markdown",
   "metadata": {
    "slideshow": {
     "slide_type": "fragment"
    }
   },
   "source": [
    "- Aritmética de punto flotante no es conmutativa o asociativa\n",
    "<br/><br/>\n",
    "\n",
    "- Errores de punto flotante compuestos, No asuma que la precisión doble es suficiente\n",
    "<br/><br/>\n",
    "\n",
    "- Mezclar precisión es muy peligroso"
   ]
  },
  {
   "cell_type": "markdown",
   "metadata": {
    "slideshow": {
     "slide_type": "subslide"
    }
   },
   "source": [
    "***EL ORDEN DE LOS FACTORES NO ALTERA EL PRODUCTO???***\n",
    "\n",
    "$$2 \\times 3 = 3 \\times 2 = 6$$\n",
    "\n",
    "\n",
    "$$ 10^{300} \\times 10^{50} \\times 10^{-60} = 10^{300} \\times 10^{-60} \\times 10^{50} ??$$\n"
   ]
  },
  {
   "cell_type": "code",
   "execution_count": 23,
   "metadata": {
    "slideshow": {
     "slide_type": "fragment"
    }
   },
   "outputs": [],
   "source": [
    "a = 10**300\n",
    "b = 10**50\n",
    "c = 10**-60\n"
   ]
  },
  {
   "cell_type": "code",
   "execution_count": 24,
   "metadata": {
    "slideshow": {
     "slide_type": "fragment"
    }
   },
   "outputs": [
    {
     "ename": "OverflowError",
     "evalue": "int too large to convert to float",
     "output_type": "error",
     "traceback": [
      "\u001b[1;31m---------------------------------------------------------------------------\u001b[0m",
      "\u001b[1;31mOverflowError\u001b[0m                             Traceback (most recent call last)",
      "Cell \u001b[1;32mIn[24], line 1\u001b[0m\n\u001b[1;32m----> 1\u001b[0m d1 \u001b[38;5;241m=\u001b[39m a \u001b[38;5;241m*\u001b[39m b \u001b[38;5;241m*\u001b[39m c\n\u001b[0;32m      2\u001b[0m \u001b[38;5;28mprint\u001b[39m(\u001b[38;5;124m\"\u001b[39m\u001b[38;5;124md1: \u001b[39m\u001b[38;5;124m\"\u001b[39m, d1)\n",
      "\u001b[1;31mOverflowError\u001b[0m: int too large to convert to float"
     ]
    }
   ],
   "source": [
    "d1 = a * b * c\n",
    "print(\"d1: \", d1)"
   ]
  },
  {
   "cell_type": "code",
   "execution_count": 25,
   "metadata": {
    "slideshow": {
     "slide_type": "fragment"
    }
   },
   "outputs": [
    {
     "name": "stdout",
     "output_type": "stream",
     "text": [
      "d2:  1e+290\n"
     ]
    }
   ],
   "source": [
    "d2 = b * c * a\n",
    "print(\"d2: \", d2)\n"
   ]
  },
  {
   "cell_type": "markdown",
   "metadata": {
    "slideshow": {
     "slide_type": "subslide"
    }
   },
   "source": [
    "### Ejemplo 1: Aritmética simple"
   ]
  },
  {
   "cell_type": "markdown",
   "metadata": {
    "slideshow": {
     "slide_type": "subslide"
    }
   },
   "source": [
    "Aritmética simple $\\delta < \\epsilon_{\\text{machine}}$\n",
    "\n",
    "   $$(1+\\delta) - 1 = 1 - 1 = 0$$\n",
    "\n",
    "   $$1 - 1 + \\delta = \\delta$$"
   ]
  },
  {
   "cell_type": "code",
   "execution_count": 3,
   "metadata": {
    "slideshow": {
     "slide_type": "fragment"
    }
   },
   "outputs": [
    {
     "name": "stdout",
     "output_type": "stream",
     "text": [
      "1.0000000000000012e-16\n"
     ]
    }
   ],
   "source": [
    "delta = 1.000000000000001 * eps\n",
    "print(delta)"
   ]
  },
  {
   "cell_type": "code",
   "execution_count": 4,
   "metadata": {
    "slideshow": {
     "slide_type": "fragment"
    }
   },
   "outputs": [
    {
     "name": "stdout",
     "output_type": "stream",
     "text": [
      "0.0\n"
     ]
    }
   ],
   "source": [
    "value = (1 + delta) - 1\n",
    "print(value)"
   ]
  },
  {
   "cell_type": "code",
   "execution_count": 5,
   "metadata": {
    "slideshow": {
     "slide_type": "fragment"
    }
   },
   "outputs": [
    {
     "name": "stdout",
     "output_type": "stream",
     "text": [
      "1.1102230246251565e-16\n"
     ]
    }
   ],
   "source": [
    "value = 1 + (delta - 1)\n",
    "print(value)"
   ]
  },
  {
   "cell_type": "code",
   "execution_count": null,
   "metadata": {
    "slideshow": {
     "slide_type": "fragment"
    }
   },
   "outputs": [],
   "source": [
    "value = -1 + 1 + delta\n",
    "print(value)"
   ]
  },
  {
   "cell_type": "code",
   "execution_count": null,
   "metadata": {
    "slideshow": {
     "slide_type": "fragment"
    }
   },
   "outputs": [],
   "source": [
    "value = (-1 + 1) + delta\n",
    "print(value)"
   ]
  },
  {
   "cell_type": "markdown",
   "metadata": {
    "slideshow": {
     "slide_type": "subslide"
    }
   },
   "source": [
    "### Error de Propagación"
   ]
  },
  {
   "attachments": {},
   "cell_type": "markdown",
   "metadata": {
    "slideshow": {
     "slide_type": "fragment"
    }
   },
   "source": [
    "Supóngase que se tiene una función $f(u)$. Considere que $\\tilde{u}$ es una aproximación de $u$. Por lo tanto, se podría evaluar el efecto de la discrepancia entre $u$ y $\\tilde{u}$ en el valor de la función.\n",
    "\n",
    "$$\\Delta f(\\tilde{u}) = |f(u) – f(\\tilde{u})|$$\n",
    "\n",
    "Si $\\tilde{u}$ es cercana a $u$ y $f(\\tilde{u})$ es continua y diferenciable:\n",
    "\n",
    "$$f(u)=f(\\tilde{u})+f'(\\tilde{u})(u-\\tilde{u})+f''(\\tilde{u})\\frac{(u-\\tilde{u})^2}{2!} \\ldots$$\n",
    "\n",
    "$$f(u)-f(\\tilde{u}) \\approx f'(\\tilde{u})(u-\\tilde{u})$$\n",
    "\n",
    "$$\\Delta f(\\tilde{u})=|f'(\\tilde{u})|(u-\\tilde{u})$$"
   ]
  },
  {
   "cell_type": "markdown",
   "metadata": {
    "slideshow": {
     "slide_type": "subslide"
    }
   },
   "source": [
    "### Estabilidad y condición"
   ]
  },
  {
   "attachments": {},
   "cell_type": "markdown",
   "metadata": {
    "slideshow": {
     "slide_type": "fragment"
    }
   },
   "source": [
    "La condición de un problema matemático relaciona a su sensibilidad los cambios en los datos de entrada.\n",
    "\n",
    "Un cálculo es numéricamente inestable si la incertidumbre de los valores de entrada aumentan considerablemente por el método numérico. Usando la serie de Taylor de primer orden:\n",
    "\n",
    "$$f(x) \\approx f(\\tilde{x})+f'(\\tilde{x})(x-\\tilde{x})$$\n",
    "\n",
    "Estimando el error relativo como\n",
    "\n",
    "$$\\frac{f(x)-f(\\tilde{x})}{f(x)}\\approx \\frac{f'(\\tilde{x})(x-\\tilde{x})}{f(\\tilde{x})}$$"
   ]
  },
  {
   "cell_type": "markdown",
   "metadata": {
    "slideshow": {
     "slide_type": "subslide"
    }
   },
   "source": [
    "El error relativo de $x$ está dado por\n",
    "\n",
    "$$\\frac{x-\\tilde{x}}{x}$$\n",
    "\n",
    "El *número de condición* puede definirse como la razón de estos errores relativos así:\n",
    "\n",
    "$$NC=\\frac{\\tilde{x}f'(\\tilde{x})}{f(\\tilde{x})}$$"
   ]
  },
  {
   "attachments": {},
   "cell_type": "markdown",
   "metadata": {
    "slideshow": {
     "slide_type": "subslide"
    }
   },
   "source": [
    "El número condicionado proporciona una medida de hasta qué punto la incertidumbre de $x$ es aumentada por $f(x)$.\n",
    "\n",
    "- $NC=1$, nos indica que el error relativo de la función es idéntico al valor relativo de $x$.\n",
    "<br/><br/>\n",
    "\n",
    "- $NC>1$, nos indica que el error relativo es amplificado.\n",
    "<br/><br/>\n",
    "\n",
    "- $NC<1$, nos indica que el error relativo está disminuyendo.\n",
    "<br/><br/>\n",
    "\n",
    "- Funciones con valores muy grandes nos dicen que están mal condicionados.\n"
   ]
  },
  {
   "cell_type": "markdown",
   "metadata": {
    "slideshow": {
     "slide_type": "slide"
    }
   },
   "source": [
    "## Conclusiones"
   ]
  },
  {
   "attachments": {},
   "cell_type": "markdown",
   "metadata": {
    "slideshow": {
     "slide_type": "fragment"
    }
   },
   "source": [
    "- El error numérico total es la suma de los errores numéricos de truncamiento y redondeo.\n",
    "<br/><br/>\n",
    "- Un camino para minimizar los errores de redondeo es incrementar el número de cifras significativas de la computadora.\n",
    "<br/><br/>\n",
    "- El error de truncamiento puede reducirse con un tamaño de paso más pequeño.\n",
    "<br/><br/>\n",
    "- Los errores de truncamiento pueden ser disminuidos cuando los de redondeo aumentan!!!\n",
    "<br/><br/>\n",
    "- No hay forma sistemática y general para evaluar el error numérico para todos los problemas."
   ]
  },
  {
   "attachments": {},
   "cell_type": "markdown",
   "metadata": {
    "slideshow": {
     "slide_type": "subslide"
    }
   },
   "source": [
    "- La estimación se basa en la experiencia y buen juicio del ingeniero.\n",
    "<br/><br/>\n",
    "  - Evitar la resta de dos números casi iguales reordenando o reformulando el problema.\n",
    "  <br/><br/>\n",
    "  - Aritmética de precisión extendida.\n",
    "  <br/><br/>\n",
    "  - Clasificarlos y trabajar primero con los números más pequeños.\n",
    "<br/><br/>\n",
    "- Predecir el error numérico: Series de Taylor.\n",
    "<br/><br/>\n",
    "- Repetir experimentos numéricos modificando el tamaño de paso y comparando los resultados."
   ]
  },
  {
   "cell_type": "markdown",
   "metadata": {
    "slideshow": {
     "slide_type": "slide"
    }
   },
   "source": [
    "## Addendum"
   ]
  },
  {
   "cell_type": "markdown",
   "metadata": {
    "slideshow": {
     "slide_type": "subslide"
    }
   },
   "source": [
    "### Ejemplo 2: Cancelación catastrófica"
   ]
  },
  {
   "cell_type": "markdown",
   "metadata": {
    "slideshow": {
     "slide_type": "fragment"
    }
   },
   "source": [
    "Miremos qué sucede cuando sumamos dos números $x$ y $y$ cuando $x+y \\neq 0$. De hecho, podemos estimar estos límites haciendo un análisis de error. Aquí necesitamos presentar la idea de que cada operación de punto flotante introduce un error tal que\n",
    "\n",
    "$$\n",
    "    \\text{fl}(x ~\\text{op}~ y) = (x ~\\text{op}~ y) (1 + \\delta)\n",
    "$$\n",
    "\n",
    "donde $\\text{fl}(\\cdot)$ es una función que devuelve la representación de punto flotante de la expresión encerrada, $\\text{op}$ es alguna operación (ex. $+, -, \\times, /$), y $\\delta$ es el error de punto flotante debido a  $\\text{op}$."
   ]
  },
  {
   "cell_type": "markdown",
   "metadata": {},
   "source": [
    "De vuelta a nuestro problema en cuestión. El error de coma flotante debido a la suma es\n",
    "\n",
    "$$\\text{fl}(x + y) = (x + y) (1 + \\delta).$$\n",
    "\n",
    "\n",
    "Comparando esto con la solución verdadera usando un error relativo tenemos\n",
    "\n",
    "$$\\begin{aligned}\n",
    "    \\frac{(x + y) - \\text{fl}(x + y)}{x + y} &= \\frac{(x + y) - (x + y) (1 + \\delta)}{x + y} = \\delta.\n",
    "\\end{aligned}$$\n",
    "\n",
    "entonces si $\\delta = \\mathcal{O}(\\epsilon_{\\text{machine}})$ no estaremos muy preocupados."
   ]
  },
  {
   "cell_type": "markdown",
   "metadata": {},
   "source": [
    "Que pasa si consideramos un error de punto flotante en la representación de $x$ y $y$, $x \\neq y$, y decimos que $\\delta_x$ y $\\delta_y$ son la magnitud de los errores en su representación. Asumiremos que esto constituye el error de punto flotante en lugar de estar asociado con la operación en sí.\n",
    "\n",
    "Dado todo esto, tendríamos\n",
    "\n",
    "$$\\begin{aligned}\n",
    "    \\text{fl}(x + y) &= x (1 + \\delta_x) + y (1 + \\delta_y) \\\\\n",
    "    &= x + y + x \\delta_x + y \\delta_y \\\\\n",
    "    &= (x + y) \\left(1 + \\frac{x \\delta_x + y \\delta_y}{x + y}\\right)\n",
    "\\end{aligned}$$"
   ]
  },
  {
   "cell_type": "markdown",
   "metadata": {},
   "source": [
    "Calculando nuevamente el error relativo, tendremos\n",
    "\n",
    "$$\\begin{aligned}\n",
    "    \\frac{x + y - (x + y) \\left(1 + \\frac{x \\delta_x + y \\delta_y}{x + y}\\right)}{x + y} &= 1 - \\left(1 + \\frac{x \\delta_x + y \\delta_y}{x + y}\\right) \\\\\n",
    "    &= \\frac{x}{x + y} \\delta_x + \\frac{y}{x + y} \\delta_y \\\\\n",
    "    &= \\frac{1}{x + y} (x \\delta_x + y \\delta_y)\n",
    "\\end{aligned}$$\n",
    "\n",
    "Lo importante aquí es que ahora el error depende de los valores de $x$ y $y$, y más importante aún, su suma. De particular preocupación es el tamaño relativo de $x + y$. A medida que se acerca a cero en relación con las magnitudes de $x$ y $y$, el error podría ser arbitrariamente grande. Esto se conoce como ***cancelación catastrófica***."
   ]
  },
  {
   "cell_type": "markdown",
   "metadata": {},
   "source": [
    "***Ej.***\n",
    "\n",
    "Veamos cómo se realiza, computacionalmente, la resta de dos números muy cercanos entre sí:\n",
    "\n",
    "$$x = 1.000000000000001$$\n",
    "$$y = 1.000000000000002$$\n",
    "\n",
    "la diferencia $z = y-x = 1.000000000000002 - 1.000000000000001$ es $0.000000000000001 = 1.0 \\times 10^{-15}$. Los errores relativos de $x$ de $1.000000000000001$ y de $y$ de $1.000000000000002$ están ambos por debajo de $10^{−15} = 0.0000000000001$, y la resta de coma flotante $y - x$ se calcula exactamente mediante el lema de Sterbenz.\n",
    "\n",
    "Pero a pesar de que las entradas son buenas aproximaciones, y aunque la resta se calculó exactamente, la diferencia de las aproximaciones $\\bar{y}-\\bar{x}=(1 + 9 \\cdot 2^{-52})-(1 + 5 \\cdot 2^{-52})=4 \\cdot 2^{-52} \\approx 8.88 \\times 10^{-16}$ tiene un error relativo de más de $11\\%$ de la diferencia $1.0 \\times 10^{-15}$ de los valores originales escritos en decimal: la cancelación catastrófica amplificó un pequeño error en la conversión de la base en un gran error en la salida."
   ]
  },
  {
   "cell_type": "code",
   "execution_count": null,
   "metadata": {},
   "outputs": [],
   "source": [
    "x = 1.000000000000001\n",
    "y = 1.000000000000002\n",
    "z = y - x\n",
    "z"
   ]
  },
  {
   "cell_type": "code",
   "execution_count": null,
   "metadata": {},
   "outputs": [],
   "source": [
    "x = 1.48234\n",
    "y = 1.48235\n",
    "\n",
    "z = x - y\n",
    "z"
   ]
  },
  {
   "cell_type": "code",
   "execution_count": null,
   "metadata": {},
   "outputs": [],
   "source": [
    "x_dbl = np.float64(x)\n",
    "y_dbl = np.float64(y)\n",
    "diff_dbl = x_dbl - y_dbl\n",
    "print(repr(diff_dbl))"
   ]
  },
  {
   "cell_type": "code",
   "execution_count": null,
   "metadata": {},
   "outputs": [],
   "source": [
    "a = 1.\n",
    "b = 3000.001\n",
    "c = 3."
   ]
  },
  {
   "cell_type": "code",
   "execution_count": null,
   "metadata": {},
   "outputs": [],
   "source": [
    "d = np.sqrt(b*b - 4 * a * c)\n",
    "x1 = (-b + d) / (2 * a)\n",
    "x2 = (-b - d) / (2 * a)"
   ]
  },
  {
   "cell_type": "code",
   "execution_count": null,
   "metadata": {},
   "outputs": [],
   "source": [
    "print(x1)\n",
    "print(x2)"
   ]
  },
  {
   "cell_type": "code",
   "execution_count": null,
   "metadata": {},
   "outputs": [],
   "source": [
    "x1r = -2 * c / (b + d)\n",
    "x1r"
   ]
  },
  {
   "cell_type": "code",
   "execution_count": null,
   "metadata": {},
   "outputs": [],
   "source": []
  },
  {
   "cell_type": "code",
   "execution_count": null,
   "metadata": {
    "scrolled": true
   },
   "outputs": [],
   "source": [
    "dx = np.array([10**(-n) for n in range(1, 16)])\n",
    "x = 1.0 + dx\n",
    "y = -np.ones(x.shape)\n",
    "error = np.abs(x + y - dx) / (dx)\n",
    "\n",
    "fig = plt.figure()\n",
    "fig.set_figwidth(fig.get_figwidth() * 2)\n",
    "\n",
    "axes = fig.add_subplot(1, 2, 1)\n",
    "axes.loglog(dx, x + y, 'o-')\n",
    "axes.set_xlabel(\"$\\Delta x$\")\n",
    "axes.set_ylabel(\"$x + y$\")\n",
    "axes.set_title(\"$\\Delta x$ vs. $x+y$\")\n",
    "\n",
    "axes = fig.add_subplot(1, 2, 2)\n",
    "axes.loglog(dx, error, 'o-')\n",
    "axes.set_xlabel(\"$\\Delta x$\")\n",
    "axes.set_ylabel(\"$|x + y - \\Delta x| / \\Delta x$\")\n",
    "axes.set_title(\"Diferencia entre $x$ y $y$ vs. Error relativo\")\n",
    "\n",
    "plt.show()"
   ]
  },
  {
   "cell_type": "markdown",
   "metadata": {},
   "source": [
    "### Ejemplo 3: Evaluación de una función"
   ]
  },
  {
   "cell_type": "markdown",
   "metadata": {},
   "source": [
    "Considere la función\n",
    "\n",
    "$$\n",
    "    f(x) = \\frac{1 - \\cos x}{x^2}\n",
    "$$\n",
    "\n",
    "con $x\\in[-10^{-4}, 10^{-4}]$. \n",
    "\n",
    "Tomando el límite cuando $x \\rightarrow 0$ podemos ver qué comportamiento esperaríamos ver al evaluar esta función:\n",
    "\n",
    "$$\n",
    "    \\lim_{x \\rightarrow 0} \\frac{1 - \\cos x}{x^2} = \\lim_{x \\rightarrow 0} \\frac{\\sin x}{2 x} = \\lim_{x \\rightarrow 0} \\frac{\\cos x}{2} = \\frac{1}{2}.\n",
    "$$\n",
    "\n",
    "¿Qué hace la representación de punto flotante?"
   ]
  },
  {
   "cell_type": "code",
   "execution_count": null,
   "metadata": {},
   "outputs": [],
   "source": [
    "f = (1-np.cos(0.1))/0.1**2"
   ]
  },
  {
   "cell_type": "code",
   "execution_count": null,
   "metadata": {},
   "outputs": [],
   "source": [
    "x = np.linspace(-1e-3, 1e-3, 100, dtype=np.float32)\n",
    "error = (0.5 - (1.0 - np.cos(x)) / x**2) / 0.5\n",
    "\n",
    "fig = plt.figure()\n",
    "axes = fig.add_subplot(1, 1, 1)\n",
    "axes.plot(x, error, 'o')\n",
    "axes.set_xlabel(\"x\")\n",
    "axes.set_ylabel(\"Error Relativo\")"
   ]
  },
  {
   "cell_type": "markdown",
   "metadata": {},
   "source": [
    "### Ejemplo 4: Evaluación de un Polinomio"
   ]
  },
  {
   "cell_type": "markdown",
   "metadata": {},
   "source": [
    " $$f(x) = x^7 - 7x^6 + 21 x^5 - 35 x^4 + 35x^3-21x^2 + 7x - 1$$"
   ]
  },
  {
   "cell_type": "code",
   "execution_count": null,
   "metadata": {
    "scrolled": true
   },
   "outputs": [],
   "source": [
    "x = np.linspace(0.988, 1.012, 10000, dtype=np.float16)\n",
    "y = x**7 - 7.0 * x**6 + 21.0 * x**5 - 35.0 * x**4 + 35.0 * x**3 - 21.0 * x**2 + 7.0 * x - 1.0\n",
    "\n",
    "fig = plt.figure()\n",
    "axes = fig.add_subplot(1, 1, 1)\n",
    "axes.plot(x, y, 'r')\n",
    "axes.set_xlabel(\"x\")\n",
    "axes.set_ylabel(\"y\")\n",
    "axes.set_ylim((-0.1, 0.1))\n",
    "axes.set_xlim((x[0], x[-1]))\n",
    "plt.show()"
   ]
  },
  {
   "cell_type": "markdown",
   "metadata": {},
   "source": [
    "### Ejemplo 5: Evaluación de una función racional"
   ]
  },
  {
   "cell_type": "markdown",
   "metadata": {},
   "source": [
    "Calcule $f(x) = x + 1$ por la función $$F(x) = \\frac{x^2 - 1}{x - 1}$$\n",
    "\n",
    "¿Cuál comportamiento esperarías encontrar?"
   ]
  },
  {
   "cell_type": "code",
   "execution_count": null,
   "metadata": {},
   "outputs": [],
   "source": [
    "x = np.linspace(0.5, 1.5, 101, dtype=np.float16)\n",
    "f_hat = (x**2 - 1.0) / (x - 1.0)\n",
    "\n",
    "fig = plt.figure()\n",
    "axes = fig.add_subplot(1, 1, 1)\n",
    "axes.plot(x, np.abs(f_hat - (x + 1.0)))\n",
    "axes.set_xlabel(\"$x$\")\n",
    "axes.set_ylabel(\"Error Absoluto\")\n",
    "plt.show()"
   ]
  },
  {
   "cell_type": "markdown",
   "metadata": {},
   "source": [
    "## Combinación de error"
   ]
  },
  {
   "cell_type": "markdown",
   "metadata": {},
   "source": [
    "En general, nos debemos ocupar de la combinación de error de truncamiento con el error de punto flotante.\n",
    "\n",
    "- ***Error de Truncamiento:*** errores que surgen de la aproximación de una función, truncamiento de una serie.\n",
    "\n",
    "$$\\sin x \\approx x - \\frac{x^3}{3!} + \\frac{x^5}{5!} + O(x^7)$$\n",
    "\n",
    "\n",
    "- ***Error de punto flotante:*** errores derivados de la aproximación de números reales con números de precisión finita\n",
    "\n",
    "$$\\pi \\approx 3.14$$\n",
    "\n",
    "o $\\frac{1}{3} \\approx 0.333333333$ en decimal, los resultados forman un número finito de registros para representar cada número."
   ]
  },
  {
   "cell_type": "markdown",
   "metadata": {},
   "source": [
    "### Ejemplo 1:"
   ]
  },
  {
   "cell_type": "markdown",
   "metadata": {},
   "source": [
    "Considere la aproximación de diferencias finitas donde $f(x) = e^x$ y estamos evaluando en $x=1$\n",
    "\n",
    "$$f'(x) \\approx \\frac{f(x + \\Delta x) - f(x)}{\\Delta x}$$\n",
    "\n",
    "Compare el error entre disminuir $\\Delta x$ y la verdadera solucion $f'(1) = e$"
   ]
  },
  {
   "cell_type": "code",
   "execution_count": null,
   "metadata": {},
   "outputs": [],
   "source": [
    "delta_x = np.linspace(1e-20, 5.0, 100)\n",
    "delta_x = np.array([2.0**(-n) for n in range(1, 60)])\n",
    "x = 1.0\n",
    "f_hat_1 = (np.exp(x + delta_x) - np.exp(x)) / (delta_x)\n",
    "f_hat_2 = (np.exp(x + delta_x) - np.exp(x - delta_x)) / (2.0 * delta_x)\n",
    "\n",
    "fig = plt.figure()\n",
    "axes = fig.add_subplot(1, 1, 1)\n",
    "axes.loglog(delta_x, np.abs(f_hat_1 - np.exp(1)), 'o-', label=\"Unilateral\")\n",
    "axes.loglog(delta_x, np.abs(f_hat_2 - np.exp(1)), 's-', label=\"Centrado\")\n",
    "axes.legend(loc=3)\n",
    "axes.set_xlabel(\"$\\Delta x$\")\n",
    "axes.set_ylabel(\"Error Absoluto\")\n",
    "plt.show()"
   ]
  },
  {
   "cell_type": "markdown",
   "metadata": {},
   "source": [
    "### Ejemplo 2:"
   ]
  },
  {
   "cell_type": "markdown",
   "metadata": {},
   "source": [
    "Evalúe $e^x$ con la serie de *Taylor*\n",
    "\n",
    "$$e^x = \\sum^\\infty_{n=0} \\frac{x^n}{n!}$$\n",
    "\n",
    "podemos elegir $n< \\infty$ que puede aproximarse $e^x$ en un rango dado $x \\in [a,b]$ tal que el error relativo $E$ satisfaga $E<8 \\cdot \\varepsilon_{\\text{machine}}$?\n",
    "\n",
    "¿Cuál podría ser una mejor manera de simplemente evaluar el polinomio de Taylor directamente por varios $N$?"
   ]
  },
  {
   "cell_type": "code",
   "execution_count": null,
   "metadata": {
    "scrolled": true
   },
   "outputs": [],
   "source": [
    "def my_exp(x, N=10):\n",
    "    value = 0.0\n",
    "    for n in range(N + 1):\n",
    "        value += x**n / scipy.special.factorial(n)\n",
    "        \n",
    "    return value\n",
    "\n",
    "x = np.linspace(-2, 2, 100, dtype=np.float32)\n",
    "for N in range(1, 50):\n",
    "    error = np.abs((np.exp(x) - my_exp(x, N=N)) / np.exp(x))\n",
    "    if np.all(error < 8.0 * np.finfo(float).eps):\n",
    "        break\n",
    "\n",
    "print(N)\n",
    "\n",
    "fig = plt.figure()\n",
    "axes = fig.add_subplot(1, 1, 1)\n",
    "axes.plot(x, error)\n",
    "axes.set_xlabel(\"x\")\n",
    "axes.set_ylabel(\"Error Relativo\")\n",
    "plt.show()"
   ]
  },
  {
   "cell_type": "markdown",
   "metadata": {},
   "source": [
    "### Ejemplo 3: Error relativo"
   ]
  },
  {
   "cell_type": "markdown",
   "metadata": {},
   "source": [
    "Digamos que queremos calcular el error relativo de dos valores $x$ y $y$ usando $x$ como valor de normalización\n",
    "\n",
    "$$\n",
    "    E = \\frac{x - y}{x}\n",
    "$$\n",
    "y\n",
    "$$\n",
    "    E = 1 - \\frac{y}{x}\n",
    "$$\n",
    "\n",
    "son equivalentes. En precisión finita, ¿qué forma pidría esperarse que sea más precisa y por qué?\n",
    "\n",
    "Ejemplo tomado de [blog](https://nickhigham.wordpress.com/2017/08/14/how-and-how-not-to-compute-a-relative-error/) posteado por Nick Higham*"
   ]
  },
  {
   "cell_type": "markdown",
   "metadata": {},
   "source": [
    "Usando este modelo, la definición original contiene dos operaciones de punto flotante de manera que\n",
    "\n",
    "$$\\begin{aligned}\n",
    "    E_1 = \\text{fl}\\left(\\frac{x - y}{x}\\right) &= \\text{fl}(\\text{fl}(x - y) / x) \\\\\n",
    "    &= \\left[ \\frac{(x - y) (1 + \\delta_+)}{x} \\right ] (1 + \\delta_/) \\\\\n",
    "    &= \\frac{x - y}{x}  (1 + \\delta_+) (1 + \\delta_/)\n",
    "\\end{aligned}$$"
   ]
  },
  {
   "cell_type": "markdown",
   "metadata": {},
   "source": [
    "Para la otra formulación tenemos\n",
    "\n",
    "$$\\begin{aligned}\n",
    "    E_2 = \\text{fl}\\left( 1 - \\frac{y}{x} \\right ) &= \\text{fl}\\left(1 - \\text{fl}\\left(\\frac{y}{x}\\right) \\right) \\\\\n",
    "    &= \\left(1 - \\frac{y}{x} (1 + \\delta_/) \\right) (1 + \\delta_-)\n",
    "\\end{aligned}$$"
   ]
  },
  {
   "cell_type": "markdown",
   "metadata": {},
   "source": [
    "Si suponemos que todos las $\\text{op}$s tienen magnitudes de error similares, entonces podemos simplificar las cosas dejando que \n",
    "\n",
    "$$\n",
    "    |\\delta_\\ast| \\le \\epsilon.\n",
    "$$\n",
    "\n",
    "Para comparar las dos formulaciones, nuevamente usamos el error relativo entre el error relativo verdadero $e_i$ y nuestras versiones calculadas $E_i$"
   ]
  },
  {
   "cell_type": "markdown",
   "metadata": {},
   "source": [
    "Definición original\n",
    "\n",
    "$$\\begin{aligned}\n",
    "    \\frac{e - E_1}{e} &= \\frac{\\frac{x - y}{x} - \\frac{x - y}{x}  (1 + \\delta_+) (1 + \\delta_/)}{\\frac{x - y}{x}} \\\\\n",
    "    &\\le 1 - (1 + \\epsilon) (1 + \\epsilon) = 2 \\epsilon + \\epsilon^2\n",
    "\\end{aligned}$$"
   ]
  },
  {
   "cell_type": "markdown",
   "metadata": {},
   "source": [
    "Definición manipulada:\n",
    "\n",
    "$$\\begin{aligned}\n",
    "    \\frac{e - E_2}{e} &= \\frac{e - \\left[1 - \\frac{y}{x}(1 + \\delta_/) \\right] (1 + \\delta_-)}{e} \\\\\n",
    "    &= \\frac{e - \\left[e - \\frac{y}{x} \\delta_/) \\right] (1 + \\delta_-)}{e} \\\\\n",
    "    &= \\frac{e - \\left[e + e\\delta_- - \\frac{y}{x} \\delta_/ - \\frac{y}{x} \\delta_/ \\delta_-)) \\right] }{e} \\\\\n",
    "    &= - \\delta_- + \\frac{1}{e} \\frac{y}{x} \\left(\\delta_/ + \\delta_/ \\delta_- \\right) \\\\\n",
    "    &= - \\delta_- + \\frac{1 -e}{e} \\left(\\delta_/ + \\delta_/ \\delta_- \\right) \\\\\n",
    "    &\\le \\epsilon + \\left |\\frac{1 - e}{e}\\right | (\\epsilon + \\epsilon^2)\n",
    "\\end{aligned}$$\n",
    "\n",
    "Vemos entonces que nuestro error de punto flotante dependerá de la magnitud relativa de $e$"
   ]
  },
  {
   "cell_type": "code",
   "execution_count": null,
   "metadata": {},
   "outputs": [],
   "source": [
    "# Based on the code by Nick Higham\n",
    "# https://gist.github.com/higham/6f2ce1cdde0aae83697bca8577d22a6e\n",
    "# Compares relative error formulations using single precision and compared to double precision\n",
    "\n",
    "N = 501    # Note: Use 501 instead of 500 to avoid the zero value\n",
    "d = np.finfo(np.float32).eps * 1e4\n",
    "a = 3.0\n",
    "x = a * np.ones(N, dtype=np.float32)\n",
    "y = [x[i] + np.multiply((i - np.divide(N, 2.0, dtype=np.float32)), d, dtype=np.float32) for i in range(N)]\n",
    "\n",
    "# Compute errors and \"true\" error\n",
    "relative_error = np.empty((2, N), dtype=np.float32)\n",
    "relative_error[0, :] = np.abs(x - y) / x\n",
    "relative_error[1, :] = np.abs(1.0 - y / x)\n",
    "exact = np.abs( (np.float64(x) - np.float64(y)) / np.float64(x))\n",
    "\n",
    "# Compute differences between error calculations\n",
    "error = np.empty((2, N))\n",
    "for i in range(2):\n",
    "    error[i, :] = np.abs((relative_error[i, :] - exact) / np.abs(exact))\n",
    "\n",
    "fig = plt.figure()\n",
    "axes = fig.add_subplot(1, 1, 1)\n",
    "axes.semilogy(y, error[0, :], '.', markersize=10, label=\"$|x-y|/|x|$\")\n",
    "axes.semilogy(y, error[1, :], '.', markersize=10, label=\"$|1-y/x|$\")\n",
    "\n",
    "axes.grid(True)\n",
    "axes.set_xlabel(\"y\")\n",
    "axes.set_ylabel(\"Error Relativo\")\n",
    "axes.set_xlim((np.min(y), np.max(y)))\n",
    "axes.set_ylim((5e-9, np.max(error[1, :])))\n",
    "axes.set_title(\"Comparasión Error Relativo\")\n",
    "axes.legend()\n",
    "plt.show()"
   ]
  },
  {
   "cell_type": "markdown",
   "metadata": {},
   "source": [
    "Algunos enlaces de utilidad con respecto al punto flotante IEEE:\n",
    "\n",
    "- [What Every Computer Scientist Should Know About Floating-Point Arithmetic](http://docs.oracle.com/cd/E19957-01/806-3568/ncg_goldberg.html)\n",
    "\n",
    "\n",
    "- [IEEE 754 Floating Point Calculator](http://babbage.cs.qc.edu/courses/cs341/IEEE-754.html)\n",
    "\n",
    "\n",
    "- [Numerical Computing with IEEE Floating Point Arithmetic](http://epubs.siam.org/doi/book/10.1137/1.9780898718072)"
   ]
  },
  {
   "cell_type": "markdown",
   "metadata": {},
   "source": [
    "## Operaciones de conteo"
   ]
  },
  {
   "cell_type": "markdown",
   "metadata": {},
   "source": [
    "- ***Error de truncamiento:*** *¿Por qué no usar más términos en la serie de Taylor?*\n",
    "\n",
    "\n",
    "- ***Error de punto flotante:*** *¿Por qué no utilizar la mayor precisión posible?*"
   ]
  },
  {
   "cell_type": "markdown",
   "metadata": {},
   "source": [
    "### Ejemplo 1: Multiplicación matriz - vector"
   ]
  },
  {
   "cell_type": "markdown",
   "metadata": {},
   "source": [
    "Sea $A, B \\in \\mathbb{R}^{N \\times N}$ y $x \\in \\mathbb{R}^N$.\n",
    "\n",
    "1. Cuenta el número aproximado de operaciones que tomará para calcular $Ax$\n",
    "\n",
    "2. Hacer lo mismo para $AB$"
   ]
  },
  {
   "cell_type": "markdown",
   "metadata": {},
   "source": [
    "***Producto Matriz-vector:*** Definiendo $[A]_i$ como la $i$-ésima fila de $A$ y $A_{ij}$ como la $i$,$j$-ésima entrada entonces\n",
    "\n",
    "$$\n",
    "    A x = \\sum^N_{i=1} [A]_i \\cdot x = \\sum^N_{i=1} \\sum^N_{j=1} A_{ij} x_j\n",
    "$$\n",
    "\n",
    "Tomando un caso en particular, siendo $N=3$, entonces la operación de conteo es\n",
    "\n",
    "$$\n",
    "    A x = [A]_1 \\cdot v + [A]_2 \\cdot v + [A]_3 \\cdot v = \\begin{bmatrix}\n",
    "        A_{11} \\times v_1 + A_{12} \\times v_2 + A_{13} \\times v_3 \\\\\n",
    "        A_{21} \\times v_1 + A_{22} \\times v_2 + A_{23} \\times v_3 \\\\\n",
    "        A_{31} \\times v_1 + A_{32} \\times v_2 + A_{33} \\times v_3\n",
    "    \\end{bmatrix}\n",
    "$$\n",
    "\n",
    "Esto son 15 operaciones (6 sumas y 9 multiplicaciones)"
   ]
  },
  {
   "cell_type": "markdown",
   "metadata": {},
   "source": [
    "Tomando otro caso, siendo $N=4$, entonces el conteo de operaciones es:\n",
    "\n",
    "$$\n",
    "    A x = [A]_1 \\cdot v + [A]_2 \\cdot v + [A]_3 \\cdot v = \\begin{bmatrix}\n",
    "        A_{11} \\times v_1 + A_{12} \\times v_2 + A_{13} \\times v_3 + A_{14} \\times v_4 \\\\\n",
    "        A_{21} \\times v_1 + A_{22} \\times v_2 + A_{23} \\times v_3 + A_{24} \\times v_4 \\\\\n",
    "        A_{31} \\times v_1 + A_{32} \\times v_2 + A_{33} \\times v_3 + A_{34} \\times v_4 \\\\\n",
    "        A_{41} \\times v_1 + A_{42} \\times v_2 + A_{43} \\times v_3 + A_{44} \\times v_4 \\\\\n",
    "    \\end{bmatrix}\n",
    "$$\n",
    "\n",
    "Esto lleva a 28 operaciones (12 sumas y 16 multiplicaciones).\n",
    "\n",
    "Generalizando, hay $N^2$ mutiplicaciones y $N(N-1)$ sumas para un total de \n",
    "\n",
    "$$\n",
    "    \\text{operaciones} = N (N - 1) + N^2 = \\mathcal{O}(N^2).\n",
    "$$"
   ]
  },
  {
   "cell_type": "markdown",
   "metadata": {},
   "source": [
    "***Producto Matriz-Matriz ($AB$):*** Definiendo $[B]_j$ como la $j$-ésima columna de $B$ entonces\n",
    "\n",
    "$$\n",
    "    (A B)_{ij} = \\sum^N_{i=1} \\sum^N_{j=1} [A]_i \\cdot [B]_j\n",
    "$$\n",
    "\n",
    "El producto interno de dos vectores es representado por \n",
    "\n",
    "$$\n",
    "    a \\cdot b = \\sum^N_{i=1} a_i b_i\n",
    "$$\n",
    "\n",
    "conduce a $\\mathcal{O}(3N)$ operaciones. Como hay $N^2$ entradas en la matriz resultante, tendríamos $\\mathcal{O}(N^3)$ operaciones"
   ]
  },
  {
   "cell_type": "markdown",
   "metadata": {},
   "source": [
    "Existen métodos para realizar la multiplicación matriz - matriz más rápido. En la siguiente figura vemos una colección de algoritmos a lo largo del tiempo que han podido limitar el número de operaciones en ciertas circunstancias\n",
    "$$\n",
    "    \\mathcal{O}(N^\\omega)\n",
    "$$\n",
    "![matrix multiplication operation bound](./images/bound_matrix_multiply.png)"
   ]
  },
  {
   "cell_type": "markdown",
   "metadata": {},
   "source": [
    "[Volver a la Tabla de Contenido](#TOC)"
   ]
  },
  {
   "cell_type": "markdown",
   "metadata": {},
   "source": [
    "### Ejemplo 2: Método de Horner para evaluar polinomios"
   ]
  },
  {
   "cell_type": "markdown",
   "metadata": {},
   "source": [
    "Dado\n",
    "\n",
    "$$P_N(x) = a_0 + a_1 x + a_2 x^2 + \\ldots + a_N x^N$$ \n",
    "\n",
    "o\n",
    "\n",
    "\n",
    "$$P_N(x) = p_1 x^N + p_2 x^{N-1} + p_3 x^{N-2} + \\ldots + p_{N+1}$$\n",
    "\n",
    "queremos encontrar la mejor vía para evaluar $P_N(x)$"
   ]
  },
  {
   "cell_type": "markdown",
   "metadata": {},
   "source": [
    "Primero considere dos vías para escribir $P_3$\n",
    "\n",
    "$$ P_3(x) = p_1 x^3 + p_2 x^2 + p_3 x + p_4$$\n",
    "\n",
    "y usando multiplicación anidada\n",
    "\n",
    "$$ P_3(x) = ((p_1 x + p_2) x + p_3) x + p_4$$"
   ]
  },
  {
   "cell_type": "markdown",
   "metadata": {},
   "source": [
    "Considere cuántas operaciones se necesitan para cada...\n",
    "\n",
    "$$ P_3(x) = p_1 x^3 + p_2 x^2 + p_3 x + p_4$$\n",
    "\n",
    "$$P_3(x) = \\overbrace{p_1 \\cdot x \\cdot x \\cdot x}^3 + \\overbrace{p_2 \\cdot x \\cdot x}^2 + \\overbrace{p_3 \\cdot x}^1 + p_4$$"
   ]
  },
  {
   "cell_type": "markdown",
   "metadata": {},
   "source": [
    "Sumando todas las operaciones, en general podemos pensar en esto como una pirámide\n",
    "\n",
    "![Original Count](./images/horners_method_big_count.png)\n",
    "\n",
    "podemos estimar de esta manera que el algoritmo escrito de esta manera tomará aproximadamente $\\mathcal{O}(N^2/2)$ operaciones para completar."
   ]
  },
  {
   "cell_type": "markdown",
   "metadata": {},
   "source": [
    "Mirando nuetros otros medios de evaluación\n",
    "\n",
    "$$ P_3(x) = ((p_1 x + p_2) x + p_3) x + p_4$$\n",
    "\n",
    "Aquí encontramos que el método es $\\mathcal{O}(N)$ (el 2 generalmente se ignora en estos casos). Lo importante es que la primera evaluación es $\\mathcal{O}(N^2)$ y la segunda $\\mathcal{O}(N)$!"
   ]
  },
  {
   "cell_type": "markdown",
   "metadata": {},
   "source": [
    "[Volver a la Tabla de Contenido](#TOC)"
   ]
  },
  {
   "cell_type": "markdown",
   "metadata": {},
   "source": [
    "### Algoritmo"
   ]
  },
  {
   "cell_type": "markdown",
   "metadata": {},
   "source": [
    "Complete la función e implemente el método de *Horner*\n",
    "\n",
    "```python\n",
    "def eval_poly(p, x):\n",
    "    \"\"\"Evaluates polynomial given coefficients p at x\n",
    "    \n",
    "    Function to evaluate a polynomial in order N operations.  The polynomial is defined as\n",
    "    \n",
    "    P(x) = p[0] x**n + p[1] x**(n-1) + ... + p[n-1] x + p[n]\n",
    "    \n",
    "    The value x should be a float.\n",
    "    \"\"\"\n",
    "    pass\n",
    "```"
   ]
  },
  {
   "cell_type": "code",
   "execution_count": null,
   "metadata": {},
   "outputs": [],
   "source": [
    "# Scalar version\n",
    "def eval_poly(p, x):\n",
    "    \"\"\"Evaluates polynomial given coefficients p at x\n",
    "    \n",
    "    Function to evaluate a polynomial in order N operations.  The polynomial is defined as\n",
    "    \n",
    "    P(x) = p[0] x**n + p[1] x**(n-1) + ... + p[n-1] x + p[n]\n",
    "    \n",
    "    The value x should be a float.\n",
    "    \"\"\"\n",
    "    \n",
    "    y = p[0]\n",
    "    for coefficient in p[1:]:\n",
    "        y = y * x + coefficient\n",
    "    \n",
    "    return y\n",
    "\n",
    "# Vectorized version\n",
    "def eval_poly(p, x):\n",
    "    \"\"\"Evaluates polynomial given coefficients p at x\n",
    "    \n",
    "    Function to evaluate a polynomial in order N operations.  The polynomial is defined as\n",
    "    \n",
    "    P(x) = p[0] x**n + p[1] x**(n-1) + ... + p[n-1] x + p[n]\n",
    "    \n",
    "    The value x can by a NumPy ndarray.\n",
    "    \"\"\"\n",
    "    \n",
    "    y = numpy.ones(x.shape) * p[0]\n",
    "    for coefficient in p[1:]:\n",
    "        y = y * x + coefficient\n",
    "    \n",
    "    return y\n",
    "\n",
    "p = [1, -3, 10, 4, 5, 5]\n",
    "x = numpy.linspace(-10, 10, 100)\n",
    "plt.plot(x, eval_poly(p, x))\n",
    "plt.show()"
   ]
  },
  {
   "cell_type": "markdown",
   "metadata": {},
   "source": [
    "[Volver a la Tabla de Contenido](#TOC)"
   ]
  },
  {
   "cell_type": "code",
   "execution_count": null,
   "metadata": {},
   "outputs": [],
   "source": [
    "from IPython.core.display import HTML\n",
    "def css_styling():\n",
    "    styles = open('./nb_style.css', 'r').read()\n",
    "    return HTML(styles)\n",
    "css_styling()"
   ]
  },
  {
   "cell_type": "code",
   "execution_count": null,
   "metadata": {},
   "outputs": [],
   "source": []
  }
 ],
 "metadata": {
  "celltoolbar": "Slideshow",
  "kernelspec": {
   "display_name": "Python 3 (ipykernel)",
   "language": "python",
   "name": "python3"
  },
  "language_info": {
   "codemirror_mode": {
    "name": "ipython",
    "version": 3
   },
   "file_extension": ".py",
   "mimetype": "text/x-python",
   "name": "python",
   "nbconvert_exporter": "python",
   "pygments_lexer": "ipython3",
   "version": "3.11.3"
  },
  "toc": {
   "base_numbering": 1,
   "nav_menu": {},
   "number_sections": true,
   "sideBar": true,
   "skip_h1_title": true,
   "title_cell": "Tabla de Contenidos",
   "title_sidebar": "Contenidos",
   "toc_cell": true,
   "toc_position": {
    "height": "calc(100% - 180px)",
    "left": "10px",
    "top": "150px",
    "width": "165px"
   },
   "toc_section_display": true,
   "toc_window_display": true
  }
 },
 "nbformat": 4,
 "nbformat_minor": 2
}
