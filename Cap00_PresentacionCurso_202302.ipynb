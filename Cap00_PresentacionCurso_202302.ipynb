{
 "cells": [
  {
   "cell_type": "markdown",
   "metadata": {},
   "source": [
    "<h1 align=\"center\">Análisis Numérico</h1>\n",
    "<h1 align=\"center\">Presentación del Curso</h1>\n",
    "<h1 align=\"center\">2023/02</h1>\n",
    "<h1 align=\"center\">MEDELLÍN - COLOMBIA </h1>"
   ]
  },
  {
   "cell_type": "markdown",
   "metadata": {},
   "source": [
    "<table>\n",
    " <tr align=left><td><img align=left src=\"https://github.com/carlosalvarezh/CFD_Applied/blob/master/figs/CC-BY.png?raw=true\">\n",
    " <td>Text provided under a Creative Commons Attribution license, CC-BY. All code is made available under the FSF-approved MIT license.(c) Carlos Alberto Alvarez Henao</td>\n",
    "</table>"
   ]
  },
  {
   "cell_type": "markdown",
   "metadata": {},
   "source": [
    "*** \n",
    "\n",
    "***Docente:*** Carlos Alberto Álvarez Henao, I.C. D.Sc.\n",
    "\n",
    "***e-mail:*** carlosalvarezh@gmail.com\n",
    "\n",
    "***skype:*** carlos.alberto.alvarez.henao\n",
    "\n",
    "***Linkedin:*** https://www.linkedin.com/in/carlosalvarez5/\n",
    "\n",
    "***github:*** https://github.com/carlosalvarezh/Metodos_Numericos\n",
    "\n",
    "***Herramienta:*** [Jupyter](http://jupyter.org/)\n",
    "\n",
    "***Kernel:*** Python 3.8\n",
    "\n",
    "\n",
    "***"
   ]
  },
  {
   "cell_type": "markdown",
   "metadata": {},
   "source": [
    "<a id='TOC'></a>"
   ]
  },
  {
   "cell_type": "markdown",
   "metadata": {},
   "source": [
    "<p float=\"center\">\n",
    "  <img src=\"https://github.com/carlosalvarezh/Analisis_Numerico/blob/master/images/C00_Img01_Intro.PNG?raw=true\" width=\"500\" />\n",
    "</p>\n"
   ]
  },
  {
   "cell_type": "markdown",
   "metadata": {},
   "source": [
    "## Aspectos generales del curso"
   ]
  },
  {
   "cell_type": "markdown",
   "metadata": {},
   "source": [
    "### Programa clase-a-clase"
   ]
  },
  {
   "cell_type": "markdown",
   "metadata": {},
   "source": [
    "|**Semana** |**Fecha**|**Capítulo**|**Contenido** |**Comentarios**|\n",
    "|--------:|:-------:|:-------|--------------|------------------------|\n",
    "|1 |24-26/07/23|Introducción|Charla de Bienvenida. Introducción al curso||\n",
    "|2 |31/07-02/08/23|<span style=\"color: green;\">Teoría de Errores</span>|Fuentes de error, Notación Big-O, Error de punto flotante. Error de truncamiento||\n",
    "|3 |<span style=\"color: red;\">07</span>-09/08/23||Combinación de error, Operaciones de conteo. Número de condición de una función.  Forma anidad de Hörner y aritmética de $n$ decimales. El error y su relación con la estabilidad de los algoritmos|<span style=\"color: red;\">festivo</span>|\n",
    "|4 |14-16/08/23|<span style=\"color: green;\">Raíces de ecuaciones</span>|Método gráfico. Búsquedas incrementales. Método de Bisección, Teorema sobre convergencia en bisección||\n",
    "|5 |<span style=\"color: red;\">21</span>-23/08/23||Punto fijo: teorema, corolarios y condiciones para hallar $G(x)$. Método de Newton-Raphson (teoremas y conclusión). Método de la Secante (teoremas y conclusión). Método de Raíces múltiples (teoremas y conclusión)|<span style=\"color: red;\">festivo</span>|\n",
    "|6|<span style=\"color: green;\">28</span>-30/08/23|<span style=\"color: salmon;\">Sistema de Ecuaciones Lineales</span>|Introducción a la solución numérica de Sistemas De ecuaciones. Criterios de Existencia y Unicidad. Eliminación Gaussiana. Número de operaciones en el proceso de EG. Problemas en la solución.|<span style=\"color: green;\">Primer parcial (15%)</span>|\n",
    "|7|04-06/09/23|| Estrategias de pivoteo. Factorización $LU$: Doolittle, Crout y Cholesky. Aplicaciones de la Factorización $LU$||\n",
    "|8|11-13/09/23||Introducción a métodos iterativos. Normas Vectoriales y Matriciales. Número de Condición de una Matriz||\n",
    "|9|18-20/09/23||Métodos de Jacobi. Gauss-Seidel y SOR. Formas Matriciales. Teoremas de Convergencias para métodos iterativos.  Aspectos generales del refinamiento iterativo||\n",
    "|10|<span style=\"color: salmon;\">25</span>-27/09/23|<span style=\"color: purple;\">Interpolación Numérica</span>|Introducción. Método de diferencias dividas de Newton|<span style=\"color: blue;\"><span style=\"color: salmon;\">Segundo Parcial (15%)</span>; </span> <span style=\"color: salmon;\">Primer trabajo (15%)</span>|\n",
    "|11|02-04/10/23||Método de Interpolación de  Lagrange||\n",
    "|12|09-11/10/23||Trazadores lineales, cuadráticos y cúbicos||\n",
    "|13|<span style=\"color: red;\">16</span>-18/10/23|<span style=\"color: purple;\">Diferenciación e Integración Numérica</span>|Métodos diferenciación numérica. Integración numérica Trapecio|<span style=\"color: red;\">festivo</span>|\n",
    "|14|23-25/10/23||Integración numérica Reglas de Simpson 1/3 y 3/8 simple y compuesto||\n",
    "|15|30/10-01/11/23|<span style=\"color: purple;\">Ecuaciones Diferenciales Ordinarias</span>|Introducción, Método de Euler|Entrega 1 Práctica Final (15%). 70% - 06/11/2021|\n",
    "|16|<span style=\"color: red;\">06</span>-<span style=\"color: purple;\">08</span>/11/23||Método de RK-2 y RK-4|<span style=\"color: red;\">festivo</span><span style=\"color: purple;\">; Tercer Parcial (15%)</span>; <span style=\"color: purple;\">Segundo trabajo (15%)</span>|\n",
    "|  |<span style=\"color: blue;\">20</span>/11/23||<span style=\"color: blue;\">Final (25%) - todo el curso</span>||"
   ]
  },
  {
   "cell_type": "markdown",
   "metadata": {},
   "source": [
    "### Evaluación"
   ]
  },
  {
   "cell_type": "markdown",
   "metadata": {},
   "source": [
    "|Tema                          |Porcentaje|Fecha     |\n",
    "|:-----------------------------|:--------:|:--------:|\n",
    "|Parcial 01 - Error y Raíces de ecuaciones  |15%       |28/08/23|\n",
    "|Parcial 02 - Sistema de Ecuaciones Lineales|15%       |25/09/23|\n",
    "|Primer trabajo                             |15%       |25/09/23|\n",
    "|Parcial 03 - Interpolación Numérica, Diferenciación e Integración Numérica y EDO|15%|08/11/23|\n",
    "|Segundo Trabajo                            |15%|08/11/23|\n",
    "|Final - Todos los temas del curso          |25%|20/11/23|\n",
    "\n",
    "- ***Parciales:*** Los parciales se realizarán en el horario de clase en las fechas indicadas y tendrá una duración de 1.5 horas.\n",
    "\n",
    "- ***Trabajos prácticos:*** Los trabajos prácticos consistirá en el desarrollo de un trabajo grupal (hasta 3 estudiantes) en un tema de los contenidos del curso. Los temas serán indicados en las primeras semanas del semestre. Tendrá dos momentos de entrega, cada uno con un valor de 15%. En el transcurso del semestre se les compartirá la rúbrica de evaluación correspondiente.\n",
    "\n",
    "- ***Examen Final:*** Se tratarán todos los temas vistos en el curso."
   ]
  },
  {
   "cell_type": "markdown",
   "metadata": {},
   "source": [
    "### Bibliográfia"
   ]
  },
  {
   "cell_type": "markdown",
   "metadata": {},
   "source": [
    "- Burden, Richard L. & Faires, Duglas. Análisis Numérico. Editorial Thomson. 9° Edición 2011.\n",
    "\n",
    "\n",
    "- Chapra, Steven & Canale, Raymond.  Métodos Numéricos para ingenieros, McgrawHill, 1987.\n",
    "\n",
    "\n",
    "- Heath, Michael T. Scientific Computing: An Introductory Survey, SIAM, 2006.\n",
    "\n",
    "\n",
    "- Python. Recuperado de https://www.python.org/\n",
    "\n",
    "\n",
    "- Jupyter Notebook. Recuperado de https://jupyter.org/\n",
    "\n",
    "\n",
    "- Anaconda. Recuperado de https://www.anaconda.com/\n",
    "\n",
    "\n",
    "- Google Colab. Recuperado de https://colab.research.google.com/"
   ]
  },
  {
   "cell_type": "code",
   "execution_count": null,
   "metadata": {},
   "outputs": [],
   "source": [
    "from IPython.core.display import HTML\n",
    "def css_styling():\n",
    "    styles = open('./nb_style.css', 'r').read()\n",
    "    return HTML(styles)\n",
    "css_styling()"
   ]
  }
 ],
 "metadata": {
  "kernelspec": {
   "display_name": "Python 3 (ipykernel)",
   "language": "python",
   "name": "python3"
  },
  "language_info": {
   "codemirror_mode": {
    "name": "ipython",
    "version": 3
   },
   "file_extension": ".py",
   "mimetype": "text/x-python",
   "name": "python",
   "nbconvert_exporter": "python",
   "pygments_lexer": "ipython3",
   "version": "3.11.3"
  },
  "toc": {
   "base_numbering": 1,
   "nav_menu": {},
   "number_sections": true,
   "sideBar": true,
   "skip_h1_title": true,
   "title_cell": "Tabla de Contenidos",
   "title_sidebar": "Contenidos",
   "toc_cell": true,
   "toc_position": {
    "height": "calc(100% - 180px)",
    "left": "10px",
    "top": "150px",
    "width": "165px"
   },
   "toc_section_display": true,
   "toc_window_display": true
  }
 },
 "nbformat": 4,
 "nbformat_minor": 2
}
