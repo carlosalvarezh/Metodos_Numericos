{
 "cells": [
  {
   "cell_type": "markdown",
   "metadata": {},
   "source": [
    "<h1 align=\"center\">Métodos Numéricos</h1>\n",
    "<h1 align=\"center\">Presentación del Curso</h1>\n",
    "<h1 align=\"center\">2021/02</h1>\n",
    "<h1 align=\"center\">MEDELLÍN - COLOMBIA </h1>"
   ]
  },
  {
   "cell_type": "markdown",
   "metadata": {},
   "source": [
    "<table>\n",
    " <tr align=left><td><img align=left src=\"https://github.com/carlosalvarezh/CFD_Applied/blob/master/figs/CC-BY.png?raw=true\">\n",
    " <td>Text provided under a Creative Commons Attribution license, CC-BY. All code is made available under the FSF-approved MIT license.(c) Carlos Alberto Alvarez Henao</td>\n",
    "</table>"
   ]
  },
  {
   "cell_type": "markdown",
   "metadata": {},
   "source": [
    "*** \n",
    "\n",
    "***Docente:*** Carlos Alberto Álvarez Henao, I.C. D.Sc.\n",
    "\n",
    "***e-mail:*** carlosalvarezh@gmail.com\n",
    "\n",
    "***skype:*** carlos.alberto.alvarez.henao\n",
    "\n",
    "***Linkedin:*** https://www.linkedin.com/in/carlosalvarez5/\n",
    "\n",
    "***github:*** https://github.com/carlosalvarezh/Metodos_Numericos\n",
    "\n",
    "***Herramienta:*** [Jupyter](http://jupyter.org/)\n",
    "\n",
    "***Kernel:*** Python 3.8\n",
    "\n",
    "\n",
    "***"
   ]
  },
  {
   "cell_type": "markdown",
   "metadata": {},
   "source": [
    "<a id='TOC'></a>"
   ]
  },
  {
   "cell_type": "markdown",
   "metadata": {
    "toc": true
   },
   "source": [
    "<h1>Tabla de Contenidos<span class=\"tocSkip\"></span></h1>\n",
    "<div class=\"toc\"><ul class=\"toc-item\"><li><span><a href=\"#Motivación\" data-toc-modified-id=\"Motivación-1\"><span class=\"toc-item-num\">1&nbsp;&nbsp;</span>Motivación</a></span></li><li><span><a href=\"#Aspectos-generales-del-curso\" data-toc-modified-id=\"Aspectos-generales-del-curso-2\"><span class=\"toc-item-num\">2&nbsp;&nbsp;</span>Aspectos generales del curso</a></span><ul class=\"toc-item\"><li><span><a href=\"#Programa-clase-a-clase\" data-toc-modified-id=\"Programa-clase-a-clase-2.1\"><span class=\"toc-item-num\">2.1&nbsp;&nbsp;</span>Programa clase-a-clase</a></span></li><li><span><a href=\"#Evaluación\" data-toc-modified-id=\"Evaluación-2.2\"><span class=\"toc-item-num\">2.2&nbsp;&nbsp;</span>Evaluación</a></span></li><li><span><a href=\"#Bibliográfia\" data-toc-modified-id=\"Bibliográfia-2.3\"><span class=\"toc-item-num\">2.3&nbsp;&nbsp;</span>Bibliográfia</a></span></li><li><span><a href=\"#Asesorías-y-Monitorias-académicas\" data-toc-modified-id=\"Asesorías-y-Monitorias-académicas-2.4\"><span class=\"toc-item-num\">2.4&nbsp;&nbsp;</span>Asesorías y Monitorias académicas</a></span></li></ul></li></ul></div>"
   ]
  },
  {
   "cell_type": "markdown",
   "metadata": {},
   "source": [
    "<p float=\"center\">\n",
    "  <img src=\"https://github.com/carlosalvarezh/Analisis_Numerico/blob/master/images/C00_Img01_Intro.PNG?raw=true\" width=\"500\" />\n",
    "</p>\n"
   ]
  },
  {
   "cell_type": "markdown",
   "metadata": {},
   "source": [
    "## Motivación"
   ]
  },
  {
   "cell_type": "markdown",
   "metadata": {},
   "source": [
    "Deseamos desarrollar las siguientes operaciones aritméticas: \n",
    "\n",
    "- $2+2$\n",
    "\n",
    "- $4 \\times 4$\n",
    "\n",
    "- $\\left(\\sqrt{3} \\right )^2$\n",
    "\n",
    "desde un punto de vista analítico, las soluciones exactas (a mano y en papel?) son\n",
    "\n",
    "- $2+2 = 4$\n",
    "\n",
    "- $4 \\times 4 = 16$\n",
    "\n",
    "- $\\left(\\sqrt{3} \\right )^2 = 3$\n",
    "\n",
    "pero veamos qué sucede cuando realizamos las mismas operaciones empleando un dispositivo electrónico (calculadora, computador, etc)"
   ]
  },
  {
   "cell_type": "code",
   "execution_count": 2,
   "metadata": {},
   "outputs": [],
   "source": [
    "a = 2 + 2\n",
    "b = 4 * 4\n",
    "c = (3**(1/2))**2"
   ]
  },
  {
   "cell_type": "markdown",
   "metadata": {},
   "source": [
    "preguntemos al computador si los resultados obtenidos en los cálculos son los esperados"
   ]
  },
  {
   "cell_type": "code",
   "execution_count": 3,
   "metadata": {},
   "outputs": [
    {
     "data": {
      "text/plain": [
       "True"
      ]
     },
     "execution_count": 3,
     "metadata": {},
     "output_type": "execute_result"
    }
   ],
   "source": [
    "a == 4"
   ]
  },
  {
   "cell_type": "code",
   "execution_count": 4,
   "metadata": {},
   "outputs": [
    {
     "data": {
      "text/plain": [
       "True"
      ]
     },
     "execution_count": 4,
     "metadata": {},
     "output_type": "execute_result"
    }
   ],
   "source": [
    "b == 16"
   ]
  },
  {
   "cell_type": "code",
   "execution_count": 5,
   "metadata": {},
   "outputs": [
    {
     "data": {
      "text/plain": [
       "False"
      ]
     },
     "execution_count": 5,
     "metadata": {},
     "output_type": "execute_result"
    }
   ],
   "source": [
    "c == 3"
   ]
  },
  {
   "cell_type": "markdown",
   "metadata": {},
   "source": [
    "`False`? Qué sucedió? por qué el resultado de comparar el valor que entendemos como verdadero y el obtenido empleando un dispositivo electrónico (calculadora) es falso? Veamos entonces cuál es el resultado que arrojó el cálculo:"
   ]
  },
  {
   "cell_type": "code",
   "execution_count": 6,
   "metadata": {},
   "outputs": [
    {
     "name": "stdout",
     "output_type": "stream",
     "text": [
      "2.9999999999999996\n"
     ]
    }
   ],
   "source": [
    "print(c)"
   ]
  },
  {
   "cell_type": "markdown",
   "metadata": {},
   "source": [
    "Efectivamente, se oberva que el valor calculado no es el esperado. Puede ser que, para muchas de las situaciones cotidianas, este valor no sea percibido como una diferencia apreciable (\"error\") y simplemente se asuma que ambos valores son iguales (\"redondeo\"). Pero, y si esta operación la tuviera qué repetir muchas veces? qué sucede con ese pequeño errror? Será que se puede simplemente despreciar? qué sucede para cálculos más complejos? se podría determinar la cantidad de error en los cálculos numéricos realizados a través de un computador? este error aumenta sin control? hasta cuándo se podrá decir que dos cantidades son \"iguales\"? El errror es debido a qué? una mala implementación de la operación aritmética? el lenguaje empleado para realizar el cálculo? La máquina? la formulación matemática? humano?\n",
    "\n",
    "Estas, y muchas otras, preguntas son las que se pretenden resolver en el curso de Análisis Numérico."
   ]
  },
  {
   "cell_type": "markdown",
   "metadata": {},
   "source": [
    "[Volver a la Tabla de Contenido](#TOC)"
   ]
  },
  {
   "cell_type": "markdown",
   "metadata": {},
   "source": [
    "## Aspectos generales del curso"
   ]
  },
  {
   "cell_type": "markdown",
   "metadata": {},
   "source": [
    "### Programa clase-a-clase"
   ]
  },
  {
   "cell_type": "markdown",
   "metadata": {},
   "source": [
    "|**Clase** |**Fecha**|**Capítulo**|**Contenido** |**Actividad Evaluativa**|\n",
    "|--------:|:-------:|:-------|--------------|------------------------|\n",
    "|1 |20-21/07/2021||Descripción del curso y concertación del Pacto Pedagógico.||\n",
    "|2 |27-28/07/2021|Teoría de Errores|Fuentes de error, Notación Big-O, Error de punto flotante. Error de truncamiento||\n",
    "|3 |03-04/08/2021||Combinación de error, Operaciones de conteo. Número de condición de una función.  Forma anidad de Hörner y aritmética de $n$ decimales. El error y su relación con la estabilidad de los algoritmos||\n",
    "|4 |10-11/08/2021|Raíces de ecuaciones|Método gráfico. Búsquedas incrementales. Método de Bisección, Teorema sobre convergencia en bisección|Quiz01|\n",
    "|5 |17-18/08/2021||Punto fijo: teorema, corolarios y condiciones para hallar $G(x)$. Método de Newton-Raphson (teoremas y conclusión). Método de la Secante (teoremas y conclusión). Método de Raíces múltiples (teoremas y conclusión)||\n",
    "|6|24-25/08/2021|Sistema de Ecuaciones Lineales|Introducción a la solución numérica de Sistemas De ecuaciones. Criterios de Existencia y Unicidad. Eliminación Gaussiana. Número de operaciones en el proceso de EG. Problemas en la solución.|Quiz02|\n",
    "|7|31/08-01/09/2021|| Estrategias de pivoteo. Factorización $LU$: Doolittle, Crout y Cholesky. Aplicaciones de la Factorización $LU$|Primer parcial (15%)|\n",
    "|8|07-08/09/2021||Introducción a métodos iterativos. Normas Vectoriales y Matriciales. Número de Condición de una Matriz|Asamblea estudiantíl|\n",
    "|9|14-15/09/2021||Métodos de Jacobi. Gauss-Seidel y SOR. Formas Matriciales. Teoremas de Convergencias para métodos iterativos.  Aspectos generales del refinamiento iterativo|Quiz03|\n",
    "||20-25/09/2021|||Semana de receso académico|\n",
    "|10|28-29/09/2021|Interpolación Numérica. |Introducción. Método de diferencias dividas de Newton|Segundo Parcial (15%)|\n",
    "|11|05-06/10/2021||Método de Interpolación de  Lagrange||\n",
    "|12|12-13/10/2021||Trazadores lineales, cuadráticos y cúbicos|Quiz04|\n",
    "|13|19-20/10/2021|Diferenciación e Integración Numérica|Métodos diferenciación numérica. Integración numérica Trapecio||\n",
    "|14|26-27/10/2021||Integración numérica Reglas de Simpson 1/3 y 3/8 simple y compuesto|Quiz05|\n",
    "|15|02-03/11/2021|Ecuaciones Diferenciales Ordinarias|Introducción, Método de Euler|Entrega 1 Práctica Final (15%). 70% - 06/11/2021|\n",
    "|16|09-10/11/2021||Método de RK-2 y RK-4||\n",
    "|  |15-20/11/2021|||Tercer Parcial (15%) Semana de receso académico|\n",
    "|  |23-24/11/2021|||Práctica Final - Entrega 2 (15%)|\n",
    "|  |01/12/2021   |||Balance académico Reporte 100% notas|\n"
   ]
  },
  {
   "cell_type": "markdown",
   "metadata": {},
   "source": [
    "[Volver a la Tabla de Contenido](#TOC)"
   ]
  },
  {
   "cell_type": "markdown",
   "metadata": {},
   "source": [
    "### Evaluación"
   ]
  },
  {
   "cell_type": "markdown",
   "metadata": {},
   "source": [
    "|Tema                          |Porcentaje|Fecha     |\n",
    "|:-----------------------------|:--------:|:--------:|\n",
    "|Parcial 01 - Error y Raíces de ecuaciones  |15%       |31/08 - 01/09/2021|\n",
    "|Parcial 02 - Sistema de Ecuaciones Lineales e Interpolación|15%       |28-29/09/2021|\n",
    "|Práctica Final - Entrega 1    | 15%|02-03/11/2021|\n",
    "|Seguimiento (Quices)          | 25%|06/11/2021|\n",
    "|Parcial 03 - Diferenciación e Integración Numérica y EDO|15%|16-17/11/2021|\n",
    "|Práctica Final - Entrega 2    | 15%|23-24/112021|\n",
    "\n",
    "- ***Parciales:*** Los parciales se realizarán en el horario de clase en las fechas indicadas y tendrá una duración de 1.5 horas.\n",
    "\n",
    "\n",
    "- ***Seguimiento:*** El seguimiento consistirá de una serie de quices (exámenes cortos de no más de 20 minutos) que se desarrollarán en el horario de clase a la semana siguiente de finalizado el tema correspondiente.\n",
    "\n",
    "\n",
    "- ***Práctica:*** La práctica consistirá en el desarrollo de un trabajo grupal (hasta 3 estudiantes) en un tema de los contenidos del curso. Los temas serán indicados en las primeras semanas del semestre. Tendrá dos momentos de entrega, cada uno con un valor de 15%. En el transcurso del semestre se les compartirá la rúbrica de evaluación correspondiente."
   ]
  },
  {
   "cell_type": "markdown",
   "metadata": {},
   "source": [
    "[Volver a la Tabla de Contenido](#TOC)"
   ]
  },
  {
   "cell_type": "markdown",
   "metadata": {},
   "source": [
    "### Bibliográfia"
   ]
  },
  {
   "cell_type": "markdown",
   "metadata": {},
   "source": [
    "- Burden, Richard L. & Faires, Duglas. Análisis Numérico. Editorial Thomson. 9° Edición 2011.\n",
    "\n",
    "\n",
    "- Chapra, Steven & Canale, Raymond.  Métodos Numéricos para ingenieros, McgrawHill, 1987.\n",
    "\n",
    "\n",
    "- Heath, Michael T. Scientific Computing: An Introductory Survey, SIAM, 2006.\n",
    "\n",
    "\n",
    "- Python. Recuperado de https://www.python.org/\n",
    "\n",
    "\n",
    "- Jupyter Notebook. Recuperado de https://jupyter.org/\n",
    "\n",
    "\n",
    "- Anaconda. Recuperado de https://www.anaconda.com/\n",
    "\n",
    "\n",
    "- Google Colab. Recuperado de https://colab.research.google.com/"
   ]
  },
  {
   "cell_type": "markdown",
   "metadata": {},
   "source": [
    "[Volver a la Tabla de Contenido](#TOC)"
   ]
  },
  {
   "cell_type": "markdown",
   "metadata": {},
   "source": [
    "### Asesorías y Monitorias académicas"
   ]
  },
  {
   "cell_type": "markdown",
   "metadata": {},
   "source": [
    "Ver documento compartido por TEAMS e Interactiva"
   ]
  },
  {
   "cell_type": "markdown",
   "metadata": {},
   "source": [
    "[Volver a la Tabla de Contenido](#TOC)"
   ]
  },
  {
   "cell_type": "code",
   "execution_count": null,
   "metadata": {},
   "outputs": [],
   "source": [
    "from IPython.core.display import HTML\n",
    "def css_styling():\n",
    "    styles = open('./nb_style.css', 'r').read()\n",
    "    return HTML(styles)\n",
    "css_styling()"
   ]
  },
  {
   "cell_type": "code",
   "execution_count": null,
   "metadata": {},
   "outputs": [],
   "source": []
  }
 ],
 "metadata": {
  "kernelspec": {
   "display_name": "Python 3",
   "language": "python",
   "name": "python3"
  },
  "language_info": {
   "codemirror_mode": {
    "name": "ipython",
    "version": 3
   },
   "file_extension": ".py",
   "mimetype": "text/x-python",
   "name": "python",
   "nbconvert_exporter": "python",
   "pygments_lexer": "ipython3",
   "version": "3.6.13"
  },
  "toc": {
   "base_numbering": 1,
   "nav_menu": {},
   "number_sections": true,
   "sideBar": true,
   "skip_h1_title": true,
   "title_cell": "Tabla de Contenidos",
   "title_sidebar": "Contenidos",
   "toc_cell": true,
   "toc_position": {
    "height": "calc(100% - 180px)",
    "left": "10px",
    "top": "150px",
    "width": "165px"
   },
   "toc_section_display": true,
   "toc_window_display": true
  }
 },
 "nbformat": 4,
 "nbformat_minor": 2
}
